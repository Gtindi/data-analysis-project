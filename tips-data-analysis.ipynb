{
 "cells": [
  {
   "cell_type": "markdown",
   "metadata": {},
   "source": [
    "# The Tips Data Set\n",
    "\n",
    "### Fundamentals of Data Analysis Assessment"
   ]
  },
  {
   "cell_type": "markdown",
   "metadata": {},
   "source": [
    "***\n",
    "## 1. Introduction\n",
    "This notebook begins with a description of the tips data set obtained using summary statistics. There follows a section on regression to investigate if there is a relationship between the total bill and the tip amount. Finally, any interesting relationships between variables within the data set are teased out and investigated further. Findings from each part of the analysis are summarized in the README file."
   ]
  },
  {
   "cell_type": "markdown",
   "metadata": {},
   "source": [
    "### Preliminaries\n",
    "Load the various packages required to complete the work and set up the matplotlib plotting environment."
   ]
  },
  {
   "cell_type": "code",
   "execution_count": 1,
   "metadata": {},
   "outputs": [],
   "source": [
    "%matplotlib inline\n",
    "import numpy as np\n",
    "import pandas as pd\n",
    "import matplotlib.pyplot as plt\n",
    "import seaborn as sns\n",
    "import statsmodels.api as sm\n",
    "import sklearn.linear_model as lm"
   ]
  },
  {
   "cell_type": "markdown",
   "metadata": {},
   "source": [
    "***\n",
    "## 2. Description of the data set"
   ]
  },
  {
   "cell_type": "markdown",
   "metadata": {},
   "source": [
    "Load the data set to a dataframe and take a quick look at it by printing the first and last five lines."
   ]
  },
  {
   "cell_type": "code",
   "execution_count": 2,
   "metadata": {},
   "outputs": [
    {
     "name": "stdout",
     "output_type": "stream",
     "text": [
      "Data frame shape (244, 7) r,c\n"
     ]
    },
    {
     "data": {
      "text/html": [
       "<div>\n",
       "<style scoped>\n",
       "    .dataframe tbody tr th:only-of-type {\n",
       "        vertical-align: middle;\n",
       "    }\n",
       "\n",
       "    .dataframe tbody tr th {\n",
       "        vertical-align: top;\n",
       "    }\n",
       "\n",
       "    .dataframe thead th {\n",
       "        text-align: right;\n",
       "    }\n",
       "</style>\n",
       "<table border=\"1\" class=\"dataframe\">\n",
       "  <thead>\n",
       "    <tr style=\"text-align: right;\">\n",
       "      <th></th>\n",
       "      <th>total_bill</th>\n",
       "      <th>tip</th>\n",
       "      <th>sex</th>\n",
       "      <th>smoker</th>\n",
       "      <th>day</th>\n",
       "      <th>time</th>\n",
       "      <th>size</th>\n",
       "    </tr>\n",
       "  </thead>\n",
       "  <tbody>\n",
       "    <tr>\n",
       "      <th>0</th>\n",
       "      <td>16.99</td>\n",
       "      <td>1.01</td>\n",
       "      <td>Female</td>\n",
       "      <td>No</td>\n",
       "      <td>Sun</td>\n",
       "      <td>Dinner</td>\n",
       "      <td>2</td>\n",
       "    </tr>\n",
       "    <tr>\n",
       "      <th>1</th>\n",
       "      <td>10.34</td>\n",
       "      <td>1.66</td>\n",
       "      <td>Male</td>\n",
       "      <td>No</td>\n",
       "      <td>Sun</td>\n",
       "      <td>Dinner</td>\n",
       "      <td>3</td>\n",
       "    </tr>\n",
       "    <tr>\n",
       "      <th>2</th>\n",
       "      <td>21.01</td>\n",
       "      <td>3.50</td>\n",
       "      <td>Male</td>\n",
       "      <td>No</td>\n",
       "      <td>Sun</td>\n",
       "      <td>Dinner</td>\n",
       "      <td>3</td>\n",
       "    </tr>\n",
       "    <tr>\n",
       "      <th>3</th>\n",
       "      <td>23.68</td>\n",
       "      <td>3.31</td>\n",
       "      <td>Male</td>\n",
       "      <td>No</td>\n",
       "      <td>Sun</td>\n",
       "      <td>Dinner</td>\n",
       "      <td>2</td>\n",
       "    </tr>\n",
       "    <tr>\n",
       "      <th>4</th>\n",
       "      <td>24.59</td>\n",
       "      <td>3.61</td>\n",
       "      <td>Female</td>\n",
       "      <td>No</td>\n",
       "      <td>Sun</td>\n",
       "      <td>Dinner</td>\n",
       "      <td>4</td>\n",
       "    </tr>\n",
       "  </tbody>\n",
       "</table>\n",
       "</div>"
      ],
      "text/plain": [
       "   total_bill   tip     sex smoker  day    time  size\n",
       "0       16.99  1.01  Female     No  Sun  Dinner     2\n",
       "1       10.34  1.66    Male     No  Sun  Dinner     3\n",
       "2       21.01  3.50    Male     No  Sun  Dinner     3\n",
       "3       23.68  3.31    Male     No  Sun  Dinner     2\n",
       "4       24.59  3.61  Female     No  Sun  Dinner     4"
      ]
     },
     "execution_count": 2,
     "metadata": {},
     "output_type": "execute_result"
    }
   ],
   "source": [
    "# Load the data set.\n",
    "tips = sns.load_dataset(\"tips\")\n",
    "\n",
    "# Size?\n",
    "shape = tips.shape\n",
    "print(\"Data frame shape\", shape, \"r,c\")\n",
    "\n",
    "# Print the first/last five lines.\n",
    "tips.head()"
   ]
  },
  {
   "cell_type": "code",
   "execution_count": 3,
   "metadata": {},
   "outputs": [
    {
     "data": {
      "text/html": [
       "<div>\n",
       "<style scoped>\n",
       "    .dataframe tbody tr th:only-of-type {\n",
       "        vertical-align: middle;\n",
       "    }\n",
       "\n",
       "    .dataframe tbody tr th {\n",
       "        vertical-align: top;\n",
       "    }\n",
       "\n",
       "    .dataframe thead th {\n",
       "        text-align: right;\n",
       "    }\n",
       "</style>\n",
       "<table border=\"1\" class=\"dataframe\">\n",
       "  <thead>\n",
       "    <tr style=\"text-align: right;\">\n",
       "      <th></th>\n",
       "      <th>total_bill</th>\n",
       "      <th>tip</th>\n",
       "      <th>sex</th>\n",
       "      <th>smoker</th>\n",
       "      <th>day</th>\n",
       "      <th>time</th>\n",
       "      <th>size</th>\n",
       "    </tr>\n",
       "  </thead>\n",
       "  <tbody>\n",
       "    <tr>\n",
       "      <th>239</th>\n",
       "      <td>29.03</td>\n",
       "      <td>5.92</td>\n",
       "      <td>Male</td>\n",
       "      <td>No</td>\n",
       "      <td>Sat</td>\n",
       "      <td>Dinner</td>\n",
       "      <td>3</td>\n",
       "    </tr>\n",
       "    <tr>\n",
       "      <th>240</th>\n",
       "      <td>27.18</td>\n",
       "      <td>2.00</td>\n",
       "      <td>Female</td>\n",
       "      <td>Yes</td>\n",
       "      <td>Sat</td>\n",
       "      <td>Dinner</td>\n",
       "      <td>2</td>\n",
       "    </tr>\n",
       "    <tr>\n",
       "      <th>241</th>\n",
       "      <td>22.67</td>\n",
       "      <td>2.00</td>\n",
       "      <td>Male</td>\n",
       "      <td>Yes</td>\n",
       "      <td>Sat</td>\n",
       "      <td>Dinner</td>\n",
       "      <td>2</td>\n",
       "    </tr>\n",
       "    <tr>\n",
       "      <th>242</th>\n",
       "      <td>17.82</td>\n",
       "      <td>1.75</td>\n",
       "      <td>Male</td>\n",
       "      <td>No</td>\n",
       "      <td>Sat</td>\n",
       "      <td>Dinner</td>\n",
       "      <td>2</td>\n",
       "    </tr>\n",
       "    <tr>\n",
       "      <th>243</th>\n",
       "      <td>18.78</td>\n",
       "      <td>3.00</td>\n",
       "      <td>Female</td>\n",
       "      <td>No</td>\n",
       "      <td>Thur</td>\n",
       "      <td>Dinner</td>\n",
       "      <td>2</td>\n",
       "    </tr>\n",
       "  </tbody>\n",
       "</table>\n",
       "</div>"
      ],
      "text/plain": [
       "     total_bill   tip     sex smoker   day    time  size\n",
       "239       29.03  5.92    Male     No   Sat  Dinner     3\n",
       "240       27.18  2.00  Female    Yes   Sat  Dinner     2\n",
       "241       22.67  2.00    Male    Yes   Sat  Dinner     2\n",
       "242       17.82  1.75    Male     No   Sat  Dinner     2\n",
       "243       18.78  3.00  Female     No  Thur  Dinner     2"
      ]
     },
     "execution_count": 3,
     "metadata": {},
     "output_type": "execute_result"
    }
   ],
   "source": [
    "tips.tail()"
   ]
  },
  {
   "cell_type": "markdown",
   "metadata": {},
   "source": [
    "The rows of the data set contain **244** observations of the total bill and tip left in a resaurant, along with information about party size, day of the week, time of day, gender of the tipper, and whether or not they are a smoker. Three columns contain numeric data with class labels *total_bill*, *tip*, and *size*. The remaining four columns contain categorical data (divided into discrete groups) with class labels *sex*, *smoker*, *day*, and *time*. "
   ]
  },
  {
   "cell_type": "code",
   "execution_count": 4,
   "metadata": {},
   "outputs": [
    {
     "data": {
      "text/plain": [
       "total_bill    244\n",
       "tip           244\n",
       "sex           244\n",
       "smoker        244\n",
       "day           244\n",
       "time          244\n",
       "size          244\n",
       "dtype: int64"
      ]
     },
     "execution_count": 4,
     "metadata": {},
     "output_type": "execute_result"
    }
   ],
   "source": [
    "# Check for NaNs etc\n",
    "tips.count()"
   ]
  },
  {
   "cell_type": "markdown",
   "metadata": {},
   "source": [
    "Looks like there are no funny values in the data set so we can proceed without dealing with NaN values and other cleaning."
   ]
  },
  {
   "cell_type": "code",
   "execution_count": 5,
   "metadata": {},
   "outputs": [
    {
     "name": "stdout",
     "output_type": "stream",
     "text": [
      "       total_bill         tip        size\n",
      "count  244.000000  244.000000  244.000000\n",
      "mean    19.785943    2.998279    2.569672\n",
      "std      8.902412    1.383638    0.951100\n",
      "min      3.070000    1.000000    1.000000\n",
      "25%     13.347500    2.000000    2.000000\n",
      "50%     17.795000    2.900000    2.000000\n",
      "75%     24.127500    3.562500    3.000000\n",
      "max     50.810000   10.000000    6.000000\n"
     ]
    }
   ],
   "source": [
    "# Look at some quick descriptive statistics of the numeric data.\n",
    "print(tips.describe())"
   ]
  },
  {
   "cell_type": "markdown",
   "metadata": {},
   "source": [
    "Although this is useful, when we think of tips we usually imagine a percentage of the bill. I would say that the most important information contained in the data set is the tip as a fraction of the total bill. For this I will assume that the total_bill is the bill before the tip has been added in. "
   ]
  },
  {
   "cell_type": "code",
   "execution_count": 6,
   "metadata": {},
   "outputs": [
    {
     "data": {
      "text/html": [
       "<div>\n",
       "<style scoped>\n",
       "    .dataframe tbody tr th:only-of-type {\n",
       "        vertical-align: middle;\n",
       "    }\n",
       "\n",
       "    .dataframe tbody tr th {\n",
       "        vertical-align: top;\n",
       "    }\n",
       "\n",
       "    .dataframe thead th {\n",
       "        text-align: right;\n",
       "    }\n",
       "</style>\n",
       "<table border=\"1\" class=\"dataframe\">\n",
       "  <thead>\n",
       "    <tr style=\"text-align: right;\">\n",
       "      <th></th>\n",
       "      <th>ftip</th>\n",
       "      <th>total_bill</th>\n",
       "      <th>tip</th>\n",
       "      <th>sex</th>\n",
       "      <th>smoker</th>\n",
       "      <th>day</th>\n",
       "      <th>time</th>\n",
       "      <th>size</th>\n",
       "    </tr>\n",
       "  </thead>\n",
       "  <tbody>\n",
       "    <tr>\n",
       "      <th>0</th>\n",
       "      <td>0.059447</td>\n",
       "      <td>16.99</td>\n",
       "      <td>1.01</td>\n",
       "      <td>Female</td>\n",
       "      <td>No</td>\n",
       "      <td>Sun</td>\n",
       "      <td>Dinner</td>\n",
       "      <td>2</td>\n",
       "    </tr>\n",
       "    <tr>\n",
       "      <th>1</th>\n",
       "      <td>0.160542</td>\n",
       "      <td>10.34</td>\n",
       "      <td>1.66</td>\n",
       "      <td>Male</td>\n",
       "      <td>No</td>\n",
       "      <td>Sun</td>\n",
       "      <td>Dinner</td>\n",
       "      <td>3</td>\n",
       "    </tr>\n",
       "    <tr>\n",
       "      <th>2</th>\n",
       "      <td>0.166587</td>\n",
       "      <td>21.01</td>\n",
       "      <td>3.50</td>\n",
       "      <td>Male</td>\n",
       "      <td>No</td>\n",
       "      <td>Sun</td>\n",
       "      <td>Dinner</td>\n",
       "      <td>3</td>\n",
       "    </tr>\n",
       "    <tr>\n",
       "      <th>3</th>\n",
       "      <td>0.139780</td>\n",
       "      <td>23.68</td>\n",
       "      <td>3.31</td>\n",
       "      <td>Male</td>\n",
       "      <td>No</td>\n",
       "      <td>Sun</td>\n",
       "      <td>Dinner</td>\n",
       "      <td>2</td>\n",
       "    </tr>\n",
       "    <tr>\n",
       "      <th>4</th>\n",
       "      <td>0.146808</td>\n",
       "      <td>24.59</td>\n",
       "      <td>3.61</td>\n",
       "      <td>Female</td>\n",
       "      <td>No</td>\n",
       "      <td>Sun</td>\n",
       "      <td>Dinner</td>\n",
       "      <td>4</td>\n",
       "    </tr>\n",
       "  </tbody>\n",
       "</table>\n",
       "</div>"
      ],
      "text/plain": [
       "       ftip  total_bill   tip     sex smoker  day    time  size\n",
       "0  0.059447       16.99  1.01  Female     No  Sun  Dinner     2\n",
       "1  0.160542       10.34  1.66    Male     No  Sun  Dinner     3\n",
       "2  0.166587       21.01  3.50    Male     No  Sun  Dinner     3\n",
       "3  0.139780       23.68  3.31    Male     No  Sun  Dinner     2\n",
       "4  0.146808       24.59  3.61  Female     No  Sun  Dinner     4"
      ]
     },
     "execution_count": 6,
     "metadata": {},
     "output_type": "execute_result"
    }
   ],
   "source": [
    "# Make an empty data frame to hold tip as fraction of total bill.\n",
    "ftip = pd.DataFrame(columns=['ftip'])\n",
    "ftip['ftip'] = tips['tip']/tips['total_bill']\n",
    "\n",
    "# Attach it to tips dataframe I think so can use groupby etc, work with df from now on.\n",
    "df = pd.concat([ftip, tips], axis=1)\n",
    "\n",
    "df.head( )"
   ]
  },
  {
   "cell_type": "code",
   "execution_count": 7,
   "metadata": {
    "scrolled": false
   },
   "outputs": [
    {
     "data": {
      "text/html": [
       "<div>\n",
       "<style scoped>\n",
       "    .dataframe tbody tr th:only-of-type {\n",
       "        vertical-align: middle;\n",
       "    }\n",
       "\n",
       "    .dataframe tbody tr th {\n",
       "        vertical-align: top;\n",
       "    }\n",
       "\n",
       "    .dataframe thead th {\n",
       "        text-align: right;\n",
       "    }\n",
       "</style>\n",
       "<table border=\"1\" class=\"dataframe\">\n",
       "  <thead>\n",
       "    <tr style=\"text-align: right;\">\n",
       "      <th></th>\n",
       "      <th>ftip</th>\n",
       "      <th>total_bill</th>\n",
       "      <th>tip</th>\n",
       "      <th>sex</th>\n",
       "      <th>smoker</th>\n",
       "      <th>day</th>\n",
       "      <th>time</th>\n",
       "      <th>size</th>\n",
       "    </tr>\n",
       "  </thead>\n",
       "  <tbody>\n",
       "    <tr>\n",
       "      <th>count</th>\n",
       "      <td>244.000000</td>\n",
       "      <td>244.000000</td>\n",
       "      <td>244.000000</td>\n",
       "      <td>244</td>\n",
       "      <td>244</td>\n",
       "      <td>244</td>\n",
       "      <td>244</td>\n",
       "      <td>244.000000</td>\n",
       "    </tr>\n",
       "    <tr>\n",
       "      <th>unique</th>\n",
       "      <td>NaN</td>\n",
       "      <td>NaN</td>\n",
       "      <td>NaN</td>\n",
       "      <td>2</td>\n",
       "      <td>2</td>\n",
       "      <td>4</td>\n",
       "      <td>2</td>\n",
       "      <td>NaN</td>\n",
       "    </tr>\n",
       "    <tr>\n",
       "      <th>top</th>\n",
       "      <td>NaN</td>\n",
       "      <td>NaN</td>\n",
       "      <td>NaN</td>\n",
       "      <td>Male</td>\n",
       "      <td>No</td>\n",
       "      <td>Sat</td>\n",
       "      <td>Dinner</td>\n",
       "      <td>NaN</td>\n",
       "    </tr>\n",
       "    <tr>\n",
       "      <th>freq</th>\n",
       "      <td>NaN</td>\n",
       "      <td>NaN</td>\n",
       "      <td>NaN</td>\n",
       "      <td>157</td>\n",
       "      <td>151</td>\n",
       "      <td>87</td>\n",
       "      <td>176</td>\n",
       "      <td>NaN</td>\n",
       "    </tr>\n",
       "    <tr>\n",
       "      <th>mean</th>\n",
       "      <td>0.160803</td>\n",
       "      <td>19.785943</td>\n",
       "      <td>2.998279</td>\n",
       "      <td>NaN</td>\n",
       "      <td>NaN</td>\n",
       "      <td>NaN</td>\n",
       "      <td>NaN</td>\n",
       "      <td>2.569672</td>\n",
       "    </tr>\n",
       "    <tr>\n",
       "      <th>std</th>\n",
       "      <td>0.061072</td>\n",
       "      <td>8.902412</td>\n",
       "      <td>1.383638</td>\n",
       "      <td>NaN</td>\n",
       "      <td>NaN</td>\n",
       "      <td>NaN</td>\n",
       "      <td>NaN</td>\n",
       "      <td>0.951100</td>\n",
       "    </tr>\n",
       "    <tr>\n",
       "      <th>min</th>\n",
       "      <td>0.035638</td>\n",
       "      <td>3.070000</td>\n",
       "      <td>1.000000</td>\n",
       "      <td>NaN</td>\n",
       "      <td>NaN</td>\n",
       "      <td>NaN</td>\n",
       "      <td>NaN</td>\n",
       "      <td>1.000000</td>\n",
       "    </tr>\n",
       "    <tr>\n",
       "      <th>25%</th>\n",
       "      <td>0.129127</td>\n",
       "      <td>13.347500</td>\n",
       "      <td>2.000000</td>\n",
       "      <td>NaN</td>\n",
       "      <td>NaN</td>\n",
       "      <td>NaN</td>\n",
       "      <td>NaN</td>\n",
       "      <td>2.000000</td>\n",
       "    </tr>\n",
       "    <tr>\n",
       "      <th>50%</th>\n",
       "      <td>0.154770</td>\n",
       "      <td>17.795000</td>\n",
       "      <td>2.900000</td>\n",
       "      <td>NaN</td>\n",
       "      <td>NaN</td>\n",
       "      <td>NaN</td>\n",
       "      <td>NaN</td>\n",
       "      <td>2.000000</td>\n",
       "    </tr>\n",
       "    <tr>\n",
       "      <th>75%</th>\n",
       "      <td>0.191475</td>\n",
       "      <td>24.127500</td>\n",
       "      <td>3.562500</td>\n",
       "      <td>NaN</td>\n",
       "      <td>NaN</td>\n",
       "      <td>NaN</td>\n",
       "      <td>NaN</td>\n",
       "      <td>3.000000</td>\n",
       "    </tr>\n",
       "    <tr>\n",
       "      <th>max</th>\n",
       "      <td>0.710345</td>\n",
       "      <td>50.810000</td>\n",
       "      <td>10.000000</td>\n",
       "      <td>NaN</td>\n",
       "      <td>NaN</td>\n",
       "      <td>NaN</td>\n",
       "      <td>NaN</td>\n",
       "      <td>6.000000</td>\n",
       "    </tr>\n",
       "  </tbody>\n",
       "</table>\n",
       "</div>"
      ],
      "text/plain": [
       "              ftip  total_bill         tip   sex smoker  day    time  \\\n",
       "count   244.000000  244.000000  244.000000   244    244  244     244   \n",
       "unique         NaN         NaN         NaN     2      2    4       2   \n",
       "top            NaN         NaN         NaN  Male     No  Sat  Dinner   \n",
       "freq           NaN         NaN         NaN   157    151   87     176   \n",
       "mean      0.160803   19.785943    2.998279   NaN    NaN  NaN     NaN   \n",
       "std       0.061072    8.902412    1.383638   NaN    NaN  NaN     NaN   \n",
       "min       0.035638    3.070000    1.000000   NaN    NaN  NaN     NaN   \n",
       "25%       0.129127   13.347500    2.000000   NaN    NaN  NaN     NaN   \n",
       "50%       0.154770   17.795000    2.900000   NaN    NaN  NaN     NaN   \n",
       "75%       0.191475   24.127500    3.562500   NaN    NaN  NaN     NaN   \n",
       "max       0.710345   50.810000   10.000000   NaN    NaN  NaN     NaN   \n",
       "\n",
       "              size  \n",
       "count   244.000000  \n",
       "unique         NaN  \n",
       "top            NaN  \n",
       "freq           NaN  \n",
       "mean      2.569672  \n",
       "std       0.951100  \n",
       "min       1.000000  \n",
       "25%       2.000000  \n",
       "50%       2.000000  \n",
       "75%       3.000000  \n",
       "max       6.000000  "
      ]
     },
     "execution_count": 7,
     "metadata": {},
     "output_type": "execute_result"
    }
   ],
   "source": [
    "# Get descriptive statistics for all columns, not just the numeric ones.\n",
    "df.describe(include=\"all\")"
   ]
  },
  {
   "cell_type": "markdown",
   "metadata": {},
   "source": [
    "- It looks as if the average tip is about 16% of the total bill, although some very generous diner tipped 70% and a stingy one left only 3%.\n",
    "- The 50th percentile, or median, fractional tip is very similar to the mean fractional tip. This implies that the mean value is a typical value in the data set. \n",
    "- There are two unique values of sex, which we know to be Male and Female. Of the 244 observations, 157 concern males.\n",
    "- There are two unique values of smoker, which we know to be Yes or No. Of the 244 observations, 151 concern smokers.\n",
    "- Four unique values of day, Saturday being the most frequent with 87 of the 244 observations.\n",
    "- Two unique values of time, with most meals being dinner: 176 of the total.\n",
    "- Party size varied from 1 to 6."
   ]
  },
  {
   "cell_type": "code",
   "execution_count": 8,
   "metadata": {
    "scrolled": true
   },
   "outputs": [
    {
     "data": {
      "image/png": "[encoded data removed]",
      "text/plain": [
       "<Figure size 720x72 with 1 Axes>"
      ]
     },
     "metadata": {
      "needs_background": "light"
     },
     "output_type": "display_data"
    }
   ],
   "source": [
    "# Set up my plotting preferences.\n",
    "current_palette = sns.color_palette()\n",
    "sns.palplot(current_palette)\n",
    "sns.set_style('whitegrid')\n",
    "\n",
    "# This just sets the default plot size to be bigger.\n",
    "plt.rcParams['figure.figsize'] = (10, 6)\n",
    "# Set font size for axes labels etc.\n",
    "plt.rcParams['font.size'] = (14)"
   ]
  },
  {
   "cell_type": "markdown",
   "metadata": {},
   "source": [
    "We now start plotting some columns of the data set."
   ]
  },
  {
   "cell_type": "code",
   "execution_count": 9,
   "metadata": {
    "scrolled": true
   },
   "outputs": [
    {
     "data": {
      "text/plain": [
       "Text(0.5, 0.98, 'tip vs total bill')"
      ]
     },
     "execution_count": 9,
     "metadata": {},
     "output_type": "execute_result"
    },
    {
     "data": {
      "image/png": "[encoded data removed]",
      "text/plain": [
       "<Figure size 439.15x360 with 1 Axes>"
      ]
     },
     "metadata": {},
     "output_type": "display_data"
    }
   ],
   "source": [
    "# How does tip vary with total_bill?\n",
    "g = sns.relplot(x=\"total_bill\", y=\"tip\", hue='day', data=df) #size='time' makes the plot crowded.\n",
    "g.fig.suptitle('tip vs total bill', fontsize=14)\n",
    "# Save the plot if required.\n",
    "#g.savefig(\"images/tipVSbill.png\") # Comment out after figure saved."
   ]
  },
  {
   "cell_type": "markdown",
   "metadata": {},
   "source": [
    "In this plot each color refers to a different day. It appears that the tip does increase as the total_bill goes up. We'll be looking at this in more detail in the section on regression. For now, we'll plot the tip as a fraction of the total bill. This should be roughly a constant with some spread reflecting the range of straight lines that could be drawn through the data in the plot above."
   ]
  },
  {
   "cell_type": "code",
   "execution_count": 10,
   "metadata": {},
   "outputs": [
    {
     "data": {
      "text/plain": [
       "Text(0, 0.5, 'fractional tip')"
      ]
     },
     "execution_count": 10,
     "metadata": {},
     "output_type": "execute_result"
    },
    {
     "data": {
      "image/png": "[encoded data removed]",
      "text/plain": [
       "<Figure size 720x432 with 1 Axes>"
      ]
     },
     "metadata": {},
     "output_type": "display_data"
    }
   ],
   "source": [
    "# Tip as a fraction of the total_bill.\n",
    "plt.plot(df['ftip'], '.r')\n",
    "plt.title('Tip as a fraction of total bill', fontsize='14')\n",
    "plt.xlabel('sample', fontsize='14')\n",
    "plt.ylabel('fractional tip', fontsize='14')"
   ]
  },
  {
   "cell_type": "markdown",
   "metadata": {},
   "source": [
    "There seems to be one outlier - the 70% tip. It might be better to ignore it, we'll see later. For now just find it's location and who it refers to."
   ]
  },
  {
   "cell_type": "code",
   "execution_count": 11,
   "metadata": {},
   "outputs": [
    {
     "data": {
      "text/html": [
       "<div>\n",
       "<style scoped>\n",
       "    .dataframe tbody tr th:only-of-type {\n",
       "        vertical-align: middle;\n",
       "    }\n",
       "\n",
       "    .dataframe tbody tr th {\n",
       "        vertical-align: top;\n",
       "    }\n",
       "\n",
       "    .dataframe thead th {\n",
       "        text-align: right;\n",
       "    }\n",
       "</style>\n",
       "<table border=\"1\" class=\"dataframe\">\n",
       "  <thead>\n",
       "    <tr style=\"text-align: right;\">\n",
       "      <th></th>\n",
       "      <th>ftip</th>\n",
       "      <th>total_bill</th>\n",
       "      <th>tip</th>\n",
       "      <th>sex</th>\n",
       "      <th>smoker</th>\n",
       "      <th>day</th>\n",
       "      <th>time</th>\n",
       "      <th>size</th>\n",
       "    </tr>\n",
       "  </thead>\n",
       "  <tbody>\n",
       "    <tr>\n",
       "      <th>172</th>\n",
       "      <td>0.710345</td>\n",
       "      <td>7.25</td>\n",
       "      <td>5.15</td>\n",
       "      <td>Male</td>\n",
       "      <td>Yes</td>\n",
       "      <td>Sun</td>\n",
       "      <td>Dinner</td>\n",
       "      <td>2</td>\n",
       "    </tr>\n",
       "  </tbody>\n",
       "</table>\n",
       "</div>"
      ],
      "text/plain": [
       "         ftip  total_bill   tip   sex smoker  day    time  size\n",
       "172  0.710345        7.25  5.15  Male    Yes  Sun  Dinner     2"
      ]
     },
     "execution_count": 11,
     "metadata": {},
     "output_type": "execute_result"
    }
   ],
   "source": [
    "# Identify the outlier.\n",
    "df.iloc[df.index[df['ftip'] > 0.5]]"
   ]
  },
  {
   "cell_type": "code",
   "execution_count": 12,
   "metadata": {},
   "outputs": [
    {
     "name": "stdout",
     "output_type": "stream",
     "text": [
      "Dining times are:  [Dinner, Lunch]\n",
      "Categories (2, object): [Dinner, Lunch]\n",
      "Days are:  [Sun, Sat, Thur, Fri]\n",
      "Categories (4, object): [Sun, Sat, Thur, Fri]\n"
     ]
    }
   ],
   "source": [
    "# What are the days and dining times contained in the data set?\n",
    "print(\"Dining times are: \", df.time.unique())\n",
    "print(\"Days are: \", df.day.unique())"
   ]
  },
  {
   "cell_type": "markdown",
   "metadata": {},
   "source": [
    "### Dig deeper into the data set.\n",
    "I will now look at how some of the other variables affect tip size. Although Seaborn allows for some very complicated visualizations, I prefer not to put too much information on one plot at this stage."
   ]
  },
  {
   "cell_type": "code",
   "execution_count": 13,
   "metadata": {},
   "outputs": [
    {
     "data": {
      "text/plain": [
       "[Text(0, 0.5, 'frequency'), Text(0.5, 0, 'ftip')]"
      ]
     },
     "execution_count": 13,
     "metadata": {},
     "output_type": "execute_result"
    },
    {
     "data": {
      "image/png": "[encoded data removed]",
      "text/plain": [
       "<Figure size 720x432 with 1 Axes>"
      ]
     },
     "metadata": {},
     "output_type": "display_data"
    }
   ],
   "source": [
    "# Histogram of all fractional tips.\n",
    "ax = sns.distplot(df['ftip'])\n",
    "ax.set(xlabel= 'ftip', ylabel= 'frequency')"
   ]
  },
  {
   "cell_type": "markdown",
   "metadata": {},
   "source": [
    "That outlier at 0.7 is going to mess up my plots if I leave it in place. I'm tempted to ignore it/replace it with something. I don't think it will affect calculations of mean etc too much though, it just doesn't look nice."
   ]
  },
  {
   "cell_type": "code",
   "execution_count": 14,
   "metadata": {
    "scrolled": true
   },
   "outputs": [
    {
     "data": {
      "text/plain": [
       "<matplotlib.axes._subplots.AxesSubplot at 0x1faec325f28>"
      ]
     },
     "execution_count": 14,
     "metadata": {},
     "output_type": "execute_result"
    },
    {
     "data": {
      "image/png": "[encoded data removed]",
      "text/plain": [
       "<Figure size 720x432 with 1 Axes>"
      ]
     },
     "metadata": {},
     "output_type": "display_data"
    }
   ],
   "source": [
    "# Plot the fractional tip for smokers/non-smokers and male/female.\n",
    "# Ignoring outlier doesn't have much effect. I checked that with commented code.\n",
    "sns.barplot(x= 'smoker', y= 'ftip', hue='sex', data = df, capsize=.2) #data = df[df.ftip < 0.6]\n",
    "# Save the plot if required.\n",
    "#plt.savefig(\"images/barSmokerSex.png\")"
   ]
  },
  {
   "cell_type": "markdown",
   "metadata": {},
   "source": [
    "This Seaborn barplot shows the mean fractional tip for male/female smokers/non-smokers. The error bars mark the 95% confidence interval: range within which there is a 95% chance of finding the mean. Looks like male and female non-smokers leave very similar fractional tips. However, female smokers leave larger tips on average, as a fraction of the total bill, than male smokers."
   ]
  },
  {
   "cell_type": "code",
   "execution_count": 15,
   "metadata": {},
   "outputs": [
    {
     "data": {
      "text/plain": [
       "<matplotlib.axes._subplots.AxesSubplot at 0x1faec4b1240>"
      ]
     },
     "execution_count": 15,
     "metadata": {},
     "output_type": "execute_result"
    },
    {
     "data": {
      "image/png": "[encoded data removed]",
      "text/plain": [
       "<Figure size 720x432 with 1 Axes>"
      ]
     },
     "metadata": {},
     "output_type": "display_data"
    }
   ],
   "source": [
    "# How does the time affect the fractional tip?\n",
    "sns.barplot(x=\"day\", y=\"ftip\", hue=\"time\", data=df, capsize=.2) #data=df[df.ftip < 0.6] to ignore outlier\n",
    "# Save the plot if required.\n",
    "#plt.savefig(\"images/barDayTime.png\")"
   ]
  },
  {
   "cell_type": "markdown",
   "metadata": {},
   "source": [
    "From the above plot we see that while data from only dinner is recorded on Saturday and Sunday, both lunch and dinner are recorded on Fridays, and there seems to be only one observation relating to dinner on Thursday. On average, the largest fractional tips are left on Fridays at lunchtime - maybe happy end of week work lunches? We will look at how the variables are intertwined later on in the notebook."
   ]
  },
  {
   "cell_type": "code",
   "execution_count": 16,
   "metadata": {},
   "outputs": [
    {
     "data": {
      "text/plain": [
       "<seaborn.axisgrid.FacetGrid at 0x1faec493da0>"
      ]
     },
     "execution_count": 16,
     "metadata": {},
     "output_type": "execute_result"
    },
    {
     "data": {
      "image/png": "[encoded data removed]",
      "text/plain": [
       "<Figure size 720x720 with 4 Axes>"
      ]
     },
     "metadata": {},
     "output_type": "display_data"
    }
   ],
   "source": [
    "# Try to combine the categorical variables using catplot to make a grid of plots.\n",
    "# Ignore outlier.\n",
    "sns.catplot(x='day', y='ftip', row='smoker', col='sex', kind='box', data = df[df.ftip < 0.6])"
   ]
  },
  {
   "cell_type": "markdown",
   "metadata": {},
   "source": [
    "This faceted box plot attempts to show the fractional tip as a function of day, with the data arranged by categorical variables smoker and sex. Note how all the y axis ranges are identical for ease of comparison. Each box shows the quartiles of the data set, the whiskers show the range, and outliers appear as points. Quartiles divide the data into quarters; the first quartile is the middle of the smallest number and the median, the second quartile is the median value, and the third quarter is the middle of the median and the largest number in the data set. This plot again confirms that non-smokers, regardless of whether they are male or female, leave similar tips (bottom two plots above). There's a bit more variation for tips left by males and females when they are smokers (top two plots).  "
   ]
  },
  {
   "cell_type": "markdown",
   "metadata": {},
   "source": [
    "Confirm this difference in tipping behavior between male and female smokers by using Pandas **agg()** to look at mean values of numeric columns for those two categorical variables. Count the number of observations in each category at the same time; the total of each column should equal 244."
   ]
  },
  {
   "cell_type": "code",
   "execution_count": 17,
   "metadata": {},
   "outputs": [
    {
     "data": {
      "text/html": [
       "<div>\n",
       "<style scoped>\n",
       "    .dataframe tbody tr th:only-of-type {\n",
       "        vertical-align: middle;\n",
       "    }\n",
       "\n",
       "    .dataframe tbody tr th {\n",
       "        vertical-align: top;\n",
       "    }\n",
       "\n",
       "    .dataframe thead tr th {\n",
       "        text-align: left;\n",
       "    }\n",
       "\n",
       "    .dataframe thead tr:last-of-type th {\n",
       "        text-align: right;\n",
       "    }\n",
       "</style>\n",
       "<table border=\"1\" class=\"dataframe\">\n",
       "  <thead>\n",
       "    <tr>\n",
       "      <th></th>\n",
       "      <th></th>\n",
       "      <th colspan=\"2\" halign=\"left\">ftip</th>\n",
       "      <th colspan=\"2\" halign=\"left\">total_bill</th>\n",
       "      <th colspan=\"2\" halign=\"left\">tip</th>\n",
       "      <th colspan=\"2\" halign=\"left\">size</th>\n",
       "    </tr>\n",
       "    <tr>\n",
       "      <th></th>\n",
       "      <th></th>\n",
       "      <th>count</th>\n",
       "      <th>mean</th>\n",
       "      <th>count</th>\n",
       "      <th>mean</th>\n",
       "      <th>count</th>\n",
       "      <th>mean</th>\n",
       "      <th>count</th>\n",
       "      <th>mean</th>\n",
       "    </tr>\n",
       "    <tr>\n",
       "      <th>smoker</th>\n",
       "      <th>sex</th>\n",
       "      <th></th>\n",
       "      <th></th>\n",
       "      <th></th>\n",
       "      <th></th>\n",
       "      <th></th>\n",
       "      <th></th>\n",
       "      <th></th>\n",
       "      <th></th>\n",
       "    </tr>\n",
       "  </thead>\n",
       "  <tbody>\n",
       "    <tr>\n",
       "      <th rowspan=\"2\" valign=\"top\">Yes</th>\n",
       "      <th>Male</th>\n",
       "      <td>60</td>\n",
       "      <td>0.152771</td>\n",
       "      <td>60</td>\n",
       "      <td>22.284500</td>\n",
       "      <td>60</td>\n",
       "      <td>3.051167</td>\n",
       "      <td>60</td>\n",
       "      <td>2.500000</td>\n",
       "    </tr>\n",
       "    <tr>\n",
       "      <th>Female</th>\n",
       "      <td>33</td>\n",
       "      <td>0.182150</td>\n",
       "      <td>33</td>\n",
       "      <td>17.977879</td>\n",
       "      <td>33</td>\n",
       "      <td>2.931515</td>\n",
       "      <td>33</td>\n",
       "      <td>2.242424</td>\n",
       "    </tr>\n",
       "    <tr>\n",
       "      <th rowspan=\"2\" valign=\"top\">No</th>\n",
       "      <th>Male</th>\n",
       "      <td>97</td>\n",
       "      <td>0.160669</td>\n",
       "      <td>97</td>\n",
       "      <td>19.791237</td>\n",
       "      <td>97</td>\n",
       "      <td>3.113402</td>\n",
       "      <td>97</td>\n",
       "      <td>2.711340</td>\n",
       "    </tr>\n",
       "    <tr>\n",
       "      <th>Female</th>\n",
       "      <td>54</td>\n",
       "      <td>0.156921</td>\n",
       "      <td>54</td>\n",
       "      <td>18.105185</td>\n",
       "      <td>54</td>\n",
       "      <td>2.773519</td>\n",
       "      <td>54</td>\n",
       "      <td>2.592593</td>\n",
       "    </tr>\n",
       "  </tbody>\n",
       "</table>\n",
       "</div>"
      ],
      "text/plain": [
       "               ftip           total_bill              tip            size  \\\n",
       "              count      mean      count       mean count      mean count   \n",
       "smoker sex                                                                  \n",
       "Yes    Male      60  0.152771         60  22.284500    60  3.051167    60   \n",
       "       Female    33  0.182150         33  17.977879    33  2.931515    33   \n",
       "No     Male      97  0.160669         97  19.791237    97  3.113402    97   \n",
       "       Female    54  0.156921         54  18.105185    54  2.773519    54   \n",
       "\n",
       "                         \n",
       "                   mean  \n",
       "smoker sex               \n",
       "Yes    Male    2.500000  \n",
       "       Female  2.242424  \n",
       "No     Male    2.711340  \n",
       "       Female  2.592593  "
      ]
     },
     "execution_count": 17,
     "metadata": {},
     "output_type": "execute_result"
    }
   ],
   "source": [
    "df.groupby(['smoker', 'sex']).agg(['count','mean'])"
   ]
  },
  {
   "cell_type": "markdown",
   "metadata": {},
   "source": [
    "For this combination of categorical variables the largest average fractional tip appears in the female smoker cell. Do the same thing for day and time categorical variables; largest mean fractional tip is left at lunchtime on Friday."
   ]
  },
  {
   "cell_type": "code",
   "execution_count": 18,
   "metadata": {},
   "outputs": [
    {
     "data": {
      "text/html": [
       "<div>\n",
       "<style scoped>\n",
       "    .dataframe tbody tr th:only-of-type {\n",
       "        vertical-align: middle;\n",
       "    }\n",
       "\n",
       "    .dataframe tbody tr th {\n",
       "        vertical-align: top;\n",
       "    }\n",
       "\n",
       "    .dataframe thead tr th {\n",
       "        text-align: left;\n",
       "    }\n",
       "\n",
       "    .dataframe thead tr:last-of-type th {\n",
       "        text-align: right;\n",
       "    }\n",
       "</style>\n",
       "<table border=\"1\" class=\"dataframe\">\n",
       "  <thead>\n",
       "    <tr>\n",
       "      <th></th>\n",
       "      <th></th>\n",
       "      <th colspan=\"2\" halign=\"left\">ftip</th>\n",
       "      <th colspan=\"2\" halign=\"left\">total_bill</th>\n",
       "      <th colspan=\"2\" halign=\"left\">tip</th>\n",
       "      <th colspan=\"2\" halign=\"left\">size</th>\n",
       "    </tr>\n",
       "    <tr>\n",
       "      <th></th>\n",
       "      <th></th>\n",
       "      <th>count</th>\n",
       "      <th>mean</th>\n",
       "      <th>count</th>\n",
       "      <th>mean</th>\n",
       "      <th>count</th>\n",
       "      <th>mean</th>\n",
       "      <th>count</th>\n",
       "      <th>mean</th>\n",
       "    </tr>\n",
       "    <tr>\n",
       "      <th>day</th>\n",
       "      <th>time</th>\n",
       "      <th></th>\n",
       "      <th></th>\n",
       "      <th></th>\n",
       "      <th></th>\n",
       "      <th></th>\n",
       "      <th></th>\n",
       "      <th></th>\n",
       "      <th></th>\n",
       "    </tr>\n",
       "  </thead>\n",
       "  <tbody>\n",
       "    <tr>\n",
       "      <th rowspan=\"2\" valign=\"top\">Thur</th>\n",
       "      <th>Lunch</th>\n",
       "      <td>61</td>\n",
       "      <td>0.161301</td>\n",
       "      <td>61</td>\n",
       "      <td>17.664754</td>\n",
       "      <td>61</td>\n",
       "      <td>2.767705</td>\n",
       "      <td>61</td>\n",
       "      <td>2.459016</td>\n",
       "    </tr>\n",
       "    <tr>\n",
       "      <th>Dinner</th>\n",
       "      <td>1</td>\n",
       "      <td>0.159744</td>\n",
       "      <td>1</td>\n",
       "      <td>18.780000</td>\n",
       "      <td>1</td>\n",
       "      <td>3.000000</td>\n",
       "      <td>1</td>\n",
       "      <td>2.000000</td>\n",
       "    </tr>\n",
       "    <tr>\n",
       "      <th rowspan=\"2\" valign=\"top\">Fri</th>\n",
       "      <th>Lunch</th>\n",
       "      <td>7</td>\n",
       "      <td>0.188765</td>\n",
       "      <td>7</td>\n",
       "      <td>12.845714</td>\n",
       "      <td>7</td>\n",
       "      <td>2.382857</td>\n",
       "      <td>7</td>\n",
       "      <td>2.000000</td>\n",
       "    </tr>\n",
       "    <tr>\n",
       "      <th>Dinner</th>\n",
       "      <td>12</td>\n",
       "      <td>0.158916</td>\n",
       "      <td>12</td>\n",
       "      <td>19.663333</td>\n",
       "      <td>12</td>\n",
       "      <td>2.940000</td>\n",
       "      <td>12</td>\n",
       "      <td>2.166667</td>\n",
       "    </tr>\n",
       "    <tr>\n",
       "      <th>Sat</th>\n",
       "      <th>Dinner</th>\n",
       "      <td>87</td>\n",
       "      <td>0.153152</td>\n",
       "      <td>87</td>\n",
       "      <td>20.441379</td>\n",
       "      <td>87</td>\n",
       "      <td>2.993103</td>\n",
       "      <td>87</td>\n",
       "      <td>2.517241</td>\n",
       "    </tr>\n",
       "    <tr>\n",
       "      <th>Sun</th>\n",
       "      <th>Dinner</th>\n",
       "      <td>76</td>\n",
       "      <td>0.166897</td>\n",
       "      <td>76</td>\n",
       "      <td>21.410000</td>\n",
       "      <td>76</td>\n",
       "      <td>3.255132</td>\n",
       "      <td>76</td>\n",
       "      <td>2.842105</td>\n",
       "    </tr>\n",
       "  </tbody>\n",
       "</table>\n",
       "</div>"
      ],
      "text/plain": [
       "             ftip           total_bill              tip            size  \\\n",
       "            count      mean      count       mean count      mean count   \n",
       "day  time                                                                 \n",
       "Thur Lunch     61  0.161301         61  17.664754    61  2.767705    61   \n",
       "     Dinner     1  0.159744          1  18.780000     1  3.000000     1   \n",
       "Fri  Lunch      7  0.188765          7  12.845714     7  2.382857     7   \n",
       "     Dinner    12  0.158916         12  19.663333    12  2.940000    12   \n",
       "Sat  Dinner    87  0.153152         87  20.441379    87  2.993103    87   \n",
       "Sun  Dinner    76  0.166897         76  21.410000    76  3.255132    76   \n",
       "\n",
       "                       \n",
       "                 mean  \n",
       "day  time              \n",
       "Thur Lunch   2.459016  \n",
       "     Dinner  2.000000  \n",
       "Fri  Lunch   2.000000  \n",
       "     Dinner  2.166667  \n",
       "Sat  Dinner  2.517241  \n",
       "Sun  Dinner  2.842105  "
      ]
     },
     "execution_count": 18,
     "metadata": {},
     "output_type": "execute_result"
    }
   ],
   "source": [
    "df.groupby(['day', 'time']).agg(['count','mean'])"
   ]
  },
  {
   "cell_type": "markdown",
   "metadata": {},
   "source": [
    "How does the size of the dining party affect the tip left?"
   ]
  },
  {
   "cell_type": "code",
   "execution_count": 19,
   "metadata": {},
   "outputs": [
    {
     "data": {
      "text/html": [
       "<div>\n",
       "<style scoped>\n",
       "    .dataframe tbody tr th:only-of-type {\n",
       "        vertical-align: middle;\n",
       "    }\n",
       "\n",
       "    .dataframe tbody tr th {\n",
       "        vertical-align: top;\n",
       "    }\n",
       "\n",
       "    .dataframe thead tr th {\n",
       "        text-align: left;\n",
       "    }\n",
       "\n",
       "    .dataframe thead tr:last-of-type th {\n",
       "        text-align: right;\n",
       "    }\n",
       "</style>\n",
       "<table border=\"1\" class=\"dataframe\">\n",
       "  <thead>\n",
       "    <tr>\n",
       "      <th></th>\n",
       "      <th colspan=\"2\" halign=\"left\">ftip</th>\n",
       "      <th colspan=\"2\" halign=\"left\">total_bill</th>\n",
       "      <th colspan=\"2\" halign=\"left\">tip</th>\n",
       "    </tr>\n",
       "    <tr>\n",
       "      <th></th>\n",
       "      <th>count</th>\n",
       "      <th>mean</th>\n",
       "      <th>count</th>\n",
       "      <th>mean</th>\n",
       "      <th>count</th>\n",
       "      <th>mean</th>\n",
       "    </tr>\n",
       "    <tr>\n",
       "      <th>size</th>\n",
       "      <th></th>\n",
       "      <th></th>\n",
       "      <th></th>\n",
       "      <th></th>\n",
       "      <th></th>\n",
       "      <th></th>\n",
       "    </tr>\n",
       "  </thead>\n",
       "  <tbody>\n",
       "    <tr>\n",
       "      <th>1</th>\n",
       "      <td>4</td>\n",
       "      <td>0.217292</td>\n",
       "      <td>4</td>\n",
       "      <td>7.242500</td>\n",
       "      <td>4</td>\n",
       "      <td>1.437500</td>\n",
       "    </tr>\n",
       "    <tr>\n",
       "      <th>2</th>\n",
       "      <td>156</td>\n",
       "      <td>0.165719</td>\n",
       "      <td>156</td>\n",
       "      <td>16.448013</td>\n",
       "      <td>156</td>\n",
       "      <td>2.582308</td>\n",
       "    </tr>\n",
       "    <tr>\n",
       "      <th>3</th>\n",
       "      <td>38</td>\n",
       "      <td>0.152157</td>\n",
       "      <td>38</td>\n",
       "      <td>23.277632</td>\n",
       "      <td>38</td>\n",
       "      <td>3.393158</td>\n",
       "    </tr>\n",
       "    <tr>\n",
       "      <th>4</th>\n",
       "      <td>37</td>\n",
       "      <td>0.145949</td>\n",
       "      <td>37</td>\n",
       "      <td>28.613514</td>\n",
       "      <td>37</td>\n",
       "      <td>4.135405</td>\n",
       "    </tr>\n",
       "    <tr>\n",
       "      <th>5</th>\n",
       "      <td>5</td>\n",
       "      <td>0.141495</td>\n",
       "      <td>5</td>\n",
       "      <td>30.068000</td>\n",
       "      <td>5</td>\n",
       "      <td>4.028000</td>\n",
       "    </tr>\n",
       "    <tr>\n",
       "      <th>6</th>\n",
       "      <td>4</td>\n",
       "      <td>0.156229</td>\n",
       "      <td>4</td>\n",
       "      <td>34.830000</td>\n",
       "      <td>4</td>\n",
       "      <td>5.225000</td>\n",
       "    </tr>\n",
       "  </tbody>\n",
       "</table>\n",
       "</div>"
      ],
      "text/plain": [
       "      ftip           total_bill              tip          \n",
       "     count      mean      count       mean count      mean\n",
       "size                                                      \n",
       "1        4  0.217292          4   7.242500     4  1.437500\n",
       "2      156  0.165719        156  16.448013   156  2.582308\n",
       "3       38  0.152157         38  23.277632    38  3.393158\n",
       "4       37  0.145949         37  28.613514    37  4.135405\n",
       "5        5  0.141495          5  30.068000     5  4.028000\n",
       "6        4  0.156229          4  34.830000     4  5.225000"
      ]
     },
     "execution_count": 19,
     "metadata": {},
     "output_type": "execute_result"
    }
   ],
   "source": [
    "df.groupby(['size']).agg(['count', 'mean'])"
   ]
  },
  {
   "cell_type": "markdown",
   "metadata": {},
   "source": [
    "Looks like the best average tip is left for dining parties of one. That's a bit misleading as they account for only 4 out of 244 observations. We can see this on a scatterplot. It looks like there are only a few people dining alone or in groups of 5 or 6. Most party sizes are 2 (156 of 244), with party sizes 3 and 4 also significant at around 15% of the total each. Maybe only look at a single party size? Other ways of grouping data? For last part of assessment perhaps."
   ]
  },
  {
   "cell_type": "code",
   "execution_count": 20,
   "metadata": {},
   "outputs": [
    {
     "data": {
      "text/plain": [
       "<matplotlib.axes._subplots.AxesSubplot at 0x1faed9f1d68>"
      ]
     },
     "execution_count": 20,
     "metadata": {},
     "output_type": "execute_result"
    },
    {
     "data": {
      "image/png": "[encoded data removed]",
      "text/plain": [
       "<Figure size 720x432 with 1 Axes>"
      ]
     },
     "metadata": {},
     "output_type": "display_data"
    }
   ],
   "source": [
    "sns.scatterplot(x='size', y='ftip', data = df[df.ftip < 0.6]) # hue='smoker'"
   ]
  },
  {
   "cell_type": "markdown",
   "metadata": {},
   "source": [
    "***\n",
    "## 3. Regression"
   ]
  },
  {
   "cell_type": "markdown",
   "metadata": {},
   "source": [
    "### 3.1 Linear regression using Seaborn\n",
    "\n",
    "Now we will check to see if there is a relationship between the total bill and tip amount? We'll begin by using Seaborn to graphically look at all rows in the data set and check for a linear relationship on a plot of tip versus total_bill. Seaborn regplot draws a scatterplot of the two variables of interest, then fits a straight line to the data and plots the resulting regression line and a 95% confidence interval for that regression. It is a visual tool only, it does not return any parameters such as the slope and intercept of the fit, or the $R^2$ value."
   ]
  },
  {
   "cell_type": "code",
   "execution_count": 21,
   "metadata": {},
   "outputs": [
    {
     "data": {
      "text/plain": [
       "<matplotlib.axes._subplots.AxesSubplot at 0x1faedc6d550>"
      ]
     },
     "execution_count": 21,
     "metadata": {},
     "output_type": "execute_result"
    },
    {
     "data": {
      "image/png": "[encoded data removed]",
      "text/plain": [
       "<Figure size 720x432 with 1 Axes>"
      ]
     },
     "metadata": {},
     "output_type": "display_data"
    }
   ],
   "source": [
    "# Examine all rows first.\n",
    "sns.regplot(x=\"total_bill\", y=\"tip\", data=df)"
   ]
  },
  {
   "cell_type": "markdown",
   "metadata": {},
   "source": [
    "The shaded region in Seaborn regplot represents a 95% confidence interval for the regression. I would say this isn't a great fit, although there appears to be a linear relationship there. I wonder if subsets of the data might give *prettier* looking fits? For example, we can differentiate between smokers and non-smokers in the regplot."
   ]
  },
  {
   "cell_type": "code",
   "execution_count": 22,
   "metadata": {},
   "outputs": [
    {
     "data": {
      "text/plain": [
       "<seaborn.axisgrid.FacetGrid at 0x1faec20f278>"
      ]
     },
     "execution_count": 22,
     "metadata": {},
     "output_type": "execute_result"
    },
    {
     "data": {
      "image/png": "[encoded data removed]",
      "text/plain": [
       "<Figure size 434.384x360 with 1 Axes>"
      ]
     },
     "metadata": {},
     "output_type": "display_data"
    }
   ],
   "source": [
    "# Now differentiate between smokers and non-smokers.\n",
    "sns.lmplot(x=\"total_bill\", y=\"tip\", hue=\"smoker\", data=tips)"
   ]
  },
  {
   "cell_type": "markdown",
   "metadata": {},
   "source": [
    "The slopes of these lines are clearly different (although we can't access their values). Confidence intervals don't even overlap here. I wonder if the $R^2$ values are very different, signifying a better linear fit for smokers/non-smokers? One to explore later?"
   ]
  },
  {
   "cell_type": "code",
   "execution_count": 23,
   "metadata": {},
   "outputs": [
    {
     "data": {
      "text/plain": [
       "<seaborn.axisgrid.FacetGrid at 0x1faec2f6f60>"
      ]
     },
     "execution_count": 23,
     "metadata": {},
     "output_type": "execute_result"
    },
    {
     "data": {
      "image/png": "[encoded data removed]",
      "text/plain": [
       "<Figure size 456.775x360 with 1 Axes>"
      ]
     },
     "metadata": {},
     "output_type": "display_data"
    }
   ],
   "source": [
    "# Now differentiate between Male and Female.\n",
    "sns.lmplot(x=\"total_bill\", y=\"tip\", hue=\"sex\", data=tips)"
   ]
  },
  {
   "cell_type": "markdown",
   "metadata": {},
   "source": [
    "Very good overlap between confidence intervals and the best fit lines here, so probably not worth considering gender alone as an interesting factor? We could continue to look at various factors below. It's difficult to tell what's going on when we set hue = day or size, but hue = time produces a similar plot to hue = sex."
   ]
  },
  {
   "cell_type": "code",
   "execution_count": 24,
   "metadata": {},
   "outputs": [],
   "source": [
    "# Try other hues. Comment out as clutter.\n",
    "# sns.lmplot(x=\"total_bill\", y=\"tip\", hue=\"time\", data=tips)"
   ]
  },
  {
   "cell_type": "markdown",
   "metadata": {},
   "source": [
    "### 3.2 Simple linear regression\n",
    "After listening to the week 9 lectures for this module on simple linear regression, I now include, for the sake of completeness, a simple linear regression model. This section was actually completed after the work in 3.3 and 3.4 below. "
   ]
  },
  {
   "cell_type": "code",
   "execution_count": 25,
   "metadata": {},
   "outputs": [
    {
     "name": "stdout",
     "output_type": "stream",
     "text": [
      "Polyfit: m = 0.105025, c = 0.920270.\n"
     ]
    },
    {
     "data": {
      "text/plain": [
       "<matplotlib.legend.Legend at 0x1faedd77860>"
      ]
     },
     "execution_count": 25,
     "metadata": {},
     "output_type": "execute_result"
    },
    {
     "data": {
      "image/png": "[encoded data removed]",
      "text/plain": [
       "<Figure size 720x432 with 1 Axes>"
      ]
     },
     "metadata": {},
     "output_type": "display_data"
    }
   ],
   "source": [
    "# Use numpy.polyfit(x, y, deg of the fit (1 is linear))\n",
    "# x is the tip column of the data set.\n",
    "# y is the total_bill column of the data set.\n",
    "\n",
    "# Do simple linear regression\n",
    "slr = np.polyfit(df['total_bill'], df['tip'], 1)\n",
    "fit_m, fit_c = slr[0], slr[1]\n",
    "print(\"Polyfit: m = %8.6f, c = %6.6f.\" % (fit_m, fit_c))\n",
    "\n",
    "# Plot data and fitted line.\n",
    "plt.plot(df['total_bill'], df['tip'], '.b', label='data')\n",
    "\n",
    "# Plot fitted line.\n",
    "x = np.arange(0.0, 60.0, 1.0)\n",
    "plt.plot(x, fit_m * x + fit_c, 'r-', label=\"fit\")\n",
    "\n",
    "plt.title('Tip vs total bill', fontsize='14')\n",
    "plt.xlabel('total bill', fontsize='14')\n",
    "plt.ylabel('tip', fontsize='14')\n",
    "plt.xlim(0, 60)\n",
    "plt.ylim(0, 12)\n",
    "plt.legend()\n",
    "\n",
    "# Save the plot if required.\n",
    "# plt.savefig(\"images/LSQalldata.png\")"
   ]
  },
  {
   "cell_type": "markdown",
   "metadata": {},
   "source": [
    "How do we check how good this fit is? As per the lecture on this topic, each fit has a cost. We want to identify the fitting parameters which minimize that cost. The numpy.polyfit function above does that automatically for us. If we want to get a metric telling us how good the fit is for these fitting parameters, we can use numpy.corrcoef to calculate the correlation matrix for the two variables (tip, total_bill); or, how strong is the linear relationship between the two variables?. The result is a 2x2 matrix (because we have 2 variables), and the off-diagonal elements can be used to calculate the $R^2$ value. "
   ]
  },
  {
   "cell_type": "code",
   "execution_count": 26,
   "metadata": {},
   "outputs": [
    {
     "name": "stdout",
     "output_type": "stream",
     "text": [
      "[[1.         0.67573411]\n",
      " [0.67573411 1.        ]]\n",
      "R squared for this fit is: 0.457\n"
     ]
    }
   ],
   "source": [
    "# Calculate the correlation matrix.\n",
    "print(np.corrcoef(df['total_bill'], df['tip']))\n",
    "\n",
    "# Square off-diagonal element to get Rsquared. [row=0][col=1]\n",
    "print(\"R squared for this fit is:\", round(np.corrcoef(df['total_bill'], df['tip'])[0][1] ** 2, 3))"
   ]
  },
  {
   "cell_type": "markdown",
   "metadata": {},
   "source": [
    "### 3.3 Regression using Statsmodels"
   ]
  },
  {
   "cell_type": "markdown",
   "metadata": {},
   "source": [
    "We continue investigating if the tip amount is proportional to the total bill. We will try some ordinary least squares (OLS) fitting using the statsmodels package. The regression model we will use is OLS(y,X) and we will add a y intercept to the X data. We want to check if **tip = m total_bill + c**, where m is the slope, c is the y intercept. We do not consider any of the categorical variables at this stage."
   ]
  },
  {
   "cell_type": "code",
   "execution_count": 27,
   "metadata": {},
   "outputs": [
    {
     "name": "stdout",
     "output_type": "stream",
     "text": [
      "                            OLS Regression Results                            \n",
      "==============================================================================\n",
      "Dep. Variable:                    tip   R-squared:                       0.457\n",
      "Model:                            OLS   Adj. R-squared:                  0.454\n",
      "Method:                 Least Squares   F-statistic:                     203.4\n",
      "Date:                Tue, 12 Nov 2019   Prob (F-statistic):           6.69e-34\n",
      "Time:                        18:19:32   Log-Likelihood:                -350.54\n",
      "No. Observations:                 244   AIC:                             705.1\n",
      "Df Residuals:                     242   BIC:                             712.1\n",
      "Df Model:                           1                                         \n",
      "Covariance Type:            nonrobust                                         \n",
      "==============================================================================\n",
      "                 coef    std err          t      P>|t|      [0.025      0.975]\n",
      "------------------------------------------------------------------------------\n",
      "const          0.9203      0.160      5.761      0.000       0.606       1.235\n",
      "x1             0.1050      0.007     14.260      0.000       0.091       0.120\n",
      "==============================================================================\n",
      "Omnibus:                       20.185   Durbin-Watson:                   2.151\n",
      "Prob(Omnibus):                  0.000   Jarque-Bera (JB):               37.750\n",
      "Skew:                           0.443   Prob(JB):                     6.35e-09\n",
      "Kurtosis:                       4.711   Cond. No.                         53.0\n",
      "==============================================================================\n",
      "\n",
      "Warnings:\n",
      "[1] Standard Errors assume that the covariance matrix of the errors is correctly specified.\n"
     ]
    }
   ],
   "source": [
    "# x values = total_bill and we allow for a y intecept.\n",
    "c_sm = sm.add_constant(df['total_bill'].values) # used .values to get rid of a warning.\n",
    "# OLS model y values = tip, x values as above.\n",
    "model_sm = sm.OLS(df['tip'], c_sm)\n",
    "# preform the fit\n",
    "fit_sm = model_sm.fit()\n",
    "\n",
    "print(fit_sm.summary())"
   ]
  },
  {
   "cell_type": "markdown",
   "metadata": {},
   "source": [
    "This summary produces a lot of information, most of which we are not interested in. Notice that the $R^2$ value is not great as a value of 1 would imply a perfect fit. It is identical to the value found above with numpy.corrcoef. We are really only interested in certain parameters:"
   ]
  },
  {
   "cell_type": "code",
   "execution_count": 28,
   "metadata": {},
   "outputs": [
    {
     "name": "stdout",
     "output_type": "stream",
     "text": [
      "Parameters:\n",
      "const    0.920270\n",
      "x1       0.105025\n",
      "dtype: float64\n",
      "R squared:  0.45661658635167646\n"
     ]
    }
   ],
   "source": [
    "print(\"Parameters:\")\n",
    "print(fit_sm.params)\n",
    "print(\"R squared: \", fit_sm.rsquared)"
   ]
  },
  {
   "cell_type": "markdown",
   "metadata": {},
   "source": [
    "### 3.4 Regression using scikit-learn"
   ]
  },
  {
   "cell_type": "markdown",
   "metadata": {},
   "source": [
    "Repeat the fitting process using scikit-learn. LinearRegression() fits a linear model to the data."
   ]
  },
  {
   "cell_type": "code",
   "execution_count": 29,
   "metadata": {},
   "outputs": [
    {
     "name": "stdout",
     "output_type": "stream",
     "text": [
      "Line slope: \n",
      " [0.10502452]\n",
      "y intercept: \n",
      " 0.9202696135546731\n",
      "R-squared: \n",
      " 0.45661658635167657\n",
      "We expect a tip of $ 11.42  for a spend of $ 100\n"
     ]
    }
   ],
   "source": [
    "# OLS model.\n",
    "model = lm.LinearRegression()\n",
    "# set up X values.\n",
    "X = df[['total_bill']]\n",
    "# set up y values.\n",
    "y = df['tip']\n",
    "# perform the regression.\n",
    "model.fit(X, y)\n",
    "\n",
    "print('Line slope: \\n', model.coef_)\n",
    "print('y intercept: \\n', model.intercept_)\n",
    "print('R-squared: \\n', model.score(X,y))\n",
    "\n",
    "# What tip do we predict for total_bill=$100?\n",
    "spend = 100\n",
    "pred = model.coef_ * spend + model.intercept_\n",
    "print(\"We expect a tip of $\", round(pred[0],2), \" for a spend of $\", spend )"
   ]
  },
  {
   "cell_type": "markdown",
   "metadata": {},
   "source": [
    "So, polyfit, Statsmodels, and scikit-learn give the same fitting parameters; slope = 0.105, y intercept = 0.92, and $R^2$ = 0.46. The tip is indeed linearly proportional to the total bill but the $R^2$ value is not great. We might get a better fit if we consider subsets of the data? I found an analysis where all columns were used for regression? For now we can say that, based on the analysis above, we would expect a $\\$11.42$ tip if the total bill was $\\$100$. See the README for more detail on $R^2$ and our prediction."
   ]
  },
  {
   "cell_type": "markdown",
   "metadata": {},
   "source": [
    "### Consider linear regression on only a single party size\n",
    "We can try doing regression where we consider only party sizes of 2 as they cover 156 of the 244 observations."
   ]
  },
  {
   "cell_type": "code",
   "execution_count": 30,
   "metadata": {
    "scrolled": true
   },
   "outputs": [
    {
     "name": "stdout",
     "output_type": "stream",
     "text": [
      "Line slope size=2: \n",
      " [0.07845734]\n",
      "y intercept size=2: \n",
      " 1.2918403397466431\n",
      "R-squared size=2: \n",
      " 0.23150628080392022\n"
     ]
    }
   ],
   "source": [
    "# Checking subsets of df\n",
    "# y1 = df.loc[(df['tip'] > 0) & (df['size'] == 2)] # ok but long-winded\n",
    "# y2 = y1['tip'] # just one col ok\n",
    "# y3 = df.loc[df['size'] == 2] #ok\n",
    "# y4 = y3['tip']\n",
    "\n",
    "# Select only those rows with party size = 2\n",
    "s2 = df.loc[df['size'] == 2] # all columns, certain rows\n",
    "X = s2[['total_bill']] \n",
    "# print(X)\n",
    "y = df.loc[df['size'] == 2]['tip'] # all in one ok\n",
    "model.fit(X, y) # do fit\n",
    "\n",
    "print('Line slope size=2: \\n', model.coef_)\n",
    "print('y intercept size=2: \\n', model.intercept_)\n",
    "print('R-squared size=2: \\n', model.score(X,y))"
   ]
  },
  {
   "cell_type": "markdown",
   "metadata": {},
   "source": [
    "The $R^2$ is even worse now. Plot the data and see that there's huge spread in the points, so it's not surprising that the fit to a line isn't great. I had been thinking that I could use the size=2 subset of data for predictions instead of the full data set, but clearly not."
   ]
  },
  {
   "cell_type": "code",
   "execution_count": 31,
   "metadata": {},
   "outputs": [
    {
     "data": {
      "text/plain": [
       "Text(0, 0.5, 'tip')"
      ]
     },
     "execution_count": 31,
     "metadata": {},
     "output_type": "execute_result"
    },
    {
     "data": {
      "image/png": "[encoded data removed]",
      "text/plain": [
       "<Figure size 720x432 with 1 Axes>"
      ]
     },
     "metadata": {},
     "output_type": "display_data"
    }
   ],
   "source": [
    "# PLot tip vs total bill for this party size\n",
    "plt.plot(df.loc[df['size'] == 2]['total_bill'], df.loc[df['size'] == 2]['tip'], '.r')\n",
    "plt.title('size = 2', fontsize='14')\n",
    "plt.xlabel('total_bill', fontsize='14')\n",
    "plt.ylabel('tip', fontsize='14')"
   ]
  },
  {
   "cell_type": "markdown",
   "metadata": {},
   "source": [
    "### How about regression for party sizes of 2, 3, 4 combined?"
   ]
  },
  {
   "cell_type": "code",
   "execution_count": 32,
   "metadata": {},
   "outputs": [
    {
     "name": "stdout",
     "output_type": "stream",
     "text": [
      "Line slope size=2,3,4: \n",
      " [0.10472345]\n",
      "y intercept size=2,3,4: \n",
      " 0.9202481221900891\n",
      "R-squared size=2,3,4: \n",
      " 0.4377621135583911\n"
     ]
    }
   ],
   "source": [
    "s3 = df.loc[df['size'].isin([2, 3, 4])] # all columns, certain rows\n",
    "X = s3[['total_bill']] \n",
    "# print(X)\n",
    "y = df.loc[df['size'].isin([2, 3, 4])]['tip'] # all in one ok\n",
    "model.fit(X, y) # do fit\n",
    "\n",
    "print('Line slope size=2,3,4: \\n', model.coef_)\n",
    "print('y intercept size=2,3,4: \\n', model.intercept_)\n",
    "print('R-squared size=2,3,4: \\n', model.score(X,y))"
   ]
  },
  {
   "cell_type": "markdown",
   "metadata": {},
   "source": [
    "It's not a surprise to see that the fit on including party sizes of 2, 3, and 4 is almost identical to that for the full data set. These party sizes combined cover all but 13 rows of the data frame. We don't gain any extra information by doing this."
   ]
  },
  {
   "cell_type": "markdown",
   "metadata": {},
   "source": [
    "### Regression with various combinations of categorical variables."
   ]
  },
  {
   "cell_type": "code",
   "execution_count": 33,
   "metadata": {
    "scrolled": true
   },
   "outputs": [
    {
     "name": "stdout",
     "output_type": "stream",
     "text": [
      "(97, 8)\n",
      "Line slope : \n",
      " [0.13971878]\n",
      "y intercept : \n",
      " 0.3481945382935785\n",
      "R-squared : \n",
      " 0.6700097355989045\n",
      "We expect a tip of $ 14.32  for a spend of $ 100\n"
     ]
    }
   ],
   "source": [
    "# Select sex and smoker combinations to compare linear regression results.\n",
    "fs = df.loc[(df['sex'] == 'Male') & (df['smoker'] == 'No')]\n",
    "print(fs.shape) # check numbers correspond to pivot table data below.\n",
    "X = fs[['total_bill']]\n",
    "y = fs['tip']\n",
    "\n",
    "model.fit(X, y) # do fit\n",
    "\n",
    "print('Line slope : \\n', model.coef_)\n",
    "print('y intercept : \\n', model.intercept_)\n",
    "print('R-squared : \\n', model.score(X,y))\n",
    "\n",
    "# What tip do we predict for total_bill=$100?\n",
    "spend = 100\n",
    "pred = model.coef_ * spend + model.intercept_\n",
    "print(\"We expect a tip of $\", round(pred[0],2), \" for a spend of $\", spend )"
   ]
  },
  {
   "cell_type": "code",
   "execution_count": 34,
   "metadata": {},
   "outputs": [
    {
     "name": "stdout",
     "output_type": "stream",
     "text": [
      "Days are:  [Sun, Sat, Thur, Fri]\n",
      "Categories (4, object): [Sun, Sat, Thur, Fri]\n",
      "Line slope day: \n",
      " [0.07015353]\n",
      "y intercept day: \n",
      " 1.7531444940283958\n",
      "R-squared day: \n",
      " 0.25175578021289746\n",
      "We expect a tip of $ 8.77  for a spend of $ 100\n"
     ]
    }
   ],
   "source": [
    "# Select certain days.\n",
    "print(\"Days are: \", df.day.unique())\n",
    "\n",
    "d = df.loc[df['day'] == 'Sun'] # all columns, certain rows\n",
    "X = d[['total_bill']] \n",
    "# print(X)\n",
    "y = df.loc[df['day'] == 'Sun']['tip'] # all in one ok\n",
    "model.fit(X, y) # do fit\n",
    "\n",
    "print('Line slope day: \\n', model.coef_)\n",
    "print('y intercept day: \\n', model.intercept_)\n",
    "print('R-squared day: \\n', model.score(X,y))\n",
    "\n",
    "# What tip do we predict for total_bill=$100?\n",
    "spend = 100\n",
    "pred = model.coef_ * spend + model.intercept_\n",
    "print(\"We expect a tip of $\", round(pred[0],2), \" for a spend of $\", spend )"
   ]
  },
  {
   "cell_type": "markdown",
   "metadata": {},
   "source": [
    "I realize that this part of the notebook has become long, but I don't want to just delete it because this is an assignment.  Rather than including lots of results here, I'll summarize the findings of this section (regression using only certain subsets of the data) in the README. Looks like the highest $R^2$ occurs for M or F non-smokers. The slope of the regression line for non-smokers, regardless of sex, is larger than for smokers. So what? I could keep going looking at various combinations of day and time, but I think I'll leave it for now. I will just note that good fitting parameters are also obtained for day = Thursday."
   ]
  },
  {
   "cell_type": "markdown",
   "metadata": {},
   "source": [
    "Lin reg using all cat vars? Here or next? Other work?"
   ]
  },
  {
   "cell_type": "markdown",
   "metadata": {},
   "source": [
    "***\n",
    "## 4. Relationships between variables"
   ]
  },
  {
   "cell_type": "markdown",
   "metadata": {},
   "source": [
    "In the section on regression above, we investigated if the tip amount is related to the total bill. We found that it was. We also started looking as subsets of the data set chosen by categorical variable. What other questions can we ask of the data. EDIT THESE. Do smokers tip more than non-smokers? Do men tip less than women? Are diners more likely to leave a large tip if they eat in the evening as part of a large group, rather than at lunch with a single friend? Does the day of the week matter at all? We will address some questions like these in this section."
   ]
  },
  {
   "cell_type": "code",
   "execution_count": 35,
   "metadata": {},
   "outputs": [
    {
     "data": {
      "text/plain": [
       "<seaborn.axisgrid.PairGrid at 0x1faeddaf518>"
      ]
     },
     "execution_count": 35,
     "metadata": {},
     "output_type": "execute_result"
    },
    {
     "data": {
      "image/png": "[encoded data removed]",
      "text/plain": [
       "<Figure size 636.775x540 with 12 Axes>"
      ]
     },
     "metadata": {},
     "output_type": "display_data"
    }
   ],
   "source": [
    "# I'll start with a pairplot to see if anything jumps out from the numeric variables.\n",
    "sns.pairplot(df, vars=[\"tip\", \"total_bill\", \"size\"], hue='sex')"
   ]
  },
  {
   "cell_type": "markdown",
   "metadata": {},
   "source": [
    "Don't know if Seaborn pairplot is much use to us here as most variables in the data set are categorical. Comment top row, middle col would suggest relationship between tip total bill - already done above. Maybe explore relationship, if any, between tip and gender, party size etc. "
   ]
  },
  {
   "cell_type": "markdown",
   "metadata": {},
   "source": [
    "### Summarize data according to categorical variables\n",
    "Wes McKinney's video \"10 minutes to Pandas\" talks about the pivot_table as a method to aggregate the numerical data by categorical variable. The default function is mean. We can use this to differentiate between the sexes, and further between smokers and non-smokers for example."
   ]
  },
  {
   "cell_type": "code",
   "execution_count": 36,
   "metadata": {},
   "outputs": [
    {
     "data": {
      "text/html": [
       "<div>\n",
       "<style scoped>\n",
       "    .dataframe tbody tr th:only-of-type {\n",
       "        vertical-align: middle;\n",
       "    }\n",
       "\n",
       "    .dataframe tbody tr th {\n",
       "        vertical-align: top;\n",
       "    }\n",
       "\n",
       "    .dataframe thead th {\n",
       "        text-align: right;\n",
       "    }\n",
       "</style>\n",
       "<table border=\"1\" class=\"dataframe\">\n",
       "  <thead>\n",
       "    <tr style=\"text-align: right;\">\n",
       "      <th></th>\n",
       "      <th></th>\n",
       "      <th>ftip</th>\n",
       "      <th>size</th>\n",
       "      <th>tip</th>\n",
       "      <th>total_bill</th>\n",
       "    </tr>\n",
       "    <tr>\n",
       "      <th>sex</th>\n",
       "      <th>smoker</th>\n",
       "      <th></th>\n",
       "      <th></th>\n",
       "      <th></th>\n",
       "      <th></th>\n",
       "    </tr>\n",
       "  </thead>\n",
       "  <tbody>\n",
       "    <tr>\n",
       "      <th rowspan=\"2\" valign=\"top\">Male</th>\n",
       "      <th>Yes</th>\n",
       "      <td>0.152771</td>\n",
       "      <td>2.500000</td>\n",
       "      <td>3.051167</td>\n",
       "      <td>22.284500</td>\n",
       "    </tr>\n",
       "    <tr>\n",
       "      <th>No</th>\n",
       "      <td>0.160669</td>\n",
       "      <td>2.711340</td>\n",
       "      <td>3.113402</td>\n",
       "      <td>19.791237</td>\n",
       "    </tr>\n",
       "    <tr>\n",
       "      <th rowspan=\"2\" valign=\"top\">Female</th>\n",
       "      <th>Yes</th>\n",
       "      <td>0.182150</td>\n",
       "      <td>2.242424</td>\n",
       "      <td>2.931515</td>\n",
       "      <td>17.977879</td>\n",
       "    </tr>\n",
       "    <tr>\n",
       "      <th>No</th>\n",
       "      <td>0.156921</td>\n",
       "      <td>2.592593</td>\n",
       "      <td>2.773519</td>\n",
       "      <td>18.105185</td>\n",
       "    </tr>\n",
       "  </tbody>\n",
       "</table>\n",
       "</div>"
      ],
      "text/plain": [
       "                   ftip      size       tip  total_bill\n",
       "sex    smoker                                          \n",
       "Male   Yes     0.152771  2.500000  3.051167   22.284500\n",
       "       No      0.160669  2.711340  3.113402   19.791237\n",
       "Female Yes     0.182150  2.242424  2.931515   17.977879\n",
       "       No      0.156921  2.592593  2.773519   18.105185"
      ]
     },
     "execution_count": 36,
     "metadata": {},
     "output_type": "execute_result"
    }
   ],
   "source": [
    "# Summarize data using sex and smoker keys.\n",
    "df.pivot_table(index=['sex', 'smoker'])"
   ]
  },
  {
   "cell_type": "code",
   "execution_count": 37,
   "metadata": {},
   "outputs": [],
   "source": [
    "# Summarize data using sex and smoker keys.\n",
    "# This time ignore outlier - doesn't make much difference.\n",
    "# df[df.ftip < 0.6].pivot_table(index=['sex', 'smoker']) # ignore outlier"
   ]
  },
  {
   "cell_type": "code",
   "execution_count": 38,
   "metadata": {},
   "outputs": [
    {
     "data": {
      "text/html": [
       "<div>\n",
       "<style scoped>\n",
       "    .dataframe tbody tr th:only-of-type {\n",
       "        vertical-align: middle;\n",
       "    }\n",
       "\n",
       "    .dataframe tbody tr th {\n",
       "        vertical-align: top;\n",
       "    }\n",
       "\n",
       "    .dataframe thead tr th {\n",
       "        text-align: left;\n",
       "    }\n",
       "\n",
       "    .dataframe thead tr:last-of-type th {\n",
       "        text-align: right;\n",
       "    }\n",
       "</style>\n",
       "<table border=\"1\" class=\"dataframe\">\n",
       "  <thead>\n",
       "    <tr>\n",
       "      <th></th>\n",
       "      <th></th>\n",
       "      <th colspan=\"6\" halign=\"left\">ftip</th>\n",
       "    </tr>\n",
       "    <tr>\n",
       "      <th></th>\n",
       "      <th>size</th>\n",
       "      <th>1</th>\n",
       "      <th>2</th>\n",
       "      <th>3</th>\n",
       "      <th>4</th>\n",
       "      <th>5</th>\n",
       "      <th>6</th>\n",
       "    </tr>\n",
       "    <tr>\n",
       "      <th>sex</th>\n",
       "      <th>smoker</th>\n",
       "      <th></th>\n",
       "      <th></th>\n",
       "      <th></th>\n",
       "      <th></th>\n",
       "      <th></th>\n",
       "      <th></th>\n",
       "    </tr>\n",
       "  </thead>\n",
       "  <tbody>\n",
       "    <tr>\n",
       "      <th rowspan=\"2\" valign=\"top\">Male</th>\n",
       "      <th>Yes</th>\n",
       "      <td>0.223776</td>\n",
       "      <td>0.155596</td>\n",
       "      <td>0.149560</td>\n",
       "      <td>0.149321</td>\n",
       "      <td>0.086116</td>\n",
       "      <td>NaN</td>\n",
       "    </tr>\n",
       "    <tr>\n",
       "      <th>No</th>\n",
       "      <td>NaN</td>\n",
       "      <td>0.167800</td>\n",
       "      <td>0.146851</td>\n",
       "      <td>0.150611</td>\n",
       "      <td>0.181526</td>\n",
       "      <td>0.149567</td>\n",
       "    </tr>\n",
       "    <tr>\n",
       "      <th rowspan=\"2\" valign=\"top\">Female</th>\n",
       "      <th>Yes</th>\n",
       "      <td>0.325733</td>\n",
       "      <td>0.184925</td>\n",
       "      <td>0.168718</td>\n",
       "      <td>0.109252</td>\n",
       "      <td>NaN</td>\n",
       "      <td>NaN</td>\n",
       "    </tr>\n",
       "    <tr>\n",
       "      <th>No</th>\n",
       "      <td>0.159829</td>\n",
       "      <td>0.160152</td>\n",
       "      <td>0.154999</td>\n",
       "      <td>0.139444</td>\n",
       "      <td>0.172194</td>\n",
       "      <td>0.162891</td>\n",
       "    </tr>\n",
       "  </tbody>\n",
       "</table>\n",
       "</div>"
      ],
      "text/plain": [
       "                   ftip                                                  \n",
       "size                  1         2         3         4         5         6\n",
       "sex    smoker                                                            \n",
       "Male   Yes     0.223776  0.155596  0.149560  0.149321  0.086116       NaN\n",
       "       No           NaN  0.167800  0.146851  0.150611  0.181526  0.149567\n",
       "Female Yes     0.325733  0.184925  0.168718  0.109252       NaN       NaN\n",
       "       No      0.159829  0.160152  0.154999  0.139444  0.172194  0.162891"
      ]
     },
     "execution_count": 38,
     "metadata": {},
     "output_type": "execute_result"
    }
   ],
   "source": [
    "# Summarize fractional tip column only using sex and smoker keys AND group by party size.\n",
    "df.pivot_table(['ftip'], index=['sex', 'smoker'], columns='size')\n",
    "\n",
    "# Recall outlier = male, smoker, Sunday, dinner, size=2.\n",
    "# See a tiny change in that cell, not worth bothering with.\n",
    "# df[df.ftip < 0.6].pivot_table(['ftip'], index=['sex', 'smoker'], columns='size') # columns='day' or'time' # ignore outlier"
   ]
  },
  {
   "cell_type": "code",
   "execution_count": 39,
   "metadata": {},
   "outputs": [
    {
     "data": {
      "text/html": [
       "<div>\n",
       "<style scoped>\n",
       "    .dataframe tbody tr th:only-of-type {\n",
       "        vertical-align: middle;\n",
       "    }\n",
       "\n",
       "    .dataframe tbody tr th {\n",
       "        vertical-align: top;\n",
       "    }\n",
       "\n",
       "    .dataframe thead tr th {\n",
       "        text-align: left;\n",
       "    }\n",
       "\n",
       "    .dataframe thead tr:last-of-type th {\n",
       "        text-align: right;\n",
       "    }\n",
       "</style>\n",
       "<table border=\"1\" class=\"dataframe\">\n",
       "  <thead>\n",
       "    <tr>\n",
       "      <th></th>\n",
       "      <th colspan=\"4\" halign=\"left\">ftip</th>\n",
       "    </tr>\n",
       "    <tr>\n",
       "      <th>day</th>\n",
       "      <th>Thur</th>\n",
       "      <th>Fri</th>\n",
       "      <th>Sat</th>\n",
       "      <th>Sun</th>\n",
       "    </tr>\n",
       "    <tr>\n",
       "      <th>smoker</th>\n",
       "      <th></th>\n",
       "      <th></th>\n",
       "      <th></th>\n",
       "      <th></th>\n",
       "    </tr>\n",
       "  </thead>\n",
       "  <tbody>\n",
       "    <tr>\n",
       "      <th>Yes</th>\n",
       "      <td>0.163863</td>\n",
       "      <td>0.174783</td>\n",
       "      <td>0.147906</td>\n",
       "      <td>0.187250</td>\n",
       "    </tr>\n",
       "    <tr>\n",
       "      <th>No</th>\n",
       "      <td>0.160298</td>\n",
       "      <td>0.151650</td>\n",
       "      <td>0.158048</td>\n",
       "      <td>0.160113</td>\n",
       "    </tr>\n",
       "  </tbody>\n",
       "</table>\n",
       "</div>"
      ],
      "text/plain": [
       "            ftip                              \n",
       "day         Thur       Fri       Sat       Sun\n",
       "smoker                                        \n",
       "Yes     0.163863  0.174783  0.147906  0.187250\n",
       "No      0.160298  0.151650  0.158048  0.160113"
      ]
     },
     "execution_count": 39,
     "metadata": {},
     "output_type": "execute_result"
    }
   ],
   "source": [
    "# Summarize fractional tip column only using smoker and day keys.\n",
    "df.pivot_table(['ftip'], index=['smoker'], columns='day') # To count group sizes: aggfunc='count'"
   ]
  },
  {
   "cell_type": "code",
   "execution_count": 40,
   "metadata": {},
   "outputs": [
    {
     "data": {
      "text/html": [
       "<div>\n",
       "<style scoped>\n",
       "    .dataframe tbody tr th:only-of-type {\n",
       "        vertical-align: middle;\n",
       "    }\n",
       "\n",
       "    .dataframe tbody tr th {\n",
       "        vertical-align: top;\n",
       "    }\n",
       "\n",
       "    .dataframe thead tr th {\n",
       "        text-align: left;\n",
       "    }\n",
       "\n",
       "    .dataframe thead tr:last-of-type th {\n",
       "        text-align: right;\n",
       "    }\n",
       "</style>\n",
       "<table border=\"1\" class=\"dataframe\">\n",
       "  <thead>\n",
       "    <tr>\n",
       "      <th></th>\n",
       "      <th colspan=\"4\" halign=\"left\">ftip</th>\n",
       "    </tr>\n",
       "    <tr>\n",
       "      <th>day</th>\n",
       "      <th>Thur</th>\n",
       "      <th>Fri</th>\n",
       "      <th>Sat</th>\n",
       "      <th>Sun</th>\n",
       "    </tr>\n",
       "    <tr>\n",
       "      <th>smoker</th>\n",
       "      <th></th>\n",
       "      <th></th>\n",
       "      <th></th>\n",
       "      <th></th>\n",
       "    </tr>\n",
       "  </thead>\n",
       "  <tbody>\n",
       "    <tr>\n",
       "      <th>Yes</th>\n",
       "      <td>17</td>\n",
       "      <td>15</td>\n",
       "      <td>42</td>\n",
       "      <td>19</td>\n",
       "    </tr>\n",
       "    <tr>\n",
       "      <th>No</th>\n",
       "      <td>45</td>\n",
       "      <td>4</td>\n",
       "      <td>45</td>\n",
       "      <td>57</td>\n",
       "    </tr>\n",
       "  </tbody>\n",
       "</table>\n",
       "</div>"
      ],
      "text/plain": [
       "       ftip            \n",
       "day    Thur Fri Sat Sun\n",
       "smoker                 \n",
       "Yes      17  15  42  19\n",
       "No       45   4  45  57"
      ]
     },
     "execution_count": 40,
     "metadata": {},
     "output_type": "execute_result"
    }
   ],
   "source": [
    "# How many in each group?.\n",
    "df.pivot_table(['ftip'], index=['smoker'], columns='day', aggfunc='count') # To count group sizes: aggfunc='count'"
   ]
  },
  {
   "cell_type": "markdown",
   "metadata": {},
   "source": [
    "Why do this? Regression results above had largest $R^2$ and slope for non-smokers, regardless of sex. Same for day=Thur. Does this suggest a good subset of the data to use for reliable prediction?"
   ]
  },
  {
   "cell_type": "code",
   "execution_count": null,
   "metadata": {},
   "outputs": [],
   "source": []
  }
 ],
 "metadata": {
  "kernelspec": {
   "display_name": "Python 3",
   "language": "python",
   "name": "python3"
  },
  "language_info": {
   "codemirror_mode": {
    "name": "ipython",
    "version": 3
   },
   "file_extension": ".py",
   "mimetype": "text/x-python",
   "name": "python",
   "nbconvert_exporter": "python",
   "pygments_lexer": "ipython3",
   "version": "3.7.3"
  }
 },
 "nbformat": 4,
 "nbformat_minor": 2
}
