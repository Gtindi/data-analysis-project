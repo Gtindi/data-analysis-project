{
 "cells": [
  {
   "cell_type": "markdown",
   "metadata": {},
   "source": [
    "# The Tips Data Set\n",
    "\n",
    "### Fundamentals of Data Analysis Assessment 2019"
   ]
  },
  {
   "cell_type": "markdown",
   "metadata": {},
   "source": [
    "***\n",
    "## 1. Introduction\n",
    "This notebook begins with a description of the tips data set obtained using summary statistics. There follows a section on regression to investigate if there is a relationship between the total bill and the tip amount. Finally, any interesting relationships between variables within the data set are teased out and investigated further. Findings from each part of the analysis are summarized in the README file."
   ]
  },
  {
   "cell_type": "markdown",
   "metadata": {},
   "source": [
    "### Preliminaries\n",
    "Load the various packages required to complete the work and set up the matplotlib plotting environment."
   ]
  },
  {
   "cell_type": "code",
   "execution_count": 1,
   "metadata": {},
   "outputs": [],
   "source": [
    "%matplotlib inline\n",
    "import numpy as np\n",
    "import pandas as pd\n",
    "import matplotlib.pyplot as plt\n",
    "import seaborn as sns\n",
    "import statsmodels.api as sm\n",
    "import sklearn.linear_model as lm\n",
    "from scipy import stats"
   ]
  },
  {
   "cell_type": "markdown",
   "metadata": {},
   "source": [
    "***\n",
    "## 2. Description of the data set"
   ]
  },
  {
   "cell_type": "markdown",
   "metadata": {},
   "source": [
    "**Load the data set to a dataframe and take a quick look at it by printing the first and last five lines.**"
   ]
  },
  {
   "cell_type": "code",
   "execution_count": 2,
   "metadata": {},
   "outputs": [
    {
     "name": "stdout",
     "output_type": "stream",
     "text": [
      "Data frame shape (244, 7) r,c\n"
     ]
    },
    {
     "data": {
      "text/html": [
       "<div>\n",
       "<style scoped>\n",
       "    .dataframe tbody tr th:only-of-type {\n",
       "        vertical-align: middle;\n",
       "    }\n",
       "\n",
       "    .dataframe tbody tr th {\n",
       "        vertical-align: top;\n",
       "    }\n",
       "\n",
       "    .dataframe thead th {\n",
       "        text-align: right;\n",
       "    }\n",
       "</style>\n",
       "<table border=\"1\" class=\"dataframe\">\n",
       "  <thead>\n",
       "    <tr style=\"text-align: right;\">\n",
       "      <th></th>\n",
       "      <th>total_bill</th>\n",
       "      <th>tip</th>\n",
       "      <th>sex</th>\n",
       "      <th>smoker</th>\n",
       "      <th>day</th>\n",
       "      <th>time</th>\n",
       "      <th>size</th>\n",
       "    </tr>\n",
       "  </thead>\n",
       "  <tbody>\n",
       "    <tr>\n",
       "      <th>0</th>\n",
       "      <td>16.99</td>\n",
       "      <td>1.01</td>\n",
       "      <td>Female</td>\n",
       "      <td>No</td>\n",
       "      <td>Sun</td>\n",
       "      <td>Dinner</td>\n",
       "      <td>2</td>\n",
       "    </tr>\n",
       "    <tr>\n",
       "      <th>1</th>\n",
       "      <td>10.34</td>\n",
       "      <td>1.66</td>\n",
       "      <td>Male</td>\n",
       "      <td>No</td>\n",
       "      <td>Sun</td>\n",
       "      <td>Dinner</td>\n",
       "      <td>3</td>\n",
       "    </tr>\n",
       "    <tr>\n",
       "      <th>2</th>\n",
       "      <td>21.01</td>\n",
       "      <td>3.50</td>\n",
       "      <td>Male</td>\n",
       "      <td>No</td>\n",
       "      <td>Sun</td>\n",
       "      <td>Dinner</td>\n",
       "      <td>3</td>\n",
       "    </tr>\n",
       "    <tr>\n",
       "      <th>3</th>\n",
       "      <td>23.68</td>\n",
       "      <td>3.31</td>\n",
       "      <td>Male</td>\n",
       "      <td>No</td>\n",
       "      <td>Sun</td>\n",
       "      <td>Dinner</td>\n",
       "      <td>2</td>\n",
       "    </tr>\n",
       "    <tr>\n",
       "      <th>4</th>\n",
       "      <td>24.59</td>\n",
       "      <td>3.61</td>\n",
       "      <td>Female</td>\n",
       "      <td>No</td>\n",
       "      <td>Sun</td>\n",
       "      <td>Dinner</td>\n",
       "      <td>4</td>\n",
       "    </tr>\n",
       "  </tbody>\n",
       "</table>\n",
       "</div>"
      ],
      "text/plain": [
       "   total_bill   tip     sex smoker  day    time  size\n",
       "0       16.99  1.01  Female     No  Sun  Dinner     2\n",
       "1       10.34  1.66    Male     No  Sun  Dinner     3\n",
       "2       21.01  3.50    Male     No  Sun  Dinner     3\n",
       "3       23.68  3.31    Male     No  Sun  Dinner     2\n",
       "4       24.59  3.61  Female     No  Sun  Dinner     4"
      ]
     },
     "execution_count": 2,
     "metadata": {},
     "output_type": "execute_result"
    }
   ],
   "source": [
    "# Load the data set.\n",
    "tips = sns.load_dataset(\"tips\")\n",
    "\n",
    "# Size?\n",
    "shape = tips.shape\n",
    "print(\"Data frame shape\", shape, \"r,c\")\n",
    "\n",
    "# Print the first/last five lines.\n",
    "tips.head()"
   ]
  },
  {
   "cell_type": "code",
   "execution_count": 3,
   "metadata": {},
   "outputs": [
    {
     "data": {
      "text/html": [
       "<div>\n",
       "<style scoped>\n",
       "    .dataframe tbody tr th:only-of-type {\n",
       "        vertical-align: middle;\n",
       "    }\n",
       "\n",
       "    .dataframe tbody tr th {\n",
       "        vertical-align: top;\n",
       "    }\n",
       "\n",
       "    .dataframe thead th {\n",
       "        text-align: right;\n",
       "    }\n",
       "</style>\n",
       "<table border=\"1\" class=\"dataframe\">\n",
       "  <thead>\n",
       "    <tr style=\"text-align: right;\">\n",
       "      <th></th>\n",
       "      <th>total_bill</th>\n",
       "      <th>tip</th>\n",
       "      <th>sex</th>\n",
       "      <th>smoker</th>\n",
       "      <th>day</th>\n",
       "      <th>time</th>\n",
       "      <th>size</th>\n",
       "    </tr>\n",
       "  </thead>\n",
       "  <tbody>\n",
       "    <tr>\n",
       "      <th>239</th>\n",
       "      <td>29.03</td>\n",
       "      <td>5.92</td>\n",
       "      <td>Male</td>\n",
       "      <td>No</td>\n",
       "      <td>Sat</td>\n",
       "      <td>Dinner</td>\n",
       "      <td>3</td>\n",
       "    </tr>\n",
       "    <tr>\n",
       "      <th>240</th>\n",
       "      <td>27.18</td>\n",
       "      <td>2.00</td>\n",
       "      <td>Female</td>\n",
       "      <td>Yes</td>\n",
       "      <td>Sat</td>\n",
       "      <td>Dinner</td>\n",
       "      <td>2</td>\n",
       "    </tr>\n",
       "    <tr>\n",
       "      <th>241</th>\n",
       "      <td>22.67</td>\n",
       "      <td>2.00</td>\n",
       "      <td>Male</td>\n",
       "      <td>Yes</td>\n",
       "      <td>Sat</td>\n",
       "      <td>Dinner</td>\n",
       "      <td>2</td>\n",
       "    </tr>\n",
       "    <tr>\n",
       "      <th>242</th>\n",
       "      <td>17.82</td>\n",
       "      <td>1.75</td>\n",
       "      <td>Male</td>\n",
       "      <td>No</td>\n",
       "      <td>Sat</td>\n",
       "      <td>Dinner</td>\n",
       "      <td>2</td>\n",
       "    </tr>\n",
       "    <tr>\n",
       "      <th>243</th>\n",
       "      <td>18.78</td>\n",
       "      <td>3.00</td>\n",
       "      <td>Female</td>\n",
       "      <td>No</td>\n",
       "      <td>Thur</td>\n",
       "      <td>Dinner</td>\n",
       "      <td>2</td>\n",
       "    </tr>\n",
       "  </tbody>\n",
       "</table>\n",
       "</div>"
      ],
      "text/plain": [
       "     total_bill   tip     sex smoker   day    time  size\n",
       "239       29.03  5.92    Male     No   Sat  Dinner     3\n",
       "240       27.18  2.00  Female    Yes   Sat  Dinner     2\n",
       "241       22.67  2.00    Male    Yes   Sat  Dinner     2\n",
       "242       17.82  1.75    Male     No   Sat  Dinner     2\n",
       "243       18.78  3.00  Female     No  Thur  Dinner     2"
      ]
     },
     "execution_count": 3,
     "metadata": {},
     "output_type": "execute_result"
    }
   ],
   "source": [
    "tips.tail()"
   ]
  },
  {
   "cell_type": "markdown",
   "metadata": {},
   "source": [
    "The rows of the data set contain **244** observations of the total bill and tip left in a resaurant, along with information about party size, day of the week, time of day, gender of the tipper, and whether or not they are a smoker. Three columns contain numeric data with class labels *total_bill*, *tip*, and *size*. The remaining four columns contain categorical data (divided into discrete groups) with class labels *sex*, *smoker*, *day*, and *time*. "
   ]
  },
  {
   "cell_type": "code",
   "execution_count": 4,
   "metadata": {},
   "outputs": [
    {
     "data": {
      "text/plain": [
       "total_bill    244\n",
       "tip           244\n",
       "sex           244\n",
       "smoker        244\n",
       "day           244\n",
       "time          244\n",
       "size          244\n",
       "dtype: int64"
      ]
     },
     "execution_count": 4,
     "metadata": {},
     "output_type": "execute_result"
    }
   ],
   "source": [
    "# Check for NaNs etc\n",
    "tips.count()"
   ]
  },
  {
   "cell_type": "markdown",
   "metadata": {},
   "source": [
    "Looks like there are no funny values in the data set so we can proceed without dealing with NaN values and other cleaning."
   ]
  },
  {
   "cell_type": "code",
   "execution_count": 5,
   "metadata": {},
   "outputs": [
    {
     "name": "stdout",
     "output_type": "stream",
     "text": [
      "       total_bill         tip        size\n",
      "count  244.000000  244.000000  244.000000\n",
      "mean    19.785943    2.998279    2.569672\n",
      "std      8.902412    1.383638    0.951100\n",
      "min      3.070000    1.000000    1.000000\n",
      "25%     13.347500    2.000000    2.000000\n",
      "50%     17.795000    2.900000    2.000000\n",
      "75%     24.127500    3.562500    3.000000\n",
      "max     50.810000   10.000000    6.000000\n"
     ]
    }
   ],
   "source": [
    "# Look at some quick descriptive statistics of the numeric data.\n",
    "print(tips.describe())"
   ]
  },
  {
   "cell_type": "markdown",
   "metadata": {},
   "source": [
    "**Calculate tip as a fraction of total_bill**\n",
    "\n",
    "Although the tip amount was recorded, when we think of tips we usually imagine a percentage of the bill. I would say that the most important information contained in the data set is the tip as a fraction of the total bill. For this I will assume that the total_bill is the bill before the tip has been added in. "
   ]
  },
  {
   "cell_type": "code",
   "execution_count": 6,
   "metadata": {},
   "outputs": [
    {
     "data": {
      "text/html": [
       "<div>\n",
       "<style scoped>\n",
       "    .dataframe tbody tr th:only-of-type {\n",
       "        vertical-align: middle;\n",
       "    }\n",
       "\n",
       "    .dataframe tbody tr th {\n",
       "        vertical-align: top;\n",
       "    }\n",
       "\n",
       "    .dataframe thead th {\n",
       "        text-align: right;\n",
       "    }\n",
       "</style>\n",
       "<table border=\"1\" class=\"dataframe\">\n",
       "  <thead>\n",
       "    <tr style=\"text-align: right;\">\n",
       "      <th></th>\n",
       "      <th>ftip</th>\n",
       "      <th>total_bill</th>\n",
       "      <th>tip</th>\n",
       "      <th>sex</th>\n",
       "      <th>smoker</th>\n",
       "      <th>day</th>\n",
       "      <th>time</th>\n",
       "      <th>size</th>\n",
       "    </tr>\n",
       "  </thead>\n",
       "  <tbody>\n",
       "    <tr>\n",
       "      <th>0</th>\n",
       "      <td>0.059447</td>\n",
       "      <td>16.99</td>\n",
       "      <td>1.01</td>\n",
       "      <td>Female</td>\n",
       "      <td>No</td>\n",
       "      <td>Sun</td>\n",
       "      <td>Dinner</td>\n",
       "      <td>2</td>\n",
       "    </tr>\n",
       "    <tr>\n",
       "      <th>1</th>\n",
       "      <td>0.160542</td>\n",
       "      <td>10.34</td>\n",
       "      <td>1.66</td>\n",
       "      <td>Male</td>\n",
       "      <td>No</td>\n",
       "      <td>Sun</td>\n",
       "      <td>Dinner</td>\n",
       "      <td>3</td>\n",
       "    </tr>\n",
       "    <tr>\n",
       "      <th>2</th>\n",
       "      <td>0.166587</td>\n",
       "      <td>21.01</td>\n",
       "      <td>3.50</td>\n",
       "      <td>Male</td>\n",
       "      <td>No</td>\n",
       "      <td>Sun</td>\n",
       "      <td>Dinner</td>\n",
       "      <td>3</td>\n",
       "    </tr>\n",
       "    <tr>\n",
       "      <th>3</th>\n",
       "      <td>0.139780</td>\n",
       "      <td>23.68</td>\n",
       "      <td>3.31</td>\n",
       "      <td>Male</td>\n",
       "      <td>No</td>\n",
       "      <td>Sun</td>\n",
       "      <td>Dinner</td>\n",
       "      <td>2</td>\n",
       "    </tr>\n",
       "    <tr>\n",
       "      <th>4</th>\n",
       "      <td>0.146808</td>\n",
       "      <td>24.59</td>\n",
       "      <td>3.61</td>\n",
       "      <td>Female</td>\n",
       "      <td>No</td>\n",
       "      <td>Sun</td>\n",
       "      <td>Dinner</td>\n",
       "      <td>4</td>\n",
       "    </tr>\n",
       "  </tbody>\n",
       "</table>\n",
       "</div>"
      ],
      "text/plain": [
       "       ftip  total_bill   tip     sex smoker  day    time  size\n",
       "0  0.059447       16.99  1.01  Female     No  Sun  Dinner     2\n",
       "1  0.160542       10.34  1.66    Male     No  Sun  Dinner     3\n",
       "2  0.166587       21.01  3.50    Male     No  Sun  Dinner     3\n",
       "3  0.139780       23.68  3.31    Male     No  Sun  Dinner     2\n",
       "4  0.146808       24.59  3.61  Female     No  Sun  Dinner     4"
      ]
     },
     "execution_count": 6,
     "metadata": {},
     "output_type": "execute_result"
    }
   ],
   "source": [
    "# Make an empty data frame to hold tip as fraction of total bill.\n",
    "ftip = pd.DataFrame(columns=['ftip'])\n",
    "ftip['ftip'] = tips['tip']/tips['total_bill']\n",
    "\n",
    "# Attach it to tips dataframe I think so can use groupby etc, work with df from now on.\n",
    "df = pd.concat([ftip, tips], axis=1)\n",
    "\n",
    "df.head( )"
   ]
  },
  {
   "cell_type": "markdown",
   "metadata": {},
   "source": [
    "**Pandas describe()**"
   ]
  },
  {
   "cell_type": "code",
   "execution_count": 7,
   "metadata": {
    "scrolled": false
   },
   "outputs": [
    {
     "data": {
      "text/html": [
       "<div>\n",
       "<style scoped>\n",
       "    .dataframe tbody tr th:only-of-type {\n",
       "        vertical-align: middle;\n",
       "    }\n",
       "\n",
       "    .dataframe tbody tr th {\n",
       "        vertical-align: top;\n",
       "    }\n",
       "\n",
       "    .dataframe thead th {\n",
       "        text-align: right;\n",
       "    }\n",
       "</style>\n",
       "<table border=\"1\" class=\"dataframe\">\n",
       "  <thead>\n",
       "    <tr style=\"text-align: right;\">\n",
       "      <th></th>\n",
       "      <th>ftip</th>\n",
       "      <th>total_bill</th>\n",
       "      <th>tip</th>\n",
       "      <th>sex</th>\n",
       "      <th>smoker</th>\n",
       "      <th>day</th>\n",
       "      <th>time</th>\n",
       "      <th>size</th>\n",
       "    </tr>\n",
       "  </thead>\n",
       "  <tbody>\n",
       "    <tr>\n",
       "      <th>count</th>\n",
       "      <td>244.000000</td>\n",
       "      <td>244.000000</td>\n",
       "      <td>244.000000</td>\n",
       "      <td>244</td>\n",
       "      <td>244</td>\n",
       "      <td>244</td>\n",
       "      <td>244</td>\n",
       "      <td>244.000000</td>\n",
       "    </tr>\n",
       "    <tr>\n",
       "      <th>unique</th>\n",
       "      <td>NaN</td>\n",
       "      <td>NaN</td>\n",
       "      <td>NaN</td>\n",
       "      <td>2</td>\n",
       "      <td>2</td>\n",
       "      <td>4</td>\n",
       "      <td>2</td>\n",
       "      <td>NaN</td>\n",
       "    </tr>\n",
       "    <tr>\n",
       "      <th>top</th>\n",
       "      <td>NaN</td>\n",
       "      <td>NaN</td>\n",
       "      <td>NaN</td>\n",
       "      <td>Male</td>\n",
       "      <td>No</td>\n",
       "      <td>Sat</td>\n",
       "      <td>Dinner</td>\n",
       "      <td>NaN</td>\n",
       "    </tr>\n",
       "    <tr>\n",
       "      <th>freq</th>\n",
       "      <td>NaN</td>\n",
       "      <td>NaN</td>\n",
       "      <td>NaN</td>\n",
       "      <td>157</td>\n",
       "      <td>151</td>\n",
       "      <td>87</td>\n",
       "      <td>176</td>\n",
       "      <td>NaN</td>\n",
       "    </tr>\n",
       "    <tr>\n",
       "      <th>mean</th>\n",
       "      <td>0.160803</td>\n",
       "      <td>19.785943</td>\n",
       "      <td>2.998279</td>\n",
       "      <td>NaN</td>\n",
       "      <td>NaN</td>\n",
       "      <td>NaN</td>\n",
       "      <td>NaN</td>\n",
       "      <td>2.569672</td>\n",
       "    </tr>\n",
       "    <tr>\n",
       "      <th>std</th>\n",
       "      <td>0.061072</td>\n",
       "      <td>8.902412</td>\n",
       "      <td>1.383638</td>\n",
       "      <td>NaN</td>\n",
       "      <td>NaN</td>\n",
       "      <td>NaN</td>\n",
       "      <td>NaN</td>\n",
       "      <td>0.951100</td>\n",
       "    </tr>\n",
       "    <tr>\n",
       "      <th>min</th>\n",
       "      <td>0.035638</td>\n",
       "      <td>3.070000</td>\n",
       "      <td>1.000000</td>\n",
       "      <td>NaN</td>\n",
       "      <td>NaN</td>\n",
       "      <td>NaN</td>\n",
       "      <td>NaN</td>\n",
       "      <td>1.000000</td>\n",
       "    </tr>\n",
       "    <tr>\n",
       "      <th>25%</th>\n",
       "      <td>0.129127</td>\n",
       "      <td>13.347500</td>\n",
       "      <td>2.000000</td>\n",
       "      <td>NaN</td>\n",
       "      <td>NaN</td>\n",
       "      <td>NaN</td>\n",
       "      <td>NaN</td>\n",
       "      <td>2.000000</td>\n",
       "    </tr>\n",
       "    <tr>\n",
       "      <th>50%</th>\n",
       "      <td>0.154770</td>\n",
       "      <td>17.795000</td>\n",
       "      <td>2.900000</td>\n",
       "      <td>NaN</td>\n",
       "      <td>NaN</td>\n",
       "      <td>NaN</td>\n",
       "      <td>NaN</td>\n",
       "      <td>2.000000</td>\n",
       "    </tr>\n",
       "    <tr>\n",
       "      <th>75%</th>\n",
       "      <td>0.191475</td>\n",
       "      <td>24.127500</td>\n",
       "      <td>3.562500</td>\n",
       "      <td>NaN</td>\n",
       "      <td>NaN</td>\n",
       "      <td>NaN</td>\n",
       "      <td>NaN</td>\n",
       "      <td>3.000000</td>\n",
       "    </tr>\n",
       "    <tr>\n",
       "      <th>max</th>\n",
       "      <td>0.710345</td>\n",
       "      <td>50.810000</td>\n",
       "      <td>10.000000</td>\n",
       "      <td>NaN</td>\n",
       "      <td>NaN</td>\n",
       "      <td>NaN</td>\n",
       "      <td>NaN</td>\n",
       "      <td>6.000000</td>\n",
       "    </tr>\n",
       "  </tbody>\n",
       "</table>\n",
       "</div>"
      ],
      "text/plain": [
       "              ftip  total_bill         tip   sex smoker  day    time  \\\n",
       "count   244.000000  244.000000  244.000000   244    244  244     244   \n",
       "unique         NaN         NaN         NaN     2      2    4       2   \n",
       "top            NaN         NaN         NaN  Male     No  Sat  Dinner   \n",
       "freq           NaN         NaN         NaN   157    151   87     176   \n",
       "mean      0.160803   19.785943    2.998279   NaN    NaN  NaN     NaN   \n",
       "std       0.061072    8.902412    1.383638   NaN    NaN  NaN     NaN   \n",
       "min       0.035638    3.070000    1.000000   NaN    NaN  NaN     NaN   \n",
       "25%       0.129127   13.347500    2.000000   NaN    NaN  NaN     NaN   \n",
       "50%       0.154770   17.795000    2.900000   NaN    NaN  NaN     NaN   \n",
       "75%       0.191475   24.127500    3.562500   NaN    NaN  NaN     NaN   \n",
       "max       0.710345   50.810000   10.000000   NaN    NaN  NaN     NaN   \n",
       "\n",
       "              size  \n",
       "count   244.000000  \n",
       "unique         NaN  \n",
       "top            NaN  \n",
       "freq           NaN  \n",
       "mean      2.569672  \n",
       "std       0.951100  \n",
       "min       1.000000  \n",
       "25%       2.000000  \n",
       "50%       2.000000  \n",
       "75%       3.000000  \n",
       "max       6.000000  "
      ]
     },
     "execution_count": 7,
     "metadata": {},
     "output_type": "execute_result"
    }
   ],
   "source": [
    "# Get descriptive statistics for all columns, not just the numeric ones.\n",
    "df.describe(include=\"all\")"
   ]
  },
  {
   "cell_type": "markdown",
   "metadata": {},
   "source": [
    "- It looks as if the average tip is about 16% of the total bill, although some very generous diner tipped 70% and a stingy one left only 3%.\n",
    "- The 50th percentile, or median, fractional tip is very similar to the mean fractional tip. This implies that the mean value is a typical value in the data set. \n",
    "- There are two unique values of sex, which we know to be Male and Female. Of the 244 observations, 157 concern males.\n",
    "- There are two unique values of smoker, which we know to be Yes or No. Of the 244 observations, 151 concern smokers.\n",
    "- Four unique values of day, Saturday being the most frequent with 87 of the 244 observations.\n",
    "- Two unique values of time, with most meals being dinner: 176 of the total.\n",
    "- Party size varied from 1 to 6."
   ]
  },
  {
   "cell_type": "markdown",
   "metadata": {},
   "source": [
    "**Plot preferences**"
   ]
  },
  {
   "cell_type": "code",
   "execution_count": 8,
   "metadata": {},
   "outputs": [],
   "source": [
    "## To pick color palette\n",
    "# sns.choose_colorbrewer_palette(data_type=\"q\")"
   ]
  },
  {
   "cell_type": "code",
   "execution_count": 9,
   "metadata": {
    "scrolled": true
   },
   "outputs": [
    {
     "data": {
      "image/png": "[encoded data removed]",
      "text/plain": [
       "<Figure size 720x72 with 1 Axes>"
      ]
     },
     "metadata": {
      "needs_background": "light"
     },
     "output_type": "display_data"
    }
   ],
   "source": [
    "# Set up my plotting preferences.\n",
    "current_palette = sns.color_palette()\n",
    "sns.palplot(current_palette)\n",
    "sns.set_style('whitegrid')\n",
    "\n",
    "# This just sets the default plot size to be bigger.\n",
    "plt.rcParams['figure.figsize'] = (10, 6)\n",
    "# Set font size for axes labels etc.\n",
    "plt.rcParams['font.size'] = (14)"
   ]
  },
  {
   "cell_type": "markdown",
   "metadata": {},
   "source": [
    "**We now start plotting some columns of the data set.**"
   ]
  },
  {
   "cell_type": "code",
   "execution_count": 10,
   "metadata": {
    "scrolled": true
   },
   "outputs": [
    {
     "data": {
      "text/plain": [
       "Text(0.5, 0.98, 'tip vs total bill')"
      ]
     },
     "execution_count": 10,
     "metadata": {},
     "output_type": "execute_result"
    },
    {
     "data": {
      "image/png": "[encoded data removed]",
      "text/plain": [
       "<Figure size 439.15x360 with 1 Axes>"
      ]
     },
     "metadata": {},
     "output_type": "display_data"
    }
   ],
   "source": [
    "# How does tip vary with total_bill?\n",
    "g = sns.relplot(x=\"total_bill\", y=\"tip\", hue='day', data=df) #size='time' makes the plot crowded.\n",
    "g.fig.suptitle('tip vs total bill', fontsize=14)\n",
    "\n",
    "# Save the plot if required.\n",
    "#g.savefig(\"images/tipVSbill.png\") # Comment out after figure saved."
   ]
  },
  {
   "cell_type": "markdown",
   "metadata": {},
   "source": [
    "In this plot each color refers to a different day. It appears that the tip does increase as the total_bill goes up. We'll be looking at this in more detail in the section on regression. For now, we'll plot the tip as a fraction of the total bill. This should be roughly a constant with some spread reflecting the range of straight lines that could be drawn through the data in the plot above. If every diner left a 15% tip say, then the plot below would be a horizontal line at y = 0.15."
   ]
  },
  {
   "cell_type": "code",
   "execution_count": 11,
   "metadata": {},
   "outputs": [
    {
     "data": {
      "text/plain": [
       "Text(0, 0.5, 'fractional tip')"
      ]
     },
     "execution_count": 11,
     "metadata": {},
     "output_type": "execute_result"
    },
    {
     "data": {
      "image/png": "[encoded data removed]",
      "text/plain": [
       "<Figure size 720x432 with 1 Axes>"
      ]
     },
     "metadata": {},
     "output_type": "display_data"
    }
   ],
   "source": [
    "# Tip as a fraction of the total_bill.\n",
    "plt.plot(df['ftip'], '.r')\n",
    "plt.title('Tip as a fraction of total bill', fontsize='14')\n",
    "plt.xlabel('sample', fontsize='14')\n",
    "plt.ylabel('fractional tip', fontsize='14')"
   ]
  },
  {
   "cell_type": "markdown",
   "metadata": {},
   "source": [
    "**Identify max (outlier) and min fractional tip**\n",
    "\n",
    "There seems to be one outlier - the 70% tip. It might be better to ignore it, we'll see later. For now just find it's location and who it refers to."
   ]
  },
  {
   "cell_type": "code",
   "execution_count": 12,
   "metadata": {},
   "outputs": [
    {
     "data": {
      "text/html": [
       "<div>\n",
       "<style scoped>\n",
       "    .dataframe tbody tr th:only-of-type {\n",
       "        vertical-align: middle;\n",
       "    }\n",
       "\n",
       "    .dataframe tbody tr th {\n",
       "        vertical-align: top;\n",
       "    }\n",
       "\n",
       "    .dataframe thead th {\n",
       "        text-align: right;\n",
       "    }\n",
       "</style>\n",
       "<table border=\"1\" class=\"dataframe\">\n",
       "  <thead>\n",
       "    <tr style=\"text-align: right;\">\n",
       "      <th></th>\n",
       "      <th>ftip</th>\n",
       "      <th>total_bill</th>\n",
       "      <th>tip</th>\n",
       "      <th>sex</th>\n",
       "      <th>smoker</th>\n",
       "      <th>day</th>\n",
       "      <th>time</th>\n",
       "      <th>size</th>\n",
       "    </tr>\n",
       "  </thead>\n",
       "  <tbody>\n",
       "    <tr>\n",
       "      <th>172</th>\n",
       "      <td>0.710345</td>\n",
       "      <td>7.25</td>\n",
       "      <td>5.15</td>\n",
       "      <td>Male</td>\n",
       "      <td>Yes</td>\n",
       "      <td>Sun</td>\n",
       "      <td>Dinner</td>\n",
       "      <td>2</td>\n",
       "    </tr>\n",
       "  </tbody>\n",
       "</table>\n",
       "</div>"
      ],
      "text/plain": [
       "         ftip  total_bill   tip   sex smoker  day    time  size\n",
       "172  0.710345        7.25  5.15  Male    Yes  Sun  Dinner     2"
      ]
     },
     "execution_count": 12,
     "metadata": {},
     "output_type": "execute_result"
    }
   ],
   "source": [
    "# Identify the outlier.\n",
    "df.iloc[df.index[df['ftip'] > 0.5]]"
   ]
  },
  {
   "cell_type": "code",
   "execution_count": 13,
   "metadata": {},
   "outputs": [
    {
     "data": {
      "text/html": [
       "<div>\n",
       "<style scoped>\n",
       "    .dataframe tbody tr th:only-of-type {\n",
       "        vertical-align: middle;\n",
       "    }\n",
       "\n",
       "    .dataframe tbody tr th {\n",
       "        vertical-align: top;\n",
       "    }\n",
       "\n",
       "    .dataframe thead th {\n",
       "        text-align: right;\n",
       "    }\n",
       "</style>\n",
       "<table border=\"1\" class=\"dataframe\">\n",
       "  <thead>\n",
       "    <tr style=\"text-align: right;\">\n",
       "      <th></th>\n",
       "      <th>ftip</th>\n",
       "      <th>total_bill</th>\n",
       "      <th>tip</th>\n",
       "      <th>sex</th>\n",
       "      <th>smoker</th>\n",
       "      <th>day</th>\n",
       "      <th>time</th>\n",
       "      <th>size</th>\n",
       "    </tr>\n",
       "  </thead>\n",
       "  <tbody>\n",
       "    <tr>\n",
       "      <th>237</th>\n",
       "      <td>0.035638</td>\n",
       "      <td>32.83</td>\n",
       "      <td>1.17</td>\n",
       "      <td>Male</td>\n",
       "      <td>Yes</td>\n",
       "      <td>Sat</td>\n",
       "      <td>Dinner</td>\n",
       "      <td>2</td>\n",
       "    </tr>\n",
       "  </tbody>\n",
       "</table>\n",
       "</div>"
      ],
      "text/plain": [
       "         ftip  total_bill   tip   sex smoker  day    time  size\n",
       "237  0.035638       32.83  1.17  Male    Yes  Sat  Dinner     2"
      ]
     },
     "execution_count": 13,
     "metadata": {},
     "output_type": "execute_result"
    }
   ],
   "source": [
    "# Identify the lowest fractional tip\n",
    "# df.min(axis=0)['ftip']\n",
    "df.iloc[df.index[df['ftip'] == df.min(axis=0)['ftip'] ]]"
   ]
  },
  {
   "cell_type": "code",
   "execution_count": 14,
   "metadata": {},
   "outputs": [
    {
     "name": "stdout",
     "output_type": "stream",
     "text": [
      "Dining times are:  [Dinner, Lunch]\n",
      "Categories (2, object): [Dinner, Lunch]\n",
      "Days are:  [Sun, Sat, Thur, Fri]\n",
      "Categories (4, object): [Sun, Sat, Thur, Fri]\n"
     ]
    }
   ],
   "source": [
    "# What are the days and dining times contained in the data set?\n",
    "print(\"Dining times are: \", df.time.unique())\n",
    "print(\"Days are: \", df.day.unique())"
   ]
  },
  {
   "cell_type": "markdown",
   "metadata": {},
   "source": [
    "### Dig deeper into the data set.\n",
    "I will now look at how some of the other variables affect tip size. Although Seaborn allows for some very complicated visualizations, I prefer not to put too much information on one plot at this stage."
   ]
  },
  {
   "cell_type": "code",
   "execution_count": 15,
   "metadata": {},
   "outputs": [
    {
     "data": {
      "text/plain": [
       "Text(0.5, 1.0, 'Distribution of tip as a fraction of bill')"
      ]
     },
     "execution_count": 15,
     "metadata": {},
     "output_type": "execute_result"
    },
    {
     "data": {
      "image/png": "[encoded data removed]",
      "text/plain": [
       "<Figure size 720x432 with 1 Axes>"
      ]
     },
     "metadata": {},
     "output_type": "display_data"
    }
   ],
   "source": [
    "# Histogram of all fractional tips.\n",
    "ax = sns.distplot(df['ftip'])\n",
    "ax.set(xlabel= 'ftip', ylabel= 'frequency')\n",
    "plt.title(\"Distribution of tip as a fraction of bill\")"
   ]
  },
  {
   "cell_type": "markdown",
   "metadata": {},
   "source": [
    "That outlier at 0.7 is going to mess up my plots if I leave it in place. I'm tempted to ignore it/replace it with something. I don't think it will affect calculations of mean etc too much though, it just doesn't look nice."
   ]
  },
  {
   "cell_type": "markdown",
   "metadata": {},
   "source": [
    "**Look at fractional tip for sex and smoker categories**"
   ]
  },
  {
   "cell_type": "code",
   "execution_count": 16,
   "metadata": {
    "scrolled": true
   },
   "outputs": [
    {
     "data": {
      "text/plain": [
       "<matplotlib.axes._subplots.AxesSubplot at 0x2a2719ea128>"
      ]
     },
     "execution_count": 16,
     "metadata": {},
     "output_type": "execute_result"
    },
    {
     "data": {
      "image/png": "[encoded data removed]",
      "text/plain": [
       "<Figure size 720x432 with 1 Axes>"
      ]
     },
     "metadata": {},
     "output_type": "display_data"
    }
   ],
   "source": [
    "# Plot the fractional tip for smokers/non-smokers and male/female.\n",
    "# Ignoring outlier doesn't have much effect. I checked that with commented code.\n",
    "# sns.barplot(x= 'smoker', y= 'ftip', hue='sex', data = df[df.ftip < 0.6], capsize=.2)\n",
    "sns.barplot(x= 'smoker', y= 'ftip', hue='sex', data = df, capsize=.2)\n",
    "# Save the plot if required.\n",
    "#plt.savefig(\"images/barSmokerSex.png\")"
   ]
  },
  {
   "cell_type": "markdown",
   "metadata": {},
   "source": [
    "This Seaborn barplot shows the mean fractional tip for male/female smokers/non-smokers. The error bars mark the 95% confidence interval: range within which there is a 95% chance of finding the mean. Looks like male and female non-smokers leave very similar fractional tips. However, female smokers leave larger tips on average, as a fraction of the total bill, than male smokers."
   ]
  },
  {
   "cell_type": "markdown",
   "metadata": {},
   "source": [
    "**Fractional tip as a function of day and time**"
   ]
  },
  {
   "cell_type": "code",
   "execution_count": 17,
   "metadata": {},
   "outputs": [
    {
     "data": {
      "text/plain": [
       "<matplotlib.axes._subplots.AxesSubplot at 0x2a271aaa4e0>"
      ]
     },
     "execution_count": 17,
     "metadata": {},
     "output_type": "execute_result"
    },
    {
     "data": {
      "image/png": "[encoded data removed]",
      "text/plain": [
       "<Figure size 720x432 with 1 Axes>"
      ]
     },
     "metadata": {},
     "output_type": "display_data"
    }
   ],
   "source": [
    "# How does the time affect the fractional tip?\n",
    "sns.barplot(x=\"day\", y=\"ftip\", hue=\"time\", data=df, capsize=.2) #data=df[df.ftip < 0.6] to ignore outlier\n",
    "# Save the plot if required.\n",
    "#plt.savefig(\"images/barDayTime.png\")"
   ]
  },
  {
   "cell_type": "markdown",
   "metadata": {},
   "source": [
    "From the above plot we see that while data from only dinner is recorded on Saturday and Sunday, both lunch and dinner are recorded on Fridays, and there seems to be only one observation relating to dinner on Thursday. On average, the largest fractional tips are left on Fridays at lunchtime - maybe happy end of week work lunches? We will look at how the variables are intertwined later on in the notebook."
   ]
  },
  {
   "cell_type": "markdown",
   "metadata": {},
   "source": [
    "**Look at variation in fractional tip with day, sex, and smoker variables**"
   ]
  },
  {
   "cell_type": "code",
   "execution_count": 18,
   "metadata": {},
   "outputs": [
    {
     "data": {
      "text/plain": [
       "<seaborn.axisgrid.FacetGrid at 0x2a271b3e710>"
      ]
     },
     "execution_count": 18,
     "metadata": {},
     "output_type": "execute_result"
    },
    {
     "data": {
      "image/png": "[encoded data removed]",
      "text/plain": [
       "<Figure size 720x720 with 4 Axes>"
      ]
     },
     "metadata": {},
     "output_type": "display_data"
    }
   ],
   "source": [
    "# Try to combine the categorical variables using catplot to make a grid of plots.\n",
    "# Ignore outlier.\n",
    "sns.catplot(x='day', y='ftip', row='smoker', col='sex', kind='box', data = df[df.ftip < 0.6])"
   ]
  },
  {
   "cell_type": "markdown",
   "metadata": {},
   "source": [
    "This faceted box plot attempts to show the fractional tip as a function of day, with the data arranged by categorical variables smoker and sex. Note how all the y axis ranges are identical for ease of comparison. Each box shows the quartiles of the data set, the whiskers show the range, and outliers appear as points. Quartiles divide the data into quarters; the first quartile is the middle of the smallest number and the median, the second quartile is the median value, and the third quarter is the middle of the median and the largest number in the data set. This plot again confirms that non-smokers, regardless of whether they are male or female, leave similar fractional tips (bottom two plots above). There's a bit more variation in the fractional tips left by males and females when they are smokers (top two plots).  "
   ]
  },
  {
   "cell_type": "markdown",
   "metadata": {},
   "source": [
    "**Use Pandas groupby() to analyze the data**\n",
    "\n",
    "Confirm this difference in tipping behavior between male and female smokers by using Pandas **agg()** to look at mean values of numeric columns for those two categorical variables. Count the number of observations in each category at the same time; the total of each column should equal 244."
   ]
  },
  {
   "cell_type": "markdown",
   "metadata": {},
   "source": [
    "**Average over sex and smoker variables**"
   ]
  },
  {
   "cell_type": "code",
   "execution_count": 19,
   "metadata": {},
   "outputs": [
    {
     "data": {
      "text/html": [
       "<div>\n",
       "<style scoped>\n",
       "    .dataframe tbody tr th:only-of-type {\n",
       "        vertical-align: middle;\n",
       "    }\n",
       "\n",
       "    .dataframe tbody tr th {\n",
       "        vertical-align: top;\n",
       "    }\n",
       "\n",
       "    .dataframe thead tr th {\n",
       "        text-align: left;\n",
       "    }\n",
       "\n",
       "    .dataframe thead tr:last-of-type th {\n",
       "        text-align: right;\n",
       "    }\n",
       "</style>\n",
       "<table border=\"1\" class=\"dataframe\">\n",
       "  <thead>\n",
       "    <tr>\n",
       "      <th></th>\n",
       "      <th></th>\n",
       "      <th colspan=\"2\" halign=\"left\">ftip</th>\n",
       "      <th colspan=\"2\" halign=\"left\">total_bill</th>\n",
       "      <th colspan=\"2\" halign=\"left\">tip</th>\n",
       "      <th colspan=\"2\" halign=\"left\">size</th>\n",
       "    </tr>\n",
       "    <tr>\n",
       "      <th></th>\n",
       "      <th></th>\n",
       "      <th>count</th>\n",
       "      <th>mean</th>\n",
       "      <th>count</th>\n",
       "      <th>mean</th>\n",
       "      <th>count</th>\n",
       "      <th>mean</th>\n",
       "      <th>count</th>\n",
       "      <th>mean</th>\n",
       "    </tr>\n",
       "    <tr>\n",
       "      <th>smoker</th>\n",
       "      <th>sex</th>\n",
       "      <th></th>\n",
       "      <th></th>\n",
       "      <th></th>\n",
       "      <th></th>\n",
       "      <th></th>\n",
       "      <th></th>\n",
       "      <th></th>\n",
       "      <th></th>\n",
       "    </tr>\n",
       "  </thead>\n",
       "  <tbody>\n",
       "    <tr>\n",
       "      <th rowspan=\"2\" valign=\"top\">Yes</th>\n",
       "      <th>Male</th>\n",
       "      <td>60</td>\n",
       "      <td>0.152771</td>\n",
       "      <td>60</td>\n",
       "      <td>22.284500</td>\n",
       "      <td>60</td>\n",
       "      <td>3.051167</td>\n",
       "      <td>60</td>\n",
       "      <td>2.500000</td>\n",
       "    </tr>\n",
       "    <tr>\n",
       "      <th>Female</th>\n",
       "      <td>33</td>\n",
       "      <td>0.182150</td>\n",
       "      <td>33</td>\n",
       "      <td>17.977879</td>\n",
       "      <td>33</td>\n",
       "      <td>2.931515</td>\n",
       "      <td>33</td>\n",
       "      <td>2.242424</td>\n",
       "    </tr>\n",
       "    <tr>\n",
       "      <th rowspan=\"2\" valign=\"top\">No</th>\n",
       "      <th>Male</th>\n",
       "      <td>97</td>\n",
       "      <td>0.160669</td>\n",
       "      <td>97</td>\n",
       "      <td>19.791237</td>\n",
       "      <td>97</td>\n",
       "      <td>3.113402</td>\n",
       "      <td>97</td>\n",
       "      <td>2.711340</td>\n",
       "    </tr>\n",
       "    <tr>\n",
       "      <th>Female</th>\n",
       "      <td>54</td>\n",
       "      <td>0.156921</td>\n",
       "      <td>54</td>\n",
       "      <td>18.105185</td>\n",
       "      <td>54</td>\n",
       "      <td>2.773519</td>\n",
       "      <td>54</td>\n",
       "      <td>2.592593</td>\n",
       "    </tr>\n",
       "  </tbody>\n",
       "</table>\n",
       "</div>"
      ],
      "text/plain": [
       "               ftip           total_bill              tip            size  \\\n",
       "              count      mean      count       mean count      mean count   \n",
       "smoker sex                                                                  \n",
       "Yes    Male      60  0.152771         60  22.284500    60  3.051167    60   \n",
       "       Female    33  0.182150         33  17.977879    33  2.931515    33   \n",
       "No     Male      97  0.160669         97  19.791237    97  3.113402    97   \n",
       "       Female    54  0.156921         54  18.105185    54  2.773519    54   \n",
       "\n",
       "                         \n",
       "                   mean  \n",
       "smoker sex               \n",
       "Yes    Male    2.500000  \n",
       "       Female  2.242424  \n",
       "No     Male    2.711340  \n",
       "       Female  2.592593  "
      ]
     },
     "execution_count": 19,
     "metadata": {},
     "output_type": "execute_result"
    }
   ],
   "source": [
    "df.groupby(['smoker', 'sex']).agg(['count','mean'])"
   ]
  },
  {
   "cell_type": "markdown",
   "metadata": {},
   "source": [
    "For this combination of categorical variables the largest average fractional tip appears in the female smoker cell. Do the same thing for day and time categorical variables; largest mean fractional tip is left at lunchtime on Friday."
   ]
  },
  {
   "cell_type": "markdown",
   "metadata": {},
   "source": [
    "**Average over day and time variables**"
   ]
  },
  {
   "cell_type": "code",
   "execution_count": 20,
   "metadata": {},
   "outputs": [
    {
     "data": {
      "text/html": [
       "<div>\n",
       "<style scoped>\n",
       "    .dataframe tbody tr th:only-of-type {\n",
       "        vertical-align: middle;\n",
       "    }\n",
       "\n",
       "    .dataframe tbody tr th {\n",
       "        vertical-align: top;\n",
       "    }\n",
       "\n",
       "    .dataframe thead tr th {\n",
       "        text-align: left;\n",
       "    }\n",
       "\n",
       "    .dataframe thead tr:last-of-type th {\n",
       "        text-align: right;\n",
       "    }\n",
       "</style>\n",
       "<table border=\"1\" class=\"dataframe\">\n",
       "  <thead>\n",
       "    <tr>\n",
       "      <th></th>\n",
       "      <th></th>\n",
       "      <th colspan=\"2\" halign=\"left\">ftip</th>\n",
       "      <th colspan=\"2\" halign=\"left\">total_bill</th>\n",
       "      <th colspan=\"2\" halign=\"left\">tip</th>\n",
       "      <th colspan=\"2\" halign=\"left\">size</th>\n",
       "    </tr>\n",
       "    <tr>\n",
       "      <th></th>\n",
       "      <th></th>\n",
       "      <th>count</th>\n",
       "      <th>mean</th>\n",
       "      <th>count</th>\n",
       "      <th>mean</th>\n",
       "      <th>count</th>\n",
       "      <th>mean</th>\n",
       "      <th>count</th>\n",
       "      <th>mean</th>\n",
       "    </tr>\n",
       "    <tr>\n",
       "      <th>day</th>\n",
       "      <th>time</th>\n",
       "      <th></th>\n",
       "      <th></th>\n",
       "      <th></th>\n",
       "      <th></th>\n",
       "      <th></th>\n",
       "      <th></th>\n",
       "      <th></th>\n",
       "      <th></th>\n",
       "    </tr>\n",
       "  </thead>\n",
       "  <tbody>\n",
       "    <tr>\n",
       "      <th rowspan=\"2\" valign=\"top\">Thur</th>\n",
       "      <th>Lunch</th>\n",
       "      <td>61</td>\n",
       "      <td>0.161301</td>\n",
       "      <td>61</td>\n",
       "      <td>17.664754</td>\n",
       "      <td>61</td>\n",
       "      <td>2.767705</td>\n",
       "      <td>61</td>\n",
       "      <td>2.459016</td>\n",
       "    </tr>\n",
       "    <tr>\n",
       "      <th>Dinner</th>\n",
       "      <td>1</td>\n",
       "      <td>0.159744</td>\n",
       "      <td>1</td>\n",
       "      <td>18.780000</td>\n",
       "      <td>1</td>\n",
       "      <td>3.000000</td>\n",
       "      <td>1</td>\n",
       "      <td>2.000000</td>\n",
       "    </tr>\n",
       "    <tr>\n",
       "      <th rowspan=\"2\" valign=\"top\">Fri</th>\n",
       "      <th>Lunch</th>\n",
       "      <td>7</td>\n",
       "      <td>0.188765</td>\n",
       "      <td>7</td>\n",
       "      <td>12.845714</td>\n",
       "      <td>7</td>\n",
       "      <td>2.382857</td>\n",
       "      <td>7</td>\n",
       "      <td>2.000000</td>\n",
       "    </tr>\n",
       "    <tr>\n",
       "      <th>Dinner</th>\n",
       "      <td>12</td>\n",
       "      <td>0.158916</td>\n",
       "      <td>12</td>\n",
       "      <td>19.663333</td>\n",
       "      <td>12</td>\n",
       "      <td>2.940000</td>\n",
       "      <td>12</td>\n",
       "      <td>2.166667</td>\n",
       "    </tr>\n",
       "    <tr>\n",
       "      <th>Sat</th>\n",
       "      <th>Dinner</th>\n",
       "      <td>87</td>\n",
       "      <td>0.153152</td>\n",
       "      <td>87</td>\n",
       "      <td>20.441379</td>\n",
       "      <td>87</td>\n",
       "      <td>2.993103</td>\n",
       "      <td>87</td>\n",
       "      <td>2.517241</td>\n",
       "    </tr>\n",
       "    <tr>\n",
       "      <th>Sun</th>\n",
       "      <th>Dinner</th>\n",
       "      <td>76</td>\n",
       "      <td>0.166897</td>\n",
       "      <td>76</td>\n",
       "      <td>21.410000</td>\n",
       "      <td>76</td>\n",
       "      <td>3.255132</td>\n",
       "      <td>76</td>\n",
       "      <td>2.842105</td>\n",
       "    </tr>\n",
       "  </tbody>\n",
       "</table>\n",
       "</div>"
      ],
      "text/plain": [
       "             ftip           total_bill              tip            size  \\\n",
       "            count      mean      count       mean count      mean count   \n",
       "day  time                                                                 \n",
       "Thur Lunch     61  0.161301         61  17.664754    61  2.767705    61   \n",
       "     Dinner     1  0.159744          1  18.780000     1  3.000000     1   \n",
       "Fri  Lunch      7  0.188765          7  12.845714     7  2.382857     7   \n",
       "     Dinner    12  0.158916         12  19.663333    12  2.940000    12   \n",
       "Sat  Dinner    87  0.153152         87  20.441379    87  2.993103    87   \n",
       "Sun  Dinner    76  0.166897         76  21.410000    76  3.255132    76   \n",
       "\n",
       "                       \n",
       "                 mean  \n",
       "day  time              \n",
       "Thur Lunch   2.459016  \n",
       "     Dinner  2.000000  \n",
       "Fri  Lunch   2.000000  \n",
       "     Dinner  2.166667  \n",
       "Sat  Dinner  2.517241  \n",
       "Sun  Dinner  2.842105  "
      ]
     },
     "execution_count": 20,
     "metadata": {},
     "output_type": "execute_result"
    }
   ],
   "source": [
    "df.groupby(['day', 'time']).agg(['count','mean'])"
   ]
  },
  {
   "cell_type": "markdown",
   "metadata": {},
   "source": [
    "**How does the size of the dining party affect the tip left?**"
   ]
  },
  {
   "cell_type": "code",
   "execution_count": 21,
   "metadata": {},
   "outputs": [
    {
     "data": {
      "text/html": [
       "<div>\n",
       "<style scoped>\n",
       "    .dataframe tbody tr th:only-of-type {\n",
       "        vertical-align: middle;\n",
       "    }\n",
       "\n",
       "    .dataframe tbody tr th {\n",
       "        vertical-align: top;\n",
       "    }\n",
       "\n",
       "    .dataframe thead tr th {\n",
       "        text-align: left;\n",
       "    }\n",
       "\n",
       "    .dataframe thead tr:last-of-type th {\n",
       "        text-align: right;\n",
       "    }\n",
       "</style>\n",
       "<table border=\"1\" class=\"dataframe\">\n",
       "  <thead>\n",
       "    <tr>\n",
       "      <th></th>\n",
       "      <th colspan=\"2\" halign=\"left\">ftip</th>\n",
       "      <th colspan=\"2\" halign=\"left\">total_bill</th>\n",
       "      <th colspan=\"2\" halign=\"left\">tip</th>\n",
       "    </tr>\n",
       "    <tr>\n",
       "      <th></th>\n",
       "      <th>count</th>\n",
       "      <th>mean</th>\n",
       "      <th>count</th>\n",
       "      <th>mean</th>\n",
       "      <th>count</th>\n",
       "      <th>mean</th>\n",
       "    </tr>\n",
       "    <tr>\n",
       "      <th>size</th>\n",
       "      <th></th>\n",
       "      <th></th>\n",
       "      <th></th>\n",
       "      <th></th>\n",
       "      <th></th>\n",
       "      <th></th>\n",
       "    </tr>\n",
       "  </thead>\n",
       "  <tbody>\n",
       "    <tr>\n",
       "      <th>1</th>\n",
       "      <td>4</td>\n",
       "      <td>0.217292</td>\n",
       "      <td>4</td>\n",
       "      <td>7.242500</td>\n",
       "      <td>4</td>\n",
       "      <td>1.437500</td>\n",
       "    </tr>\n",
       "    <tr>\n",
       "      <th>2</th>\n",
       "      <td>156</td>\n",
       "      <td>0.165719</td>\n",
       "      <td>156</td>\n",
       "      <td>16.448013</td>\n",
       "      <td>156</td>\n",
       "      <td>2.582308</td>\n",
       "    </tr>\n",
       "    <tr>\n",
       "      <th>3</th>\n",
       "      <td>38</td>\n",
       "      <td>0.152157</td>\n",
       "      <td>38</td>\n",
       "      <td>23.277632</td>\n",
       "      <td>38</td>\n",
       "      <td>3.393158</td>\n",
       "    </tr>\n",
       "    <tr>\n",
       "      <th>4</th>\n",
       "      <td>37</td>\n",
       "      <td>0.145949</td>\n",
       "      <td>37</td>\n",
       "      <td>28.613514</td>\n",
       "      <td>37</td>\n",
       "      <td>4.135405</td>\n",
       "    </tr>\n",
       "    <tr>\n",
       "      <th>5</th>\n",
       "      <td>5</td>\n",
       "      <td>0.141495</td>\n",
       "      <td>5</td>\n",
       "      <td>30.068000</td>\n",
       "      <td>5</td>\n",
       "      <td>4.028000</td>\n",
       "    </tr>\n",
       "    <tr>\n",
       "      <th>6</th>\n",
       "      <td>4</td>\n",
       "      <td>0.156229</td>\n",
       "      <td>4</td>\n",
       "      <td>34.830000</td>\n",
       "      <td>4</td>\n",
       "      <td>5.225000</td>\n",
       "    </tr>\n",
       "  </tbody>\n",
       "</table>\n",
       "</div>"
      ],
      "text/plain": [
       "      ftip           total_bill              tip          \n",
       "     count      mean      count       mean count      mean\n",
       "size                                                      \n",
       "1        4  0.217292          4   7.242500     4  1.437500\n",
       "2      156  0.165719        156  16.448013   156  2.582308\n",
       "3       38  0.152157         38  23.277632    38  3.393158\n",
       "4       37  0.145949         37  28.613514    37  4.135405\n",
       "5        5  0.141495          5  30.068000     5  4.028000\n",
       "6        4  0.156229          4  34.830000     4  5.225000"
      ]
     },
     "execution_count": 21,
     "metadata": {},
     "output_type": "execute_result"
    }
   ],
   "source": [
    "df.groupby(['size']).agg(['count', 'mean'])"
   ]
  },
  {
   "cell_type": "markdown",
   "metadata": {},
   "source": [
    "Looks like the best average fractional tip is left for dining parties of one. That's a bit misleading as they account for only 4 out of 244 observations. We can see this on a scatterplot. It looks like there are only a few people dining alone or in groups of 5 or 6. Most party sizes are 2 (156 of 244), with party sizes 3 and 4 also significant at around 15% of the total each. Maybe only look at a single party size? Other ways of grouping data? For last part of assessment perhaps."
   ]
  },
  {
   "cell_type": "code",
   "execution_count": 22,
   "metadata": {},
   "outputs": [
    {
     "data": {
      "text/plain": [
       "Text(0.5, 1.0, 'Tip as a fraction of bill vs party size')"
      ]
     },
     "execution_count": 22,
     "metadata": {},
     "output_type": "execute_result"
    },
    {
     "data": {
      "image/png": "[encoded data removed]",
      "text/plain": [
       "<Figure size 720x432 with 1 Axes>"
      ]
     },
     "metadata": {},
     "output_type": "display_data"
    }
   ],
   "source": [
    "sns.scatterplot(x='size', y='ftip', data = df[df.ftip < 0.6]) # hue='smoker'\n",
    "plt.title(\"Tip as a fraction of bill vs party size\")"
   ]
  },
  {
   "cell_type": "markdown",
   "metadata": {},
   "source": [
    "***\n",
    "## 3. Regression"
   ]
  },
  {
   "cell_type": "markdown",
   "metadata": {},
   "source": [
    "### 3.1 Linear regression using Seaborn\n",
    "\n",
    "Now we will check to see if there is a relationship between the total bill and tip amount? We'll begin by using Seaborn to graphically look at all rows in the data set and check for a linear relationship on a plot of tip versus total_bill. Seaborn regplot draws a scatterplot of the two variables of interest, then fits a straight line to the data and plots the resulting regression line and a 95% confidence interval for that regression. It is a visual tool only, it does not return any parameters such as the slope and intercept of the fit, or the $R^2$ value."
   ]
  },
  {
   "cell_type": "code",
   "execution_count": 23,
   "metadata": {},
   "outputs": [
    {
     "data": {
      "text/plain": [
       "<matplotlib.axes._subplots.AxesSubplot at 0x2a273264d68>"
      ]
     },
     "execution_count": 23,
     "metadata": {},
     "output_type": "execute_result"
    },
    {
     "data": {
      "image/png": "[encoded data removed]",
      "text/plain": [
       "<Figure size 720x432 with 1 Axes>"
      ]
     },
     "metadata": {},
     "output_type": "display_data"
    }
   ],
   "source": [
    "# Examine all rows first.\n",
    "sns.regplot(x=\"total_bill\", y=\"tip\", data=df)"
   ]
  },
  {
   "cell_type": "markdown",
   "metadata": {},
   "source": [
    "The shaded region in Seaborn regplot represents a 95% confidence interval for the regression. I would say this isn't a great fit, although there appears to be a linear relationship there. I wonder if subsets of the data might give *prettier* looking fits? For example, we can differentiate between smokers and non-smokers in the regplot."
   ]
  },
  {
   "cell_type": "code",
   "execution_count": 24,
   "metadata": {},
   "outputs": [
    {
     "data": {
      "text/plain": [
       "<seaborn.axisgrid.FacetGrid at 0x2a27328ab38>"
      ]
     },
     "execution_count": 24,
     "metadata": {},
     "output_type": "execute_result"
    },
    {
     "data": {
      "image/png": "[encoded data removed]",
      "text/plain": [
       "<Figure size 434.384x360 with 1 Axes>"
      ]
     },
     "metadata": {},
     "output_type": "display_data"
    }
   ],
   "source": [
    "# Now differentiate between smokers and non-smokers.\n",
    "sns.lmplot(x=\"total_bill\", y=\"tip\", hue=\"smoker\", data=df)\n",
    "# Save the plot if required.\n",
    "# plt.savefig(\"images/lmplotSmoke.png\")"
   ]
  },
  {
   "cell_type": "markdown",
   "metadata": {},
   "source": [
    "The slopes of these lines are clearly different (although we can't access their values). Confidence intervals don't even overlap here. I wonder if the $R^2$ values are very different, signifying a better linear fit for smokers/non-smokers? One to explore later?"
   ]
  },
  {
   "cell_type": "code",
   "execution_count": 25,
   "metadata": {},
   "outputs": [
    {
     "data": {
      "text/plain": [
       "<seaborn.axisgrid.FacetGrid at 0x2a273305780>"
      ]
     },
     "execution_count": 25,
     "metadata": {},
     "output_type": "execute_result"
    },
    {
     "data": {
      "image/png": "[encoded data removed]",
      "text/plain": [
       "<Figure size 456.775x360 with 1 Axes>"
      ]
     },
     "metadata": {},
     "output_type": "display_data"
    }
   ],
   "source": [
    "# Now differentiate between Male and Female.\n",
    "sns.lmplot(x=\"total_bill\", y=\"tip\", hue=\"sex\", data=df)"
   ]
  },
  {
   "cell_type": "markdown",
   "metadata": {},
   "source": [
    "Very good overlap between confidence intervals and the best fit lines here, so probably not worth considering gender alone as an interesting factor? We could continue to look at various factors below. It's difficult to tell what's going on when we set hue = day or size, but hue = time produces a similar plot to hue = sex."
   ]
  },
  {
   "cell_type": "code",
   "execution_count": 26,
   "metadata": {},
   "outputs": [],
   "source": [
    "# Try other hues. Comment out as clutter.\n",
    "# sns.lmplot(x=\"total_bill\", y=\"tip\", hue=\"time\", data=df)"
   ]
  },
  {
   "cell_type": "markdown",
   "metadata": {},
   "source": [
    "### 3.2 Simple linear regression\n",
    "After listening to the week 9 lectures for this module on simple linear regression, I now include, for the sake of completeness, a simple linear regression model. This section was actually completed after the work in 3.3 and 3.4 below. "
   ]
  },
  {
   "cell_type": "code",
   "execution_count": 27,
   "metadata": {},
   "outputs": [
    {
     "name": "stdout",
     "output_type": "stream",
     "text": [
      "Polyfit: m = 0.105025, c = 0.920270.\n"
     ]
    },
    {
     "data": {
      "text/plain": [
       "<matplotlib.legend.Legend at 0x2a2733a5f28>"
      ]
     },
     "execution_count": 27,
     "metadata": {},
     "output_type": "execute_result"
    },
    {
     "data": {
      "image/png": "[encoded data removed]",
      "text/plain": [
       "<Figure size 720x432 with 1 Axes>"
      ]
     },
     "metadata": {},
     "output_type": "display_data"
    }
   ],
   "source": [
    "# Use numpy.polyfit(x, y, deg of the fit (1 is linear))\n",
    "# x is the tip column of the data set.\n",
    "# y is the total_bill column of the data set.\n",
    "\n",
    "# Do simple linear regression\n",
    "slr = np.polyfit(df['total_bill'], df['tip'], 1)\n",
    "fit_m, fit_c = slr[0], slr[1]\n",
    "print(\"Polyfit: m = %8.6f, c = %6.6f.\" % (fit_m, fit_c))\n",
    "\n",
    "# Plot the data.\n",
    "plt.plot(df['total_bill'], df['tip'], '.b', label='data')\n",
    "\n",
    "# Plot the fitted line.\n",
    "x = np.arange(0.0, 60.0, 1.0)\n",
    "plt.plot(x, fit_m * x + fit_c, 'r-', label=\"fit\")\n",
    "\n",
    "plt.title('Tip vs total bill', fontsize='14')\n",
    "plt.xlabel('total bill', fontsize='14')\n",
    "plt.ylabel('tip', fontsize='14')\n",
    "plt.xlim(0, 60)\n",
    "plt.ylim(0, 12)\n",
    "plt.legend()\n",
    "\n",
    "# Save the plot if required.\n",
    "# plt.savefig(\"images/LSQalldata.png\")"
   ]
  },
  {
   "cell_type": "markdown",
   "metadata": {},
   "source": [
    "As an aside here, there appear to be lines of points at tip = 2 and tip = 3, and maybe at tip = 1. Looks like some diners are leaving 1, 2, or 3 rounded amounts. "
   ]
  },
  {
   "cell_type": "markdown",
   "metadata": {},
   "source": [
    "How do we check how good this fit is? As per the lecture on this topic, each fit has a cost. We want to identify the fitting parameters which minimize that cost. The numpy.polyfit function above does that automatically for us. If we want to get a metric telling us how good the fit is for these fitting parameters, we can use numpy.corrcoef to calculate the correlation matrix for the two variables (tip, total_bill); or, how strong is the linear relationship between the two variables? The result is a 2 x 2 matrix (because we have 2 variables), and the off-diagonal elements can be used to calculate the $R^2$ value. "
   ]
  },
  {
   "cell_type": "code",
   "execution_count": 28,
   "metadata": {},
   "outputs": [
    {
     "name": "stdout",
     "output_type": "stream",
     "text": [
      "[[1.         0.67573411]\n",
      " [0.67573411 1.        ]]\n",
      "R squared for this fit is: 0.457\n"
     ]
    }
   ],
   "source": [
    "# Calculate the correlation matrix.\n",
    "print(np.corrcoef(df['total_bill'], df['tip']))\n",
    "\n",
    "# Square off-diagonal element to get Rsquared. [row=0][col=1]\n",
    "print(\"R squared for this fit is:\", round(np.corrcoef(df['total_bill'], df['tip'])[0][1] ** 2, 3))"
   ]
  },
  {
   "cell_type": "markdown",
   "metadata": {},
   "source": [
    "Note that the off-diagonal elements of this matrix (Pearson correlation coefficients) are positive, which means that as the value of one variable increases, so does the value of the other. If those correlation coefficients are exactly $\\pm 1$, the relationship is perfectly linear. The caveat here is that variables are assumed to be normally distributed - I would say that's not a bad assumption, based on the histogram plotted earlier in the notebook. I'm not going to check that rigorously though, because the fitting process is giving sensible results. It might be worth looking at this in more detail if the fit was producing silly values for slope and intercept. "
   ]
  },
  {
   "cell_type": "markdown",
   "metadata": {},
   "source": [
    "### 3.3 Regression using Statsmodels"
   ]
  },
  {
   "cell_type": "markdown",
   "metadata": {},
   "source": [
    "We continue investigating if the tip amount is proportional to the total bill. We will try some ordinary least squares (OLS) fitting using the statsmodels package. The regression model we will use is OLS(y,X) and we will add a y intercept to the X data. We want to check if\n",
    "\n",
    "$$y = m x + c$$\n",
    "\n",
    "where:\n",
    "- y is the tip\n",
    "- x is the total bill\n",
    "- m is the slope \n",
    "- c is the y intercept. \n",
    "We do not consider any of the categorical variables at this stage."
   ]
  },
  {
   "cell_type": "code",
   "execution_count": 29,
   "metadata": {},
   "outputs": [
    {
     "name": "stdout",
     "output_type": "stream",
     "text": [
      "                            OLS Regression Results                            \n",
      "==============================================================================\n",
      "Dep. Variable:                    tip   R-squared:                       0.457\n",
      "Model:                            OLS   Adj. R-squared:                  0.454\n",
      "Method:                 Least Squares   F-statistic:                     203.4\n",
      "Date:                Wed, 20 Nov 2019   Prob (F-statistic):           6.69e-34\n",
      "Time:                        17:18:07   Log-Likelihood:                -350.54\n",
      "No. Observations:                 244   AIC:                             705.1\n",
      "Df Residuals:                     242   BIC:                             712.1\n",
      "Df Model:                           1                                         \n",
      "Covariance Type:            nonrobust                                         \n",
      "==============================================================================\n",
      "                 coef    std err          t      P>|t|      [0.025      0.975]\n",
      "------------------------------------------------------------------------------\n",
      "const          0.9203      0.160      5.761      0.000       0.606       1.235\n",
      "x1             0.1050      0.007     14.260      0.000       0.091       0.120\n",
      "==============================================================================\n",
      "Omnibus:                       20.185   Durbin-Watson:                   2.151\n",
      "Prob(Omnibus):                  0.000   Jarque-Bera (JB):               37.750\n",
      "Skew:                           0.443   Prob(JB):                     6.35e-09\n",
      "Kurtosis:                       4.711   Cond. No.                         53.0\n",
      "==============================================================================\n",
      "\n",
      "Warnings:\n",
      "[1] Standard Errors assume that the covariance matrix of the errors is correctly specified.\n"
     ]
    }
   ],
   "source": [
    "# x values = total_bill and we allow for a y intecept.\n",
    "c_sm = sm.add_constant(df['total_bill'].values) # used .values to get rid of a warning.\n",
    "# OLS model y values = tip, x values as above.\n",
    "model_sm = sm.OLS(df['tip'], c_sm)\n",
    "# preform the fit\n",
    "fit_sm = model_sm.fit()\n",
    "\n",
    "print(fit_sm.summary())"
   ]
  },
  {
   "cell_type": "markdown",
   "metadata": {},
   "source": [
    "This summary produces a lot of information, most of which we are not interested in. Notice that the $R^2$ value is not great (again) as a value of 1 would imply a perfect fit. It is identical to the value found above with numpy.corrcoef. We are only interested in some parameters:"
   ]
  },
  {
   "cell_type": "code",
   "execution_count": 30,
   "metadata": {},
   "outputs": [
    {
     "name": "stdout",
     "output_type": "stream",
     "text": [
      "Parameters:\n",
      "const    0.920270\n",
      "x1       0.105025\n",
      "dtype: float64\n",
      "R squared:  0.45661658635167646\n"
     ]
    }
   ],
   "source": [
    "print(\"Parameters:\")\n",
    "print(fit_sm.params)\n",
    "print(\"R squared: \", fit_sm.rsquared)"
   ]
  },
  {
   "cell_type": "markdown",
   "metadata": {},
   "source": [
    "### 3.4 Regression using scikit-learn"
   ]
  },
  {
   "cell_type": "markdown",
   "metadata": {},
   "source": [
    "Repeat the fitting process using scikit-learn. LinearRegression() fits a linear model to the data."
   ]
  },
  {
   "cell_type": "code",
   "execution_count": 31,
   "metadata": {},
   "outputs": [
    {
     "name": "stdout",
     "output_type": "stream",
     "text": [
      "Line slope: \n",
      " [0.10502452]\n",
      "y intercept: \n",
      " 0.9202696135546731\n",
      "R-squared: \n",
      " 0.45661658635167657\n",
      "We expect a tip of $ 11.42  for a spend of $ 100\n"
     ]
    }
   ],
   "source": [
    "# OLS model.\n",
    "model = lm.LinearRegression()\n",
    "# set up X values.\n",
    "X = df[['total_bill']]\n",
    "# set up y values.\n",
    "y = df['tip']\n",
    "# perform the regression.\n",
    "model.fit(X, y)\n",
    "\n",
    "print('Line slope: \\n', model.coef_)\n",
    "print('y intercept: \\n', model.intercept_)\n",
    "print('R-squared: \\n', model.score(X,y))\n",
    "\n",
    "# What tip do we predict for total_bill=$100?\n",
    "spend = 100\n",
    "pred = model.coef_ * spend + model.intercept_\n",
    "print(\"We expect a tip of $\", round(pred[0],2), \" for a spend of $\", spend )"
   ]
  },
  {
   "cell_type": "markdown",
   "metadata": {},
   "source": [
    "So, polyfit, Statsmodels, and scikit-learn give the same fitting parameters; slope = 0.105, y intercept = 0.92, and $R^2$ = 0.46. The tip is indeed linearly proportional to the total bill but the $R^2$ value is not great. We might get a better fit if we consider subsets of the data? For now we can say that, based on the analysis above, we would expect a $\\$11.42$ tip if the total bill was $\\$100$. See the README for more detail on $R^2$ and our predictions."
   ]
  },
  {
   "cell_type": "markdown",
   "metadata": {},
   "source": [
    "### 3.5 Consider linear regression with scikit-learn on subsets of the data"
   ]
  },
  {
   "cell_type": "markdown",
   "metadata": {},
   "source": [
    "**First, consider a single party size**\n",
    "\n",
    "We can try doing regression where we consider only party sizes of 2 as they cover 156 of the 244 observations."
   ]
  },
  {
   "cell_type": "code",
   "execution_count": 32,
   "metadata": {
    "scrolled": true
   },
   "outputs": [
    {
     "name": "stdout",
     "output_type": "stream",
     "text": [
      "Line slope size=2: \n",
      " [0.07845734]\n",
      "y intercept size=2: \n",
      " 1.2918403397466431\n",
      "R-squared size=2: \n",
      " 0.23150628080392022\n"
     ]
    }
   ],
   "source": [
    "# Checking subsets of df\n",
    "# y1 = df.loc[(df['tip'] > 0) & (df['size'] == 2)] # ok but long-winded\n",
    "# y2 = y1['tip'] # just one col ok\n",
    "# y3 = df.loc[df['size'] == 2] #ok\n",
    "# y4 = y3['tip']\n",
    "\n",
    "# Select only those rows with party size = 2\n",
    "s2 = df.loc[df['size'] == 2] # all columns, certain rows\n",
    "X = s2[['total_bill']] \n",
    "# print(X)\n",
    "y = df.loc[df['size'] == 2]['tip'] # all in one ok\n",
    "model.fit(X, y) # do fit\n",
    "\n",
    "print('Line slope size=2: \\n', model.coef_)\n",
    "print('y intercept size=2: \\n', model.intercept_)\n",
    "print('R-squared size=2: \\n', model.score(X,y))"
   ]
  },
  {
   "cell_type": "markdown",
   "metadata": {},
   "source": [
    "The $R^2$ is even worse now. Plot the data and see that there's huge spread in the points, so it's not surprising that the fit to a line isn't great. I had been thinking that I could use the size = 2 subset of data for predictions instead of the full data set, but clearly not."
   ]
  },
  {
   "cell_type": "code",
   "execution_count": 33,
   "metadata": {},
   "outputs": [
    {
     "data": {
      "text/plain": [
       "Text(0, 0.5, 'tip')"
      ]
     },
     "execution_count": 33,
     "metadata": {},
     "output_type": "execute_result"
    },
    {
     "data": {
      "image/png": "[encoded data removed]",
      "text/plain": [
       "<Figure size 720x432 with 1 Axes>"
      ]
     },
     "metadata": {},
     "output_type": "display_data"
    }
   ],
   "source": [
    "# PLot tip vs total bill for this party size\n",
    "plt.plot(df.loc[df['size'] == 2]['total_bill'], df.loc[df['size'] == 2]['tip'], '.r')\n",
    "plt.title('size = 2', fontsize='14')\n",
    "plt.xlabel('total_bill', fontsize='14')\n",
    "plt.ylabel('tip', fontsize='14')"
   ]
  },
  {
   "cell_type": "markdown",
   "metadata": {},
   "source": [
    "**How about regression for party sizes of 2, 3, 4 combined?**"
   ]
  },
  {
   "cell_type": "code",
   "execution_count": 34,
   "metadata": {},
   "outputs": [
    {
     "name": "stdout",
     "output_type": "stream",
     "text": [
      "Line slope size=2,3,4: \n",
      " [0.10472345]\n",
      "y intercept size=2,3,4: \n",
      " 0.9202481221900891\n",
      "R-squared size=2,3,4: \n",
      " 0.4377621135583911\n"
     ]
    }
   ],
   "source": [
    "s3 = df.loc[df['size'].isin([2, 3, 4])] # all columns, certain rows\n",
    "X = s3[['total_bill']] \n",
    "# print(X)\n",
    "y = df.loc[df['size'].isin([2, 3, 4])]['tip'] # all in one ok\n",
    "model.fit(X, y) # do fit\n",
    "\n",
    "print('Line slope size=2,3,4: \\n', model.coef_)\n",
    "print('y intercept size=2,3,4: \\n', model.intercept_)\n",
    "print('R-squared size=2,3,4: \\n', model.score(X,y))"
   ]
  },
  {
   "cell_type": "markdown",
   "metadata": {},
   "source": [
    "It's not a surprise to see that the fit on including party sizes of 2, 3, and 4 is almost identical to that for the full data set. These party sizes combined cover all but 13 rows of the data frame. We haven't gained any extra information by doing this."
   ]
  },
  {
   "cell_type": "markdown",
   "metadata": {},
   "source": [
    "**Regression with various combinations of categorical variables.**"
   ]
  },
  {
   "cell_type": "markdown",
   "metadata": {},
   "source": [
    "Sex and smoker"
   ]
  },
  {
   "cell_type": "code",
   "execution_count": 35,
   "metadata": {
    "scrolled": true
   },
   "outputs": [
    {
     "name": "stdout",
     "output_type": "stream",
     "text": [
      "(97, 8)\n",
      "Line slope : \n",
      " [0.13971878]\n",
      "y intercept : \n",
      " 0.3481945382935785\n",
      "R-squared : \n",
      " 0.6700097355989045\n",
      "We expect a tip of $ 14.32  for a spend of $ 100\n"
     ]
    }
   ],
   "source": [
    "# Select sex and smoker combinations to compare linear regression results.\n",
    "fs = df.loc[(df['sex'] == 'Male') & (df['smoker'] == 'No')]\n",
    "print(fs.shape) # check numbers correspond to pivot table data below.\n",
    "X = fs[['total_bill']]\n",
    "y = fs['tip']\n",
    "\n",
    "model.fit(X, y) # do fit\n",
    "\n",
    "print('Line slope : \\n', model.coef_)\n",
    "print('y intercept : \\n', model.intercept_)\n",
    "print('R-squared : \\n', model.score(X,y))\n",
    "\n",
    "# What tip do we predict for total_bill=$100?\n",
    "spend = 100\n",
    "pred = model.coef_ * spend + model.intercept_\n",
    "print(\"We expect a tip of $\", round(pred[0],2), \" for a spend of $\", spend )"
   ]
  },
  {
   "cell_type": "markdown",
   "metadata": {},
   "source": [
    "Day"
   ]
  },
  {
   "cell_type": "code",
   "execution_count": 36,
   "metadata": {},
   "outputs": [
    {
     "name": "stdout",
     "output_type": "stream",
     "text": [
      "Days are:  [Sun, Sat, Thur, Fri]\n",
      "Categories (4, object): [Sun, Sat, Thur, Fri]\n",
      "Line slope day: \n",
      " [0.07015353]\n",
      "y intercept day: \n",
      " 1.7531444940283958\n",
      "R-squared day: \n",
      " 0.25175578021289746\n",
      "We expect a tip of $ 8.77  for a spend of $ 100\n"
     ]
    }
   ],
   "source": [
    "# Select certain days.\n",
    "print(\"Days are: \", df.day.unique())\n",
    "\n",
    "d = df.loc[df['day'] == 'Sun'] # all columns, certain rows\n",
    "X = d[['total_bill']] \n",
    "# print(X)\n",
    "y = df.loc[df['day'] == 'Sun']['tip'] # all in one ok\n",
    "model.fit(X, y) # do fit\n",
    "\n",
    "print('Line slope day: \\n', model.coef_)\n",
    "print('y intercept day: \\n', model.intercept_)\n",
    "print('R-squared day: \\n', model.score(X,y))\n",
    "\n",
    "# What tip do we predict for total_bill=$100?\n",
    "spend = 100\n",
    "pred = model.coef_ * spend + model.intercept_\n",
    "print(\"We expect a tip of $\", round(pred[0],2), \" for a spend of $\", spend )"
   ]
  },
  {
   "cell_type": "markdown",
   "metadata": {},
   "source": [
    "I realize that this part of the notebook has become long, but I don't want to just delete it because this is an assignment.  Rather than including lots of results here, I'll summarize the findings of this section (regression using only certain subsets of the data) in the README. Looks like the highest $R^2$ occurs for M or F non-smokers. The slope of the regression line for non-smokers, regardless of sex, is larger than for smokers. So what? I could keep going looking at various combinations of day and time, but I think I'll leave it for now. I will just note here that good fitting parameters are also obtained for day = Thursday."
   ]
  },
  {
   "cell_type": "markdown",
   "metadata": {},
   "source": [
    "***\n",
    "## 4. Relationships between variables"
   ]
  },
  {
   "cell_type": "markdown",
   "metadata": {},
   "source": [
    "In the section on regression above, we investigated if the tip amount is related to the total bill. We found that it was. We also started looking as subsets of the data set chosen by categorical variable, in particular how choosing different combinations of diner affected the quality of the linear regression fit. What other questions can we ask of the data at this stage?\n"
   ]
  },
  {
   "cell_type": "markdown",
   "metadata": {},
   "source": [
    "### 4.1 Visualize relationships between numerical variables with pairplot"
   ]
  },
  {
   "cell_type": "code",
   "execution_count": 37,
   "metadata": {},
   "outputs": [
    {
     "data": {
      "text/plain": [
       "<seaborn.axisgrid.PairGrid at 0x2a2735306a0>"
      ]
     },
     "execution_count": 37,
     "metadata": {},
     "output_type": "execute_result"
    },
    {
     "data": {
      "image/png": "[encoded data removed]",
      "text/plain": [
       "<Figure size 816.775x720 with 20 Axes>"
      ]
     },
     "metadata": {},
     "output_type": "display_data"
    }
   ],
   "source": [
    "# I'll start with a pairplot to see if anything jumps out from the numeric variables.\n",
    "sns.pairplot(df, vars=[\"tip\", \"total_bill\", \"ftip\", \"size\"], hue='sex')"
   ]
  },
  {
   "cell_type": "markdown",
   "metadata": {},
   "source": [
    "Immediately we can see (top row second column) that there appears to be a relationship between the total bill and tip amount. Indeed, that was the relationship we investigated in the section on regression. Apart from that observation, I don't know if this Seaborn pairplot is much more use to us, because most variables in the data set are categorical. I ran the code cell cycling through different *hue* keywords; there is *possibly* a bit of separation between the sex and smoker groups in some of the plots. Maybe we could use this information for classification later on? "
   ]
  },
  {
   "cell_type": "markdown",
   "metadata": {},
   "source": [
    "### 4.2 Investigate relationships between tip amount and the categorical variables\n",
    "If we are just interested in cold hard cash we can look at the tip amount rather than tip percentage. Wes McKinney's video \"10 minutes to Pandas\" talks about the pivot_table as a method to aggregate the numerical data by categorical variable. The default function is mean. We can use this to differentiate between the sexes, and further between smokers and non-smokers for example. I will use the pivot_table to investigate the relationship between the tip amount and the various categorical variables. I will assume $ when listing tip amounts."
   ]
  },
  {
   "cell_type": "markdown",
   "metadata": {},
   "source": [
    "### 4.2.1 Look at sex, smoker, and size first"
   ]
  },
  {
   "cell_type": "code",
   "execution_count": 38,
   "metadata": {},
   "outputs": [
    {
     "data": {
      "text/html": [
       "<div>\n",
       "<style scoped>\n",
       "    .dataframe tbody tr th:only-of-type {\n",
       "        vertical-align: middle;\n",
       "    }\n",
       "\n",
       "    .dataframe tbody tr th {\n",
       "        vertical-align: top;\n",
       "    }\n",
       "\n",
       "    .dataframe thead tr th {\n",
       "        text-align: left;\n",
       "    }\n",
       "\n",
       "    .dataframe thead tr:last-of-type th {\n",
       "        text-align: right;\n",
       "    }\n",
       "</style>\n",
       "<table border=\"1\" class=\"dataframe\">\n",
       "  <thead>\n",
       "    <tr>\n",
       "      <th></th>\n",
       "      <th></th>\n",
       "      <th colspan=\"6\" halign=\"left\">tip</th>\n",
       "    </tr>\n",
       "    <tr>\n",
       "      <th></th>\n",
       "      <th>size</th>\n",
       "      <th>1</th>\n",
       "      <th>2</th>\n",
       "      <th>3</th>\n",
       "      <th>4</th>\n",
       "      <th>5</th>\n",
       "      <th>6</th>\n",
       "    </tr>\n",
       "    <tr>\n",
       "      <th>sex</th>\n",
       "      <th>smoker</th>\n",
       "      <th></th>\n",
       "      <th></th>\n",
       "      <th></th>\n",
       "      <th></th>\n",
       "      <th></th>\n",
       "      <th></th>\n",
       "    </tr>\n",
       "  </thead>\n",
       "  <tbody>\n",
       "    <tr>\n",
       "      <th rowspan=\"2\" valign=\"top\">Male</th>\n",
       "      <th>Yes</th>\n",
       "      <td>1.920</td>\n",
       "      <td>2.692927</td>\n",
       "      <td>4.272857</td>\n",
       "      <td>3.981111</td>\n",
       "      <td>2.50</td>\n",
       "      <td>0.00</td>\n",
       "    </tr>\n",
       "    <tr>\n",
       "      <th>No</th>\n",
       "      <td>0.000</td>\n",
       "      <td>2.557544</td>\n",
       "      <td>3.148824</td>\n",
       "      <td>4.262632</td>\n",
       "      <td>5.00</td>\n",
       "      <td>5.85</td>\n",
       "    </tr>\n",
       "    <tr>\n",
       "      <th rowspan=\"2\" valign=\"top\">Female</th>\n",
       "      <th>Yes</th>\n",
       "      <td>1.000</td>\n",
       "      <td>2.736800</td>\n",
       "      <td>3.846000</td>\n",
       "      <td>4.045000</td>\n",
       "      <td>0.00</td>\n",
       "      <td>0.00</td>\n",
       "    </tr>\n",
       "    <tr>\n",
       "      <th>No</th>\n",
       "      <td>1.415</td>\n",
       "      <td>2.370606</td>\n",
       "      <td>2.918889</td>\n",
       "      <td>4.014286</td>\n",
       "      <td>5.14</td>\n",
       "      <td>4.60</td>\n",
       "    </tr>\n",
       "  </tbody>\n",
       "</table>\n",
       "</div>"
      ],
      "text/plain": [
       "                 tip                                          \n",
       "size               1         2         3         4     5     6\n",
       "sex    smoker                                                 \n",
       "Male   Yes     1.920  2.692927  4.272857  3.981111  2.50  0.00\n",
       "       No      0.000  2.557544  3.148824  4.262632  5.00  5.85\n",
       "Female Yes     1.000  2.736800  3.846000  4.045000  0.00  0.00\n",
       "       No      1.415  2.370606  2.918889  4.014286  5.14  4.60"
      ]
     },
     "execution_count": 38,
     "metadata": {},
     "output_type": "execute_result"
    }
   ],
   "source": [
    "# Summarize data using sex and smoker keys AND group by size.\n",
    "# Replace any empty cells with 0.\n",
    "df.pivot_table(['tip'], index=['sex', 'smoker'], columns = 'size', fill_value=0)\n",
    "\n",
    "## Recall outlier = male, smoker, Sunday, dinner, size=2.\n",
    "## See a tiny change in that cell, not worth going to the trouble of ignoring it.\n",
    "# df[df.ftip < 0.6].pivot_table(['ftip'], index=['sex', 'smoker'], columns='size') # columns='day' or'time' # ignore outlier"
   ]
  },
  {
   "cell_type": "code",
   "execution_count": 39,
   "metadata": {},
   "outputs": [
    {
     "name": "stdout",
     "output_type": "stream",
     "text": [
      "Max values:      size\n",
      "tip  1       1.920000\n",
      "     2       2.736800\n",
      "     3       4.272857\n",
      "     4       4.262632\n",
      "     5       5.140000\n",
      "     6       5.850000\n",
      "dtype: float64\n",
      "Min values:      size\n",
      "tip  1       1.000000\n",
      "     2       2.370606\n",
      "     3       2.918889\n",
      "     4       3.981111\n",
      "     5       2.500000\n",
      "     6       4.600000\n",
      "dtype: float64\n"
     ]
    }
   ],
   "source": [
    "# Find the maximum\n",
    "print(\"Max values:\", df.pivot_table(['tip'], index=['sex', 'smoker'], columns = 'size').max())\n",
    "# Find the minumum (don't fill with zeros now)\n",
    "print(\"Min values:\", df.pivot_table(['tip'], index=['sex', 'smoker'], columns = 'size').min())"
   ]
  },
  {
   "cell_type": "code",
   "execution_count": 40,
   "metadata": {},
   "outputs": [
    {
     "data": {
      "text/html": [
       "<div>\n",
       "<style scoped>\n",
       "    .dataframe tbody tr th:only-of-type {\n",
       "        vertical-align: middle;\n",
       "    }\n",
       "\n",
       "    .dataframe tbody tr th {\n",
       "        vertical-align: top;\n",
       "    }\n",
       "\n",
       "    .dataframe thead tr th {\n",
       "        text-align: left;\n",
       "    }\n",
       "\n",
       "    .dataframe thead tr:last-of-type th {\n",
       "        text-align: right;\n",
       "    }\n",
       "</style>\n",
       "<table border=\"1\" class=\"dataframe\">\n",
       "  <thead>\n",
       "    <tr>\n",
       "      <th></th>\n",
       "      <th></th>\n",
       "      <th colspan=\"6\" halign=\"left\">tip</th>\n",
       "    </tr>\n",
       "    <tr>\n",
       "      <th></th>\n",
       "      <th>size</th>\n",
       "      <th>1</th>\n",
       "      <th>2</th>\n",
       "      <th>3</th>\n",
       "      <th>4</th>\n",
       "      <th>5</th>\n",
       "      <th>6</th>\n",
       "    </tr>\n",
       "    <tr>\n",
       "      <th>sex</th>\n",
       "      <th>smoker</th>\n",
       "      <th></th>\n",
       "      <th></th>\n",
       "      <th></th>\n",
       "      <th></th>\n",
       "      <th></th>\n",
       "      <th></th>\n",
       "    </tr>\n",
       "  </thead>\n",
       "  <tbody>\n",
       "    <tr>\n",
       "      <th rowspan=\"2\" valign=\"top\">Male</th>\n",
       "      <th>Yes</th>\n",
       "      <td>1</td>\n",
       "      <td>41</td>\n",
       "      <td>7</td>\n",
       "      <td>9</td>\n",
       "      <td>2</td>\n",
       "      <td>0</td>\n",
       "    </tr>\n",
       "    <tr>\n",
       "      <th>No</th>\n",
       "      <td>0</td>\n",
       "      <td>57</td>\n",
       "      <td>17</td>\n",
       "      <td>19</td>\n",
       "      <td>2</td>\n",
       "      <td>2</td>\n",
       "    </tr>\n",
       "    <tr>\n",
       "      <th rowspan=\"2\" valign=\"top\">Female</th>\n",
       "      <th>Yes</th>\n",
       "      <td>1</td>\n",
       "      <td>25</td>\n",
       "      <td>5</td>\n",
       "      <td>2</td>\n",
       "      <td>0</td>\n",
       "      <td>0</td>\n",
       "    </tr>\n",
       "    <tr>\n",
       "      <th>No</th>\n",
       "      <td>2</td>\n",
       "      <td>33</td>\n",
       "      <td>9</td>\n",
       "      <td>7</td>\n",
       "      <td>1</td>\n",
       "      <td>2</td>\n",
       "    </tr>\n",
       "  </tbody>\n",
       "</table>\n",
       "</div>"
      ],
      "text/plain": [
       "              tip                  \n",
       "size            1   2   3   4  5  6\n",
       "sex    smoker                      \n",
       "Male   Yes      1  41   7   9  2  0\n",
       "       No       0  57  17  19  2  2\n",
       "Female Yes      1  25   5   2  0  0\n",
       "       No       2  33   9   7  1  2"
      ]
     },
     "execution_count": 40,
     "metadata": {},
     "output_type": "execute_result"
    }
   ],
   "source": [
    "# How many in each group?.\n",
    "df.pivot_table(['tip'], index=['sex', 'smoker'], columns='size', aggfunc='count', fill_value=0) # To count group sizes."
   ]
  },
  {
   "cell_type": "markdown",
   "metadata": {},
   "source": [
    "- The highest average tip is for male non-smokers in a party of 6 ($\\$5.85$, count = 2). \n",
    "- The lowest average tip is for female smokers dining alone ($\\$1.00$, count = 1)."
   ]
  },
  {
   "cell_type": "markdown",
   "metadata": {},
   "source": [
    "### 4.2.2 Look at sex, smoker and day"
   ]
  },
  {
   "cell_type": "code",
   "execution_count": 41,
   "metadata": {},
   "outputs": [
    {
     "data": {
      "text/html": [
       "<div>\n",
       "<style scoped>\n",
       "    .dataframe tbody tr th:only-of-type {\n",
       "        vertical-align: middle;\n",
       "    }\n",
       "\n",
       "    .dataframe tbody tr th {\n",
       "        vertical-align: top;\n",
       "    }\n",
       "\n",
       "    .dataframe thead tr th {\n",
       "        text-align: left;\n",
       "    }\n",
       "\n",
       "    .dataframe thead tr:last-of-type th {\n",
       "        text-align: right;\n",
       "    }\n",
       "</style>\n",
       "<table border=\"1\" class=\"dataframe\">\n",
       "  <thead>\n",
       "    <tr>\n",
       "      <th></th>\n",
       "      <th></th>\n",
       "      <th colspan=\"4\" halign=\"left\">tip</th>\n",
       "    </tr>\n",
       "    <tr>\n",
       "      <th></th>\n",
       "      <th>day</th>\n",
       "      <th>Thur</th>\n",
       "      <th>Fri</th>\n",
       "      <th>Sat</th>\n",
       "      <th>Sun</th>\n",
       "    </tr>\n",
       "    <tr>\n",
       "      <th>sex</th>\n",
       "      <th>smoker</th>\n",
       "      <th></th>\n",
       "      <th></th>\n",
       "      <th></th>\n",
       "      <th></th>\n",
       "    </tr>\n",
       "  </thead>\n",
       "  <tbody>\n",
       "    <tr>\n",
       "      <th rowspan=\"2\" valign=\"top\">Male</th>\n",
       "      <th>Yes</th>\n",
       "      <td>3.0580</td>\n",
       "      <td>2.741250</td>\n",
       "      <td>2.879259</td>\n",
       "      <td>3.521333</td>\n",
       "    </tr>\n",
       "    <tr>\n",
       "      <th>No</th>\n",
       "      <td>2.9415</td>\n",
       "      <td>2.500000</td>\n",
       "      <td>3.256563</td>\n",
       "      <td>3.115349</td>\n",
       "    </tr>\n",
       "    <tr>\n",
       "      <th rowspan=\"2\" valign=\"top\">Female</th>\n",
       "      <th>Yes</th>\n",
       "      <td>2.9900</td>\n",
       "      <td>2.682857</td>\n",
       "      <td>2.868667</td>\n",
       "      <td>3.500000</td>\n",
       "    </tr>\n",
       "    <tr>\n",
       "      <th>No</th>\n",
       "      <td>2.4596</td>\n",
       "      <td>3.125000</td>\n",
       "      <td>2.724615</td>\n",
       "      <td>3.329286</td>\n",
       "    </tr>\n",
       "  </tbody>\n",
       "</table>\n",
       "</div>"
      ],
      "text/plain": [
       "                  tip                              \n",
       "day              Thur       Fri       Sat       Sun\n",
       "sex    smoker                                      \n",
       "Male   Yes     3.0580  2.741250  2.879259  3.521333\n",
       "       No      2.9415  2.500000  3.256563  3.115349\n",
       "Female Yes     2.9900  2.682857  2.868667  3.500000\n",
       "       No      2.4596  3.125000  2.724615  3.329286"
      ]
     },
     "execution_count": 41,
     "metadata": {},
     "output_type": "execute_result"
    }
   ],
   "source": [
    "# Summarize the tip column using sex AND smoker keys and group by day.\n",
    "df.pivot_table(['tip'], index=['sex', 'smoker'], columns='day', fill_value=0) # To count group sizes: aggfunc='count'"
   ]
  },
  {
   "cell_type": "code",
   "execution_count": 42,
   "metadata": {},
   "outputs": [
    {
     "name": "stdout",
     "output_type": "stream",
     "text": [
      "Max values:      day \n",
      "tip  Thur    3.058000\n",
      "     Fri     3.125000\n",
      "     Sat     3.256563\n",
      "     Sun     3.521333\n",
      "dtype: float64\n",
      "Min values:      day \n",
      "tip  Thur    2.459600\n",
      "     Fri     2.500000\n",
      "     Sat     2.724615\n",
      "     Sun     3.115349\n",
      "dtype: float64\n"
     ]
    }
   ],
   "source": [
    "# Find the maximum\n",
    "print(\"Max values:\", df.pivot_table(['tip'], index=['sex', 'smoker'], columns = 'day').max())\n",
    "# Find the minumum (don't fill with zeros now)\n",
    "print(\"Min values:\", df.pivot_table(['tip'], index=['sex', 'smoker'], columns = 'day').min())"
   ]
  },
  {
   "cell_type": "code",
   "execution_count": 43,
   "metadata": {},
   "outputs": [
    {
     "data": {
      "text/html": [
       "<div>\n",
       "<style scoped>\n",
       "    .dataframe tbody tr th:only-of-type {\n",
       "        vertical-align: middle;\n",
       "    }\n",
       "\n",
       "    .dataframe tbody tr th {\n",
       "        vertical-align: top;\n",
       "    }\n",
       "\n",
       "    .dataframe thead tr th {\n",
       "        text-align: left;\n",
       "    }\n",
       "\n",
       "    .dataframe thead tr:last-of-type th {\n",
       "        text-align: right;\n",
       "    }\n",
       "</style>\n",
       "<table border=\"1\" class=\"dataframe\">\n",
       "  <thead>\n",
       "    <tr>\n",
       "      <th></th>\n",
       "      <th></th>\n",
       "      <th colspan=\"4\" halign=\"left\">tip</th>\n",
       "    </tr>\n",
       "    <tr>\n",
       "      <th></th>\n",
       "      <th>day</th>\n",
       "      <th>Thur</th>\n",
       "      <th>Fri</th>\n",
       "      <th>Sat</th>\n",
       "      <th>Sun</th>\n",
       "    </tr>\n",
       "    <tr>\n",
       "      <th>sex</th>\n",
       "      <th>smoker</th>\n",
       "      <th></th>\n",
       "      <th></th>\n",
       "      <th></th>\n",
       "      <th></th>\n",
       "    </tr>\n",
       "  </thead>\n",
       "  <tbody>\n",
       "    <tr>\n",
       "      <th rowspan=\"2\" valign=\"top\">Male</th>\n",
       "      <th>Yes</th>\n",
       "      <td>10</td>\n",
       "      <td>8</td>\n",
       "      <td>27</td>\n",
       "      <td>15</td>\n",
       "    </tr>\n",
       "    <tr>\n",
       "      <th>No</th>\n",
       "      <td>20</td>\n",
       "      <td>2</td>\n",
       "      <td>32</td>\n",
       "      <td>43</td>\n",
       "    </tr>\n",
       "    <tr>\n",
       "      <th rowspan=\"2\" valign=\"top\">Female</th>\n",
       "      <th>Yes</th>\n",
       "      <td>7</td>\n",
       "      <td>7</td>\n",
       "      <td>15</td>\n",
       "      <td>4</td>\n",
       "    </tr>\n",
       "    <tr>\n",
       "      <th>No</th>\n",
       "      <td>25</td>\n",
       "      <td>2</td>\n",
       "      <td>13</td>\n",
       "      <td>14</td>\n",
       "    </tr>\n",
       "  </tbody>\n",
       "</table>\n",
       "</div>"
      ],
      "text/plain": [
       "               tip            \n",
       "day           Thur Fri Sat Sun\n",
       "sex    smoker                 \n",
       "Male   Yes      10   8  27  15\n",
       "       No       20   2  32  43\n",
       "Female Yes       7   7  15   4\n",
       "       No       25   2  13  14"
      ]
     },
     "execution_count": 43,
     "metadata": {},
     "output_type": "execute_result"
    }
   ],
   "source": [
    "# How many in each of these groups?.\n",
    "df.pivot_table(['tip'], index=['sex', 'smoker'], columns='day', aggfunc='count', fill_value=0) # To count group sizes"
   ]
  },
  {
   "cell_type": "markdown",
   "metadata": {},
   "source": [
    "- The largest average tip occurs for male smokers on Sundays ($\\$3.52$, count = 15).\n",
    "- The lowest average tip occurs for female non-smokers on Thursdays (V\\$2.46V, count = 25)."
   ]
  },
  {
   "cell_type": "code",
   "execution_count": 44,
   "metadata": {},
   "outputs": [],
   "source": [
    "## Summarize tip column using sex AND smoker keys and group by time.\n",
    "#df.pivot_table(['tip'], index=['sex', 'smoker'], columns='time', fill_value=0) # To count group sizes: aggfunc='count'\n",
    "#print(df.pivot_table(['tip'], index=['sex', 'smoker'], columns='time', fill_value=0).max())\n",
    "#print(df.pivot_table(['tip'], index=['sex', 'smoker'], columns='time').min())\n",
    "## How many in each of these groups?.\n",
    "#df.pivot_table(['tip'], index=['sex', 'smoker'], columns='time', aggfunc='count', fill_value=0) # To count group sizes"
   ]
  },
  {
   "cell_type": "markdown",
   "metadata": {},
   "source": [
    "I could also analyze by sex AND smoker key and group by time. I've commented out the code cell above to avoid cluttering the notebook.\n",
    "- The largest average tip occurs for male non-smokers at dinner ($\\$3.15$, count = 77). \n",
    "- The lowest average tip occurs for female non-smokers at lunch ($\\$2.45$, count = 25)."
   ]
  },
  {
   "cell_type": "markdown",
   "metadata": {},
   "source": [
    "### 4.2.3 Bring it all together: look at sex, smoker, day, time *and* size.\n",
    "This will consolidate all of the information for the last few code cells. In hindsight, I could have done this at the start but I needed to make sense of it. I didn't realize I could do so much grouping in a single command."
   ]
  },
  {
   "cell_type": "code",
   "execution_count": 45,
   "metadata": {},
   "outputs": [
    {
     "data": {
      "text/html": [
       "<div>\n",
       "<style scoped>\n",
       "    .dataframe tbody tr th:only-of-type {\n",
       "        vertical-align: middle;\n",
       "    }\n",
       "\n",
       "    .dataframe tbody tr th {\n",
       "        vertical-align: top;\n",
       "    }\n",
       "\n",
       "    .dataframe thead tr th {\n",
       "        text-align: left;\n",
       "    }\n",
       "\n",
       "    .dataframe thead tr:last-of-type th {\n",
       "        text-align: right;\n",
       "    }\n",
       "</style>\n",
       "<table border=\"1\" class=\"dataframe\">\n",
       "  <thead>\n",
       "    <tr>\n",
       "      <th></th>\n",
       "      <th></th>\n",
       "      <th></th>\n",
       "      <th></th>\n",
       "      <th colspan=\"6\" halign=\"left\">tip</th>\n",
       "    </tr>\n",
       "    <tr>\n",
       "      <th></th>\n",
       "      <th></th>\n",
       "      <th></th>\n",
       "      <th>size</th>\n",
       "      <th>1</th>\n",
       "      <th>2</th>\n",
       "      <th>3</th>\n",
       "      <th>4</th>\n",
       "      <th>5</th>\n",
       "      <th>6</th>\n",
       "    </tr>\n",
       "    <tr>\n",
       "      <th>sex</th>\n",
       "      <th>smoker</th>\n",
       "      <th>day</th>\n",
       "      <th>time</th>\n",
       "      <th></th>\n",
       "      <th></th>\n",
       "      <th></th>\n",
       "      <th></th>\n",
       "      <th></th>\n",
       "      <th></th>\n",
       "    </tr>\n",
       "  </thead>\n",
       "  <tbody>\n",
       "    <tr>\n",
       "      <th rowspan=\"9\" valign=\"top\">Male</th>\n",
       "      <th rowspan=\"5\" valign=\"top\">Yes</th>\n",
       "      <th>Thur</th>\n",
       "      <th>Lunch</th>\n",
       "      <td>0.00</td>\n",
       "      <td>2.822500</td>\n",
       "      <td>4.000000</td>\n",
       "      <td>4.000000</td>\n",
       "      <td>0.00</td>\n",
       "      <td>0.0</td>\n",
       "    </tr>\n",
       "    <tr>\n",
       "      <th rowspan=\"2\" valign=\"top\">Fri</th>\n",
       "      <th>Lunch</th>\n",
       "      <td>1.92</td>\n",
       "      <td>1.890000</td>\n",
       "      <td>0.000000</td>\n",
       "      <td>0.000000</td>\n",
       "      <td>0.00</td>\n",
       "      <td>0.0</td>\n",
       "    </tr>\n",
       "    <tr>\n",
       "      <th>Dinner</th>\n",
       "      <td>0.00</td>\n",
       "      <td>2.875000</td>\n",
       "      <td>0.000000</td>\n",
       "      <td>4.730000</td>\n",
       "      <td>0.00</td>\n",
       "      <td>0.0</td>\n",
       "    </tr>\n",
       "    <tr>\n",
       "      <th>Sat</th>\n",
       "      <th>Dinner</th>\n",
       "      <td>0.00</td>\n",
       "      <td>2.318235</td>\n",
       "      <td>4.602500</td>\n",
       "      <td>3.384000</td>\n",
       "      <td>3.00</td>\n",
       "      <td>0.0</td>\n",
       "    </tr>\n",
       "    <tr>\n",
       "      <th>Sun</th>\n",
       "      <th>Dinner</th>\n",
       "      <td>0.00</td>\n",
       "      <td>3.314000</td>\n",
       "      <td>3.750000</td>\n",
       "      <td>5.090000</td>\n",
       "      <td>2.00</td>\n",
       "      <td>0.0</td>\n",
       "    </tr>\n",
       "    <tr>\n",
       "      <th rowspan=\"4\" valign=\"top\">No</th>\n",
       "      <th>Thur</th>\n",
       "      <th>Lunch</th>\n",
       "      <td>0.00</td>\n",
       "      <td>2.559375</td>\n",
       "      <td>2.180000</td>\n",
       "      <td>4.000000</td>\n",
       "      <td>5.00</td>\n",
       "      <td>6.7</td>\n",
       "    </tr>\n",
       "    <tr>\n",
       "      <th>Fri</th>\n",
       "      <th>Dinner</th>\n",
       "      <td>0.00</td>\n",
       "      <td>2.500000</td>\n",
       "      <td>0.000000</td>\n",
       "      <td>0.000000</td>\n",
       "      <td>0.00</td>\n",
       "      <td>0.0</td>\n",
       "    </tr>\n",
       "    <tr>\n",
       "      <th>Sat</th>\n",
       "      <th>Dinner</th>\n",
       "      <td>0.00</td>\n",
       "      <td>2.520588</td>\n",
       "      <td>3.356667</td>\n",
       "      <td>5.191667</td>\n",
       "      <td>0.00</td>\n",
       "      <td>0.0</td>\n",
       "    </tr>\n",
       "    <tr>\n",
       "      <th>Sun</th>\n",
       "      <th>Dinner</th>\n",
       "      <td>0.00</td>\n",
       "      <td>2.590000</td>\n",
       "      <td>3.020000</td>\n",
       "      <td>3.820000</td>\n",
       "      <td>5.00</td>\n",
       "      <td>5.0</td>\n",
       "    </tr>\n",
       "    <tr>\n",
       "      <th rowspan=\"11\" valign=\"top\">Female</th>\n",
       "      <th rowspan=\"5\" valign=\"top\">Yes</th>\n",
       "      <th>Thur</th>\n",
       "      <th>Lunch</th>\n",
       "      <td>0.00</td>\n",
       "      <td>2.540000</td>\n",
       "      <td>3.230000</td>\n",
       "      <td>5.000000</td>\n",
       "      <td>0.00</td>\n",
       "      <td>0.0</td>\n",
       "    </tr>\n",
       "    <tr>\n",
       "      <th rowspan=\"2\" valign=\"top\">Fri</th>\n",
       "      <th>Lunch</th>\n",
       "      <td>0.00</td>\n",
       "      <td>2.660000</td>\n",
       "      <td>0.000000</td>\n",
       "      <td>0.000000</td>\n",
       "      <td>0.00</td>\n",
       "      <td>0.0</td>\n",
       "    </tr>\n",
       "    <tr>\n",
       "      <th>Dinner</th>\n",
       "      <td>0.00</td>\n",
       "      <td>2.700000</td>\n",
       "      <td>0.000000</td>\n",
       "      <td>0.000000</td>\n",
       "      <td>0.00</td>\n",
       "      <td>0.0</td>\n",
       "    </tr>\n",
       "    <tr>\n",
       "      <th>Sat</th>\n",
       "      <th>Dinner</th>\n",
       "      <td>1.00</td>\n",
       "      <td>2.721818</td>\n",
       "      <td>4.500000</td>\n",
       "      <td>3.090000</td>\n",
       "      <td>0.00</td>\n",
       "      <td>0.0</td>\n",
       "    </tr>\n",
       "    <tr>\n",
       "      <th>Sun</th>\n",
       "      <th>Dinner</th>\n",
       "      <td>0.00</td>\n",
       "      <td>3.500000</td>\n",
       "      <td>3.500000</td>\n",
       "      <td>0.000000</td>\n",
       "      <td>0.00</td>\n",
       "      <td>0.0</td>\n",
       "    </tr>\n",
       "    <tr>\n",
       "      <th rowspan=\"6\" valign=\"top\">No</th>\n",
       "      <th rowspan=\"2\" valign=\"top\">Thur</th>\n",
       "      <th>Lunch</th>\n",
       "      <td>1.83</td>\n",
       "      <td>2.111667</td>\n",
       "      <td>1.360000</td>\n",
       "      <td>4.045000</td>\n",
       "      <td>0.00</td>\n",
       "      <td>4.6</td>\n",
       "    </tr>\n",
       "    <tr>\n",
       "      <th>Dinner</th>\n",
       "      <td>0.00</td>\n",
       "      <td>3.000000</td>\n",
       "      <td>0.000000</td>\n",
       "      <td>0.000000</td>\n",
       "      <td>0.00</td>\n",
       "      <td>0.0</td>\n",
       "    </tr>\n",
       "    <tr>\n",
       "      <th rowspan=\"2\" valign=\"top\">Fri</th>\n",
       "      <th>Lunch</th>\n",
       "      <td>0.00</td>\n",
       "      <td>0.000000</td>\n",
       "      <td>3.000000</td>\n",
       "      <td>0.000000</td>\n",
       "      <td>0.00</td>\n",
       "      <td>0.0</td>\n",
       "    </tr>\n",
       "    <tr>\n",
       "      <th>Dinner</th>\n",
       "      <td>0.00</td>\n",
       "      <td>3.250000</td>\n",
       "      <td>0.000000</td>\n",
       "      <td>0.000000</td>\n",
       "      <td>0.00</td>\n",
       "      <td>0.0</td>\n",
       "    </tr>\n",
       "    <tr>\n",
       "      <th>Sat</th>\n",
       "      <th>Dinner</th>\n",
       "      <td>1.00</td>\n",
       "      <td>2.653750</td>\n",
       "      <td>3.580000</td>\n",
       "      <td>2.450000</td>\n",
       "      <td>0.00</td>\n",
       "      <td>0.0</td>\n",
       "    </tr>\n",
       "    <tr>\n",
       "      <th>Sun</th>\n",
       "      <th>Dinner</th>\n",
       "      <td>0.00</td>\n",
       "      <td>2.548000</td>\n",
       "      <td>2.792500</td>\n",
       "      <td>4.390000</td>\n",
       "      <td>5.14</td>\n",
       "      <td>0.0</td>\n",
       "    </tr>\n",
       "  </tbody>\n",
       "</table>\n",
       "</div>"
      ],
      "text/plain": [
       "                            tip                                         \n",
       "size                          1         2         3         4     5    6\n",
       "sex    smoker day  time                                                 \n",
       "Male   Yes    Thur Lunch   0.00  2.822500  4.000000  4.000000  0.00  0.0\n",
       "              Fri  Lunch   1.92  1.890000  0.000000  0.000000  0.00  0.0\n",
       "                   Dinner  0.00  2.875000  0.000000  4.730000  0.00  0.0\n",
       "              Sat  Dinner  0.00  2.318235  4.602500  3.384000  3.00  0.0\n",
       "              Sun  Dinner  0.00  3.314000  3.750000  5.090000  2.00  0.0\n",
       "       No     Thur Lunch   0.00  2.559375  2.180000  4.000000  5.00  6.7\n",
       "              Fri  Dinner  0.00  2.500000  0.000000  0.000000  0.00  0.0\n",
       "              Sat  Dinner  0.00  2.520588  3.356667  5.191667  0.00  0.0\n",
       "              Sun  Dinner  0.00  2.590000  3.020000  3.820000  5.00  5.0\n",
       "Female Yes    Thur Lunch   0.00  2.540000  3.230000  5.000000  0.00  0.0\n",
       "              Fri  Lunch   0.00  2.660000  0.000000  0.000000  0.00  0.0\n",
       "                   Dinner  0.00  2.700000  0.000000  0.000000  0.00  0.0\n",
       "              Sat  Dinner  1.00  2.721818  4.500000  3.090000  0.00  0.0\n",
       "              Sun  Dinner  0.00  3.500000  3.500000  0.000000  0.00  0.0\n",
       "       No     Thur Lunch   1.83  2.111667  1.360000  4.045000  0.00  4.6\n",
       "                   Dinner  0.00  3.000000  0.000000  0.000000  0.00  0.0\n",
       "              Fri  Lunch   0.00  0.000000  3.000000  0.000000  0.00  0.0\n",
       "                   Dinner  0.00  3.250000  0.000000  0.000000  0.00  0.0\n",
       "              Sat  Dinner  1.00  2.653750  3.580000  2.450000  0.00  0.0\n",
       "              Sun  Dinner  0.00  2.548000  2.792500  4.390000  5.14  0.0"
      ]
     },
     "execution_count": 45,
     "metadata": {},
     "output_type": "execute_result"
    }
   ],
   "source": [
    "# Summarize tip column using sex AND smoker AND day keys and group by time.\n",
    "# Leave out the fill value here, think it confuses things.\n",
    "df.pivot_table(['tip'], index=['sex', 'smoker', 'day', 'time'], columns='size', fill_value=0)"
   ]
  },
  {
   "cell_type": "code",
   "execution_count": 46,
   "metadata": {},
   "outputs": [
    {
     "name": "stdout",
     "output_type": "stream",
     "text": [
      "Max values:      size\n",
      "tip  1       1.920000\n",
      "     2       3.500000\n",
      "     3       4.602500\n",
      "     4       5.191667\n",
      "     5       5.140000\n",
      "     6       6.700000\n",
      "dtype: float64\n",
      "Min values:      size\n",
      "tip  1       1.00\n",
      "     2       1.89\n",
      "     3       1.36\n",
      "     4       2.45\n",
      "     5       2.00\n",
      "     6       4.60\n",
      "dtype: float64\n"
     ]
    }
   ],
   "source": [
    "# Find the maximum\n",
    "print(\"Max values:\", df.pivot_table(['tip'], index=['sex', 'smoker', 'day', 'time'], columns='size', fill_value=0).max())\n",
    "# Find the minumum (don't fill with zeros now)\n",
    "print(\"Min values:\", df.pivot_table(['tip'], index=['sex', 'smoker', 'day', 'time'], columns='size').min())"
   ]
  },
  {
   "cell_type": "code",
   "execution_count": 47,
   "metadata": {},
   "outputs": [
    {
     "data": {
      "text/html": [
       "<div>\n",
       "<style scoped>\n",
       "    .dataframe tbody tr th:only-of-type {\n",
       "        vertical-align: middle;\n",
       "    }\n",
       "\n",
       "    .dataframe tbody tr th {\n",
       "        vertical-align: top;\n",
       "    }\n",
       "\n",
       "    .dataframe thead tr th {\n",
       "        text-align: left;\n",
       "    }\n",
       "\n",
       "    .dataframe thead tr:last-of-type th {\n",
       "        text-align: right;\n",
       "    }\n",
       "</style>\n",
       "<table border=\"1\" class=\"dataframe\">\n",
       "  <thead>\n",
       "    <tr>\n",
       "      <th></th>\n",
       "      <th></th>\n",
       "      <th></th>\n",
       "      <th></th>\n",
       "      <th colspan=\"6\" halign=\"left\">tip</th>\n",
       "    </tr>\n",
       "    <tr>\n",
       "      <th></th>\n",
       "      <th></th>\n",
       "      <th></th>\n",
       "      <th>size</th>\n",
       "      <th>1</th>\n",
       "      <th>2</th>\n",
       "      <th>3</th>\n",
       "      <th>4</th>\n",
       "      <th>5</th>\n",
       "      <th>6</th>\n",
       "    </tr>\n",
       "    <tr>\n",
       "      <th>sex</th>\n",
       "      <th>smoker</th>\n",
       "      <th>day</th>\n",
       "      <th>time</th>\n",
       "      <th></th>\n",
       "      <th></th>\n",
       "      <th></th>\n",
       "      <th></th>\n",
       "      <th></th>\n",
       "      <th></th>\n",
       "    </tr>\n",
       "  </thead>\n",
       "  <tbody>\n",
       "    <tr>\n",
       "      <th rowspan=\"9\" valign=\"top\">Male</th>\n",
       "      <th rowspan=\"5\" valign=\"top\">Yes</th>\n",
       "      <th>Thur</th>\n",
       "      <th>Lunch</th>\n",
       "      <td>0</td>\n",
       "      <td>8</td>\n",
       "      <td>1</td>\n",
       "      <td>1</td>\n",
       "      <td>0</td>\n",
       "      <td>0</td>\n",
       "    </tr>\n",
       "    <tr>\n",
       "      <th rowspan=\"2\" valign=\"top\">Fri</th>\n",
       "      <th>Lunch</th>\n",
       "      <td>1</td>\n",
       "      <td>2</td>\n",
       "      <td>0</td>\n",
       "      <td>0</td>\n",
       "      <td>0</td>\n",
       "      <td>0</td>\n",
       "    </tr>\n",
       "    <tr>\n",
       "      <th>Dinner</th>\n",
       "      <td>0</td>\n",
       "      <td>4</td>\n",
       "      <td>0</td>\n",
       "      <td>1</td>\n",
       "      <td>0</td>\n",
       "      <td>0</td>\n",
       "    </tr>\n",
       "    <tr>\n",
       "      <th>Sat</th>\n",
       "      <th>Dinner</th>\n",
       "      <td>0</td>\n",
       "      <td>17</td>\n",
       "      <td>4</td>\n",
       "      <td>5</td>\n",
       "      <td>1</td>\n",
       "      <td>0</td>\n",
       "    </tr>\n",
       "    <tr>\n",
       "      <th>Sun</th>\n",
       "      <th>Dinner</th>\n",
       "      <td>0</td>\n",
       "      <td>10</td>\n",
       "      <td>2</td>\n",
       "      <td>2</td>\n",
       "      <td>1</td>\n",
       "      <td>0</td>\n",
       "    </tr>\n",
       "    <tr>\n",
       "      <th rowspan=\"4\" valign=\"top\">No</th>\n",
       "      <th>Thur</th>\n",
       "      <th>Lunch</th>\n",
       "      <td>0</td>\n",
       "      <td>16</td>\n",
       "      <td>1</td>\n",
       "      <td>1</td>\n",
       "      <td>1</td>\n",
       "      <td>1</td>\n",
       "    </tr>\n",
       "    <tr>\n",
       "      <th>Fri</th>\n",
       "      <th>Dinner</th>\n",
       "      <td>0</td>\n",
       "      <td>2</td>\n",
       "      <td>0</td>\n",
       "      <td>0</td>\n",
       "      <td>0</td>\n",
       "      <td>0</td>\n",
       "    </tr>\n",
       "    <tr>\n",
       "      <th>Sat</th>\n",
       "      <th>Dinner</th>\n",
       "      <td>0</td>\n",
       "      <td>17</td>\n",
       "      <td>9</td>\n",
       "      <td>6</td>\n",
       "      <td>0</td>\n",
       "      <td>0</td>\n",
       "    </tr>\n",
       "    <tr>\n",
       "      <th>Sun</th>\n",
       "      <th>Dinner</th>\n",
       "      <td>0</td>\n",
       "      <td>22</td>\n",
       "      <td>7</td>\n",
       "      <td>12</td>\n",
       "      <td>1</td>\n",
       "      <td>1</td>\n",
       "    </tr>\n",
       "    <tr>\n",
       "      <th rowspan=\"11\" valign=\"top\">Female</th>\n",
       "      <th rowspan=\"5\" valign=\"top\">Yes</th>\n",
       "      <th>Thur</th>\n",
       "      <th>Lunch</th>\n",
       "      <td>0</td>\n",
       "      <td>5</td>\n",
       "      <td>1</td>\n",
       "      <td>1</td>\n",
       "      <td>0</td>\n",
       "      <td>0</td>\n",
       "    </tr>\n",
       "    <tr>\n",
       "      <th rowspan=\"2\" valign=\"top\">Fri</th>\n",
       "      <th>Lunch</th>\n",
       "      <td>0</td>\n",
       "      <td>3</td>\n",
       "      <td>0</td>\n",
       "      <td>0</td>\n",
       "      <td>0</td>\n",
       "      <td>0</td>\n",
       "    </tr>\n",
       "    <tr>\n",
       "      <th>Dinner</th>\n",
       "      <td>0</td>\n",
       "      <td>4</td>\n",
       "      <td>0</td>\n",
       "      <td>0</td>\n",
       "      <td>0</td>\n",
       "      <td>0</td>\n",
       "    </tr>\n",
       "    <tr>\n",
       "      <th>Sat</th>\n",
       "      <th>Dinner</th>\n",
       "      <td>1</td>\n",
       "      <td>11</td>\n",
       "      <td>2</td>\n",
       "      <td>1</td>\n",
       "      <td>0</td>\n",
       "      <td>0</td>\n",
       "    </tr>\n",
       "    <tr>\n",
       "      <th>Sun</th>\n",
       "      <th>Dinner</th>\n",
       "      <td>0</td>\n",
       "      <td>2</td>\n",
       "      <td>2</td>\n",
       "      <td>0</td>\n",
       "      <td>0</td>\n",
       "      <td>0</td>\n",
       "    </tr>\n",
       "    <tr>\n",
       "      <th rowspan=\"6\" valign=\"top\">No</th>\n",
       "      <th rowspan=\"2\" valign=\"top\">Thur</th>\n",
       "      <th>Lunch</th>\n",
       "      <td>1</td>\n",
       "      <td>18</td>\n",
       "      <td>1</td>\n",
       "      <td>2</td>\n",
       "      <td>0</td>\n",
       "      <td>2</td>\n",
       "    </tr>\n",
       "    <tr>\n",
       "      <th>Dinner</th>\n",
       "      <td>0</td>\n",
       "      <td>1</td>\n",
       "      <td>0</td>\n",
       "      <td>0</td>\n",
       "      <td>0</td>\n",
       "      <td>0</td>\n",
       "    </tr>\n",
       "    <tr>\n",
       "      <th rowspan=\"2\" valign=\"top\">Fri</th>\n",
       "      <th>Lunch</th>\n",
       "      <td>0</td>\n",
       "      <td>0</td>\n",
       "      <td>1</td>\n",
       "      <td>0</td>\n",
       "      <td>0</td>\n",
       "      <td>0</td>\n",
       "    </tr>\n",
       "    <tr>\n",
       "      <th>Dinner</th>\n",
       "      <td>0</td>\n",
       "      <td>1</td>\n",
       "      <td>0</td>\n",
       "      <td>0</td>\n",
       "      <td>0</td>\n",
       "      <td>0</td>\n",
       "    </tr>\n",
       "    <tr>\n",
       "      <th>Sat</th>\n",
       "      <th>Dinner</th>\n",
       "      <td>1</td>\n",
       "      <td>8</td>\n",
       "      <td>3</td>\n",
       "      <td>1</td>\n",
       "      <td>0</td>\n",
       "      <td>0</td>\n",
       "    </tr>\n",
       "    <tr>\n",
       "      <th>Sun</th>\n",
       "      <th>Dinner</th>\n",
       "      <td>0</td>\n",
       "      <td>5</td>\n",
       "      <td>4</td>\n",
       "      <td>4</td>\n",
       "      <td>1</td>\n",
       "      <td>0</td>\n",
       "    </tr>\n",
       "  </tbody>\n",
       "</table>\n",
       "</div>"
      ],
      "text/plain": [
       "                          tip                 \n",
       "size                        1   2  3   4  5  6\n",
       "sex    smoker day  time                       \n",
       "Male   Yes    Thur Lunch    0   8  1   1  0  0\n",
       "              Fri  Lunch    1   2  0   0  0  0\n",
       "                   Dinner   0   4  0   1  0  0\n",
       "              Sat  Dinner   0  17  4   5  1  0\n",
       "              Sun  Dinner   0  10  2   2  1  0\n",
       "       No     Thur Lunch    0  16  1   1  1  1\n",
       "              Fri  Dinner   0   2  0   0  0  0\n",
       "              Sat  Dinner   0  17  9   6  0  0\n",
       "              Sun  Dinner   0  22  7  12  1  1\n",
       "Female Yes    Thur Lunch    0   5  1   1  0  0\n",
       "              Fri  Lunch    0   3  0   0  0  0\n",
       "                   Dinner   0   4  0   0  0  0\n",
       "              Sat  Dinner   1  11  2   1  0  0\n",
       "              Sun  Dinner   0   2  2   0  0  0\n",
       "       No     Thur Lunch    1  18  1   2  0  2\n",
       "                   Dinner   0   1  0   0  0  0\n",
       "              Fri  Lunch    0   0  1   0  0  0\n",
       "                   Dinner   0   1  0   0  0  0\n",
       "              Sat  Dinner   1   8  3   1  0  0\n",
       "              Sun  Dinner   0   5  4   4  1  0"
      ]
     },
     "execution_count": 47,
     "metadata": {},
     "output_type": "execute_result"
    }
   ],
   "source": [
    "# How many in each of these groups?.\n",
    "df.pivot_table(['tip'], index=['sex', 'smoker', 'day', 'time'], columns='size', aggfunc='count', fill_value=0) # Count group sizes"
   ]
  },
  {
   "cell_type": "markdown",
   "metadata": {},
   "source": [
    "To summarize, we could have run this pivot_table command at the start of the notebook and it would have broken down the dataset into every combination of categorical variable! But it is not easy to read these complicated pivot tables. \n",
    "- The highest average tip is for male non-smokers at lunch on Thursday in a party of six ($\\$6.70$, count = 1).\n",
    "- The lowest average tip occurs for female smokers and non-smokers dining alone at dinner on Saturdays ($\\$1.00$, count = 1 each). "
   ]
  },
  {
   "cell_type": "code",
   "execution_count": 48,
   "metadata": {},
   "outputs": [
    {
     "data": {
      "text/plain": [
       "     size\n",
       "tip  1        1\n",
       "     2       22\n",
       "     3        9\n",
       "     4       12\n",
       "     5        1\n",
       "     6        2\n",
       "dtype: int64"
      ]
     },
     "execution_count": 48,
     "metadata": {},
     "output_type": "execute_result"
    }
   ],
   "source": [
    "# Find max count per group\n",
    "df.pivot_table(['tip'], index=['sex', 'smoker', 'day', 'time'], columns='size', aggfunc='count', fill_value=0).max()"
   ]
  },
  {
   "cell_type": "markdown",
   "metadata": {},
   "source": [
    "Finally, we note that the largest number of observations apply to male, non-smokers, dining with one other person at dinner on Sundays. There are 22 of them. They leave, on average, a tip of $\\$2.59$. This is similar to the average tip left when considering all 244 observations, $\\$2.99.$"
   ]
  },
  {
   "cell_type": "markdown",
   "metadata": {},
   "source": [
    "### 4.3 Does the total bill or tip depend on party size?\n",
    "We will now look for a relationship between total_bill, tip, and size. I would expect there to be one, but what form does it take? We may also analyze the total bill and tip per person."
   ]
  },
  {
   "cell_type": "code",
   "execution_count": 49,
   "metadata": {},
   "outputs": [
    {
     "data": {
      "text/plain": [
       "Text(0, 0.5, 'Total bill')"
      ]
     },
     "execution_count": 49,
     "metadata": {},
     "output_type": "execute_result"
    },
    {
     "data": {
      "image/png": "[encoded data removed]",
      "text/plain": [
       "<Figure size 720x432 with 1 Axes>"
      ]
     },
     "metadata": {},
     "output_type": "display_data"
    }
   ],
   "source": [
    "# plot total_bill vs size\n",
    "plt.plot(df['size'], df['total_bill'], 'g.')\n",
    "plt.title(\"Total bill vs party size\")\n",
    "plt.xlabel(\"Party size\")\n",
    "plt.ylabel(\"Total bill\")"
   ]
  },
  {
   "cell_type": "code",
   "execution_count": 50,
   "metadata": {},
   "outputs": [
    {
     "name": "stdout",
     "output_type": "stream",
     "text": [
      "R squared: 0.358\n"
     ]
    }
   ],
   "source": [
    "# Calculate the correlation matrix to see how these variables are related.\n",
    "# Square off-diagonal element to get Rsquared. [row=0][col=1]\n",
    "print(\"R squared:\", round(np.corrcoef(df['total_bill'], df['size'])[0][1] ** 2, 3))"
   ]
  },
  {
   "cell_type": "markdown",
   "metadata": {},
   "source": [
    "We now calculate the total bill per person and add it to the dataframe as a column."
   ]
  },
  {
   "cell_type": "code",
   "execution_count": 51,
   "metadata": {},
   "outputs": [
    {
     "data": {
      "text/html": [
       "<div>\n",
       "<style scoped>\n",
       "    .dataframe tbody tr th:only-of-type {\n",
       "        vertical-align: middle;\n",
       "    }\n",
       "\n",
       "    .dataframe tbody tr th {\n",
       "        vertical-align: top;\n",
       "    }\n",
       "\n",
       "    .dataframe thead th {\n",
       "        text-align: right;\n",
       "    }\n",
       "</style>\n",
       "<table border=\"1\" class=\"dataframe\">\n",
       "  <thead>\n",
       "    <tr style=\"text-align: right;\">\n",
       "      <th></th>\n",
       "      <th>ftip</th>\n",
       "      <th>total_bill</th>\n",
       "      <th>tip</th>\n",
       "      <th>sex</th>\n",
       "      <th>smoker</th>\n",
       "      <th>day</th>\n",
       "      <th>time</th>\n",
       "      <th>size</th>\n",
       "      <th>bpp</th>\n",
       "    </tr>\n",
       "  </thead>\n",
       "  <tbody>\n",
       "    <tr>\n",
       "      <th>0</th>\n",
       "      <td>0.059447</td>\n",
       "      <td>16.99</td>\n",
       "      <td>1.01</td>\n",
       "      <td>Female</td>\n",
       "      <td>No</td>\n",
       "      <td>Sun</td>\n",
       "      <td>Dinner</td>\n",
       "      <td>2</td>\n",
       "      <td>8.495000</td>\n",
       "    </tr>\n",
       "    <tr>\n",
       "      <th>1</th>\n",
       "      <td>0.160542</td>\n",
       "      <td>10.34</td>\n",
       "      <td>1.66</td>\n",
       "      <td>Male</td>\n",
       "      <td>No</td>\n",
       "      <td>Sun</td>\n",
       "      <td>Dinner</td>\n",
       "      <td>3</td>\n",
       "      <td>3.446667</td>\n",
       "    </tr>\n",
       "    <tr>\n",
       "      <th>2</th>\n",
       "      <td>0.166587</td>\n",
       "      <td>21.01</td>\n",
       "      <td>3.50</td>\n",
       "      <td>Male</td>\n",
       "      <td>No</td>\n",
       "      <td>Sun</td>\n",
       "      <td>Dinner</td>\n",
       "      <td>3</td>\n",
       "      <td>7.003333</td>\n",
       "    </tr>\n",
       "  </tbody>\n",
       "</table>\n",
       "</div>"
      ],
      "text/plain": [
       "       ftip  total_bill   tip     sex smoker  day    time  size       bpp\n",
       "0  0.059447       16.99  1.01  Female     No  Sun  Dinner     2  8.495000\n",
       "1  0.160542       10.34  1.66    Male     No  Sun  Dinner     3  3.446667\n",
       "2  0.166587       21.01  3.50    Male     No  Sun  Dinner     3  7.003333"
      ]
     },
     "execution_count": 51,
     "metadata": {},
     "output_type": "execute_result"
    }
   ],
   "source": [
    "# Calculate the bill per person (bpp) and add it to the data frame.\n",
    "df['bpp'] = df['total_bill'] / df['size']\n",
    "df.head(3)"
   ]
  },
  {
   "cell_type": "markdown",
   "metadata": {},
   "source": [
    "Calculate the tip per person and add it to the dataframe also."
   ]
  },
  {
   "cell_type": "code",
   "execution_count": 52,
   "metadata": {},
   "outputs": [
    {
     "data": {
      "text/html": [
       "<div>\n",
       "<style scoped>\n",
       "    .dataframe tbody tr th:only-of-type {\n",
       "        vertical-align: middle;\n",
       "    }\n",
       "\n",
       "    .dataframe tbody tr th {\n",
       "        vertical-align: top;\n",
       "    }\n",
       "\n",
       "    .dataframe thead th {\n",
       "        text-align: right;\n",
       "    }\n",
       "</style>\n",
       "<table border=\"1\" class=\"dataframe\">\n",
       "  <thead>\n",
       "    <tr style=\"text-align: right;\">\n",
       "      <th></th>\n",
       "      <th>ftip</th>\n",
       "      <th>total_bill</th>\n",
       "      <th>tip</th>\n",
       "      <th>sex</th>\n",
       "      <th>smoker</th>\n",
       "      <th>day</th>\n",
       "      <th>time</th>\n",
       "      <th>size</th>\n",
       "      <th>bpp</th>\n",
       "      <th>tpp</th>\n",
       "    </tr>\n",
       "  </thead>\n",
       "  <tbody>\n",
       "    <tr>\n",
       "      <th>0</th>\n",
       "      <td>0.059447</td>\n",
       "      <td>16.99</td>\n",
       "      <td>1.01</td>\n",
       "      <td>Female</td>\n",
       "      <td>No</td>\n",
       "      <td>Sun</td>\n",
       "      <td>Dinner</td>\n",
       "      <td>2</td>\n",
       "      <td>8.495000</td>\n",
       "      <td>0.505000</td>\n",
       "    </tr>\n",
       "    <tr>\n",
       "      <th>1</th>\n",
       "      <td>0.160542</td>\n",
       "      <td>10.34</td>\n",
       "      <td>1.66</td>\n",
       "      <td>Male</td>\n",
       "      <td>No</td>\n",
       "      <td>Sun</td>\n",
       "      <td>Dinner</td>\n",
       "      <td>3</td>\n",
       "      <td>3.446667</td>\n",
       "      <td>0.553333</td>\n",
       "    </tr>\n",
       "    <tr>\n",
       "      <th>2</th>\n",
       "      <td>0.166587</td>\n",
       "      <td>21.01</td>\n",
       "      <td>3.50</td>\n",
       "      <td>Male</td>\n",
       "      <td>No</td>\n",
       "      <td>Sun</td>\n",
       "      <td>Dinner</td>\n",
       "      <td>3</td>\n",
       "      <td>7.003333</td>\n",
       "      <td>1.166667</td>\n",
       "    </tr>\n",
       "  </tbody>\n",
       "</table>\n",
       "</div>"
      ],
      "text/plain": [
       "       ftip  total_bill   tip     sex smoker  day    time  size       bpp  \\\n",
       "0  0.059447       16.99  1.01  Female     No  Sun  Dinner     2  8.495000   \n",
       "1  0.160542       10.34  1.66    Male     No  Sun  Dinner     3  3.446667   \n",
       "2  0.166587       21.01  3.50    Male     No  Sun  Dinner     3  7.003333   \n",
       "\n",
       "        tpp  \n",
       "0  0.505000  \n",
       "1  0.553333  \n",
       "2  1.166667  "
      ]
     },
     "execution_count": 52,
     "metadata": {},
     "output_type": "execute_result"
    }
   ],
   "source": [
    "# Calculate the tip per person (tpp) and add it to the data frame.\n",
    "df['tpp'] = df['tip'] / df['size']\n",
    "df.head(3)"
   ]
  },
  {
   "cell_type": "markdown",
   "metadata": {},
   "source": [
    "**Use pandas groupby to find the average of each variable for each party size.**"
   ]
  },
  {
   "cell_type": "code",
   "execution_count": 53,
   "metadata": {},
   "outputs": [
    {
     "data": {
      "text/html": [
       "<div>\n",
       "<style scoped>\n",
       "    .dataframe tbody tr th:only-of-type {\n",
       "        vertical-align: middle;\n",
       "    }\n",
       "\n",
       "    .dataframe tbody tr th {\n",
       "        vertical-align: top;\n",
       "    }\n",
       "\n",
       "    .dataframe thead th {\n",
       "        text-align: right;\n",
       "    }\n",
       "</style>\n",
       "<table border=\"1\" class=\"dataframe\">\n",
       "  <thead>\n",
       "    <tr style=\"text-align: right;\">\n",
       "      <th></th>\n",
       "      <th>size</th>\n",
       "      <th>ftip</th>\n",
       "      <th>total_bill</th>\n",
       "      <th>tip</th>\n",
       "      <th>bpp</th>\n",
       "      <th>tpp</th>\n",
       "    </tr>\n",
       "  </thead>\n",
       "  <tbody>\n",
       "    <tr>\n",
       "      <th>0</th>\n",
       "      <td>1</td>\n",
       "      <td>0.217292</td>\n",
       "      <td>7.242500</td>\n",
       "      <td>1.437500</td>\n",
       "      <td>7.242500</td>\n",
       "      <td>1.437500</td>\n",
       "    </tr>\n",
       "    <tr>\n",
       "      <th>1</th>\n",
       "      <td>2</td>\n",
       "      <td>0.165719</td>\n",
       "      <td>16.448013</td>\n",
       "      <td>2.582308</td>\n",
       "      <td>8.224006</td>\n",
       "      <td>1.291154</td>\n",
       "    </tr>\n",
       "    <tr>\n",
       "      <th>2</th>\n",
       "      <td>3</td>\n",
       "      <td>0.152157</td>\n",
       "      <td>23.277632</td>\n",
       "      <td>3.393158</td>\n",
       "      <td>7.759211</td>\n",
       "      <td>1.131053</td>\n",
       "    </tr>\n",
       "    <tr>\n",
       "      <th>3</th>\n",
       "      <td>4</td>\n",
       "      <td>0.145949</td>\n",
       "      <td>28.613514</td>\n",
       "      <td>4.135405</td>\n",
       "      <td>7.153378</td>\n",
       "      <td>1.033851</td>\n",
       "    </tr>\n",
       "    <tr>\n",
       "      <th>4</th>\n",
       "      <td>5</td>\n",
       "      <td>0.141495</td>\n",
       "      <td>30.068000</td>\n",
       "      <td>4.028000</td>\n",
       "      <td>6.013600</td>\n",
       "      <td>0.805600</td>\n",
       "    </tr>\n",
       "    <tr>\n",
       "      <th>5</th>\n",
       "      <td>6</td>\n",
       "      <td>0.156229</td>\n",
       "      <td>34.830000</td>\n",
       "      <td>5.225000</td>\n",
       "      <td>5.805000</td>\n",
       "      <td>0.870833</td>\n",
       "    </tr>\n",
       "  </tbody>\n",
       "</table>\n",
       "</div>"
      ],
      "text/plain": [
       "   size      ftip  total_bill       tip       bpp       tpp\n",
       "0     1  0.217292    7.242500  1.437500  7.242500  1.437500\n",
       "1     2  0.165719   16.448013  2.582308  8.224006  1.291154\n",
       "2     3  0.152157   23.277632  3.393158  7.759211  1.131053\n",
       "3     4  0.145949   28.613514  4.135405  7.153378  1.033851\n",
       "4     5  0.141495   30.068000  4.028000  6.013600  0.805600\n",
       "5     6  0.156229   34.830000  5.225000  5.805000  0.870833"
      ]
     },
     "execution_count": 53,
     "metadata": {},
     "output_type": "execute_result"
    }
   ],
   "source": [
    "# I'd like average values of everything for each size; create a new dataframe with results.\n",
    "# Got stuck here for a bit until I reset_index() so that size could be a column name in the result. \n",
    "df1 = df.groupby(['size']).mean().reset_index()\n",
    "df1 #check"
   ]
  },
  {
   "cell_type": "markdown",
   "metadata": {},
   "source": [
    "**How does the average total bill per person vary with party size?**"
   ]
  },
  {
   "cell_type": "code",
   "execution_count": 54,
   "metadata": {},
   "outputs": [
    {
     "name": "stdout",
     "output_type": "stream",
     "text": [
      "Polyfit: m = -0.412130, c = 8.475404.\n"
     ]
    }
   ],
   "source": [
    "# Do simple linear regression using polyfit\n",
    "fit = np.polyfit(df1['size'], df1['bpp'], 1)\n",
    "m, c = fit[0], fit[1]\n",
    "print(\"Polyfit: m = %8.6f, c = %6.6f.\" % (m, c))"
   ]
  },
  {
   "cell_type": "code",
   "execution_count": 55,
   "metadata": {},
   "outputs": [
    {
     "name": "stdout",
     "output_type": "stream",
     "text": [
      "R squared: 0.653\n"
     ]
    }
   ],
   "source": [
    "# correlation coefficient\n",
    "print(\"R squared:\", round(np.corrcoef(df1['size'], df1['bpp'])[0][1] ** 2, 3))"
   ]
  },
  {
   "cell_type": "code",
   "execution_count": 56,
   "metadata": {},
   "outputs": [
    {
     "data": {
      "text/plain": [
       "<matplotlib.legend.Legend at 0x2a27428d5c0>"
      ]
     },
     "execution_count": 56,
     "metadata": {},
     "output_type": "execute_result"
    },
    {
     "data": {
      "image/png": "[encoded data removed]",
      "text/plain": [
       "<Figure size 720x432 with 1 Axes>"
      ]
     },
     "metadata": {},
     "output_type": "display_data"
    }
   ],
   "source": [
    "# Plot fitted line with the data.\n",
    "x = np.arange(0.0, 7.0, 1.0)\n",
    "#print(m)\n",
    "#print(c)\n",
    "plt.plot(x, m * x + c, 'g-', label=\"fit\")\n",
    "plt.plot(df1['size'], df1['bpp'], '.g', markersize=20, label=\"data\")\n",
    "\n",
    "plt.title('Avg total_bill per person as a function of party size', fontsize='14')\n",
    "plt.xlabel('Party size', fontsize='14')\n",
    "plt.ylabel('Avg total_bill per person', fontsize='14')\n",
    "plt.legend()\n",
    "\n",
    "## Save the plot if required.\n",
    "#plt.savefig(\"images/LSQbpp.png\")"
   ]
  },
  {
   "cell_type": "markdown",
   "metadata": {},
   "source": [
    "What can we say about this plot? There is a downward trend to the average total bill per person as the party size increases. That isn't really what I was expecting. The data is fit well with a straight line ($R^2 = 0.653$), bearing in mind that there are only a handful of observations for party sizes of 1, 5, and 6. So, as party size increases, the average amount spent per person decreases. "
   ]
  },
  {
   "cell_type": "markdown",
   "metadata": {},
   "source": [
    "**How does the average tip per person vary with party size?**"
   ]
  },
  {
   "cell_type": "code",
   "execution_count": 57,
   "metadata": {},
   "outputs": [
    {
     "name": "stdout",
     "output_type": "stream",
     "text": [
      "Polyfit: m = -0.125348, c = 1.533718.\n"
     ]
    }
   ],
   "source": [
    "# Do simple linear regression using polyfit\n",
    "fit2 = np.polyfit(df1['size'], df1['tpp'], 1)\n",
    "m2, c2 = fit2[0], fit2[1]\n",
    "print(\"Polyfit: m = %8.6f, c = %6.6f.\" % (m2, c2))"
   ]
  },
  {
   "cell_type": "code",
   "execution_count": 58,
   "metadata": {},
   "outputs": [
    {
     "name": "stdout",
     "output_type": "stream",
     "text": [
      "R squared: 0.933\n"
     ]
    }
   ],
   "source": [
    "# correlation coefficient\n",
    "print(\"R squared:\", round(np.corrcoef(df1['size'], df1['tpp'])[0][1] ** 2, 3))"
   ]
  },
  {
   "cell_type": "markdown",
   "metadata": {},
   "source": [
    "Oooh, a very good fit."
   ]
  },
  {
   "cell_type": "code",
   "execution_count": 59,
   "metadata": {},
   "outputs": [
    {
     "data": {
      "text/plain": [
       "<matplotlib.legend.Legend at 0x2a27414c278>"
      ]
     },
     "execution_count": 59,
     "metadata": {},
     "output_type": "execute_result"
    },
    {
     "data": {
      "image/png": "[encoded data removed]",
      "text/plain": [
       "<Figure size 720x432 with 1 Axes>"
      ]
     },
     "metadata": {},
     "output_type": "display_data"
    }
   ],
   "source": [
    "# Plot fitted line with the data for average tip per person vs size.\n",
    "x = np.arange(0.0, 7.0, 1.0)\n",
    "plt.plot(x, m2 * x + c2, 'r-', label=\"fit\")\n",
    "\n",
    "plt.plot(df1['size'], df1['tpp'], 'sr', markersize=10, label=\"data\")\n",
    "\n",
    "plt.title('Avg tip per person as a function of party size', fontsize='14')\n",
    "plt.xlabel('Party size', fontsize='14')\n",
    "plt.ylabel('Avg tip per person', fontsize='14')\n",
    "plt.legend()\n",
    "\n",
    "## Save the plot if required.\n",
    "#plt.savefig(\"images/LSQtpp.png\")"
   ]
  },
  {
   "cell_type": "markdown",
   "metadata": {},
   "source": [
    "What can we conclude from this plot? There is a clear decrease in average tip per person as party size increases. The data is fit very well with a straight line ($R^2 = 0.933$), bearing in mind that there are only a handful of observations for party sizes of 1, 5, and 6. "
   ]
  },
  {
   "cell_type": "markdown",
   "metadata": {},
   "source": [
    "**Take a quick look at the distribution of tips per diner**"
   ]
  },
  {
   "cell_type": "code",
   "execution_count": 60,
   "metadata": {},
   "outputs": [
    {
     "data": {
      "text/plain": [
       "[Text(0, 0.5, 'frequency'), Text(0.5, 0, 'tpp')]"
      ]
     },
     "execution_count": 60,
     "metadata": {},
     "output_type": "execute_result"
    },
    {
     "data": {
      "image/png": "[encoded data removed]",
      "text/plain": [
       "<Figure size 720x432 with 1 Axes>"
      ]
     },
     "metadata": {},
     "output_type": "display_data"
    }
   ],
   "source": [
    "#plt.hist(df['tpp'], 50, density=True, facecolor='b', alpha=0.75)\n",
    "ax = sns.distplot(df['tpp'], bins=20, kde=False, fit=stats.rayleigh)\n",
    "ax.set(xlabel= 'tpp', ylabel= 'frequency')"
   ]
  },
  {
   "cell_type": "markdown",
   "metadata": {},
   "source": [
    "Looks like the distribution of tips per person is not symmetrical, but is slightly skewed towards higher values. I played around with distributions from the SciPy statistics package until I found one that looks ok on top of the histogram. It doesn't mean that's actually the correct distribution to use to model tip per person."
   ]
  },
  {
   "cell_type": "markdown",
   "metadata": {},
   "source": [
    "### 4.4 Classification"
   ]
  },
  {
   "cell_type": "markdown",
   "metadata": {},
   "source": [
    "As we approach the end of the notebook, I want to see if we use the numeric variables to predict sex say? Or any of the other categorical variables?"
   ]
  },
  {
   "cell_type": "markdown",
   "metadata": {},
   "source": []
  },
  {
   "cell_type": "code",
   "execution_count": 61,
   "metadata": {},
   "outputs": [],
   "source": [
    "import sklearn.neighbors as nei\n",
    "import sklearn.model_selection as mod\n",
    "import sklearn.metrics as metrics"
   ]
  },
  {
   "cell_type": "markdown",
   "metadata": {},
   "source": []
  },
  {
   "cell_type": "code",
   "execution_count": 76,
   "metadata": {},
   "outputs": [],
   "source": [
    "inputs = df[['tip', 'total_bill', 'size']]\n",
    "#inputs = df[['ftip', 'size']]\n",
    "outputs = df['sex']"
   ]
  },
  {
   "cell_type": "markdown",
   "metadata": {},
   "source": [
    "If test size is 0.25 then 61 of 244 observations are kept aside for testing our classifier. A perfect classifier would get 61 correct."
   ]
  },
  {
   "cell_type": "code",
   "execution_count": 77,
   "metadata": {},
   "outputs": [],
   "source": [
    "# Split the data so that 25% kept aside for testing, 75% for training in this supervised model.\n",
    "# Data assigned randomly to training and testing sets.\n",
    "inputs_train, inputs_test, outputs_train, outputs_test = mod.train_test_split(inputs, outputs, test_size=0.25)"
   ]
  },
  {
   "cell_type": "markdown",
   "metadata": {},
   "source": []
  },
  {
   "cell_type": "code",
   "execution_count": 78,
   "metadata": {},
   "outputs": [
    {
     "data": {
      "text/plain": [
       "KNeighborsClassifier(algorithm='auto', leaf_size=30, metric='minkowski',\n",
       "                     metric_params=None, n_jobs=None, n_neighbors=5, p=2,\n",
       "                     weights='uniform')"
      ]
     },
     "execution_count": 78,
     "metadata": {},
     "output_type": "execute_result"
    }
   ],
   "source": [
    "# Train the model with the training data.\n",
    "knn = nei.KNeighborsClassifier(n_neighbors=5)\n",
    "knn.fit(inputs_train, outputs_train)"
   ]
  },
  {
   "cell_type": "code",
   "execution_count": 79,
   "metadata": {},
   "outputs": [
    {
     "name": "stdout",
     "output_type": "stream",
     "text": [
      "Accuracy score:  0.6229508196721312\n"
     ]
    }
   ],
   "source": [
    "# What outputs are predicted by the model for the test inputs?\n",
    "outputs_pred = knn.predict(inputs_test)\n",
    "print(\"Accuracy score: \", metrics.accuracy_score(outputs_test, outputs_pred))\n",
    "\n",
    "## Get the same answer from this calculation\n",
    "## inputs_test.shape[0]\n",
    "# ((knn.predict(inputs_test) == outputs_test).sum()) / inputs_test.shape[0]"
   ]
  },
  {
   "cell_type": "markdown",
   "metadata": {},
   "source": [
    "If test size is 0.25 then 61 of 244 observations are kept aside for testing our classifier. A perfect classifier would get 61 correct. "
   ]
  },
  {
   "cell_type": "markdown",
   "metadata": {},
   "source": [
    "**Try classification with a subset?**\n",
    "\n",
    "In the section on regression, we got high $R^2$ values on selecting the non-smoker subset of the data set. For classification, can we get better predictions from a subset of diners? I'm not sure how the performance of a classifier might be changed by doing that. I feel we should do better with a subset, provided we pick the correct one, but it also doesn't make sense to train the model with less data. So I'm not sure what to expect here. \n",
    "EDIT: Day=fri, pred time? Too few diners.\n",
    "\n",
    "I'm trying to predict sex from tip, total_bill, and size, but am only considering non-smokers OR whatever."
   ]
  },
  {
   "cell_type": "markdown",
   "metadata": {},
   "source": [
    "**What do histograms of these type of diners look like?**"
   ]
  },
  {
   "cell_type": "code",
   "execution_count": 101,
   "metadata": {},
   "outputs": [
    {
     "name": "stdout",
     "output_type": "stream",
     "text": [
      "(60, 10)\n",
      "(33, 10)\n"
     ]
    },
    {
     "data": {
      "text/plain": [
       "<matplotlib.legend.Legend at 0x2a2777d9fd0>"
      ]
     },
     "execution_count": 101,
     "metadata": {},
     "output_type": "execute_result"
    },
    {
     "data": {
      "image/png": "[encoded data removed]",
      "text/plain": [
       "<Figure size 720x432 with 1 Axes>"
      ]
     },
     "metadata": {},
     "output_type": "display_data"
    }
   ],
   "source": [
    "print(df.loc[(df['sex'] == 'Male') & (df['smoker'] == 'Yes')].shape)\n",
    "print(df.loc[(df['sex'] == 'Female') & (df['smoker'] == 'Yes')].shape)\n",
    "\n",
    "plt.hist(df.loc[(df['sex'] == 'Male') & (df['smoker'] == 'Yes')]['ftip'], 40, density=True, facecolor='b', alpha=0.5, label=\"1\")\n",
    "plt.hist(df.loc[(df['sex'] == 'Female') & (df['smoker'] == 'Yes')]['ftip'], 20, density=True, facecolor='r', alpha=0.5, label=\"2\")\n",
    "plt.legend()"
   ]
  },
  {
   "cell_type": "markdown",
   "metadata": {},
   "source": [
    "Any comment on this?"
   ]
  },
  {
   "cell_type": "code",
   "execution_count": 103,
   "metadata": {},
   "outputs": [
    {
     "name": "stdout",
     "output_type": "stream",
     "text": [
      "(93, 10)\n",
      "(93, 1)\n",
      "(93,)\n"
     ]
    }
   ],
   "source": [
    "smoke = df.loc[df['smoker'] == 'Yes']\n",
    "print(smoke.shape)\n",
    "inputs = smoke[['ftip']]\n",
    "#inputs = smoke[['tip', 'total_bill', 'size']]\n",
    "print(inputs.shape)\n",
    "outputs = smoke['time']\n",
    "print(outputs.shape)"
   ]
  },
  {
   "cell_type": "code",
   "execution_count": 104,
   "metadata": {},
   "outputs": [],
   "source": [
    "inputs_train, inputs_test, outputs_train, outputs_test = mod.train_test_split(inputs, outputs, test_size=0.25)"
   ]
  },
  {
   "cell_type": "code",
   "execution_count": 105,
   "metadata": {},
   "outputs": [
    {
     "data": {
      "text/plain": [
       "KNeighborsClassifier(algorithm='auto', leaf_size=30, metric='minkowski',\n",
       "                     metric_params=None, n_jobs=None, n_neighbors=5, p=2,\n",
       "                     weights='uniform')"
      ]
     },
     "execution_count": 105,
     "metadata": {},
     "output_type": "execute_result"
    }
   ],
   "source": [
    "knn = nei.KNeighborsClassifier(n_neighbors=5)\n",
    "knn.fit(inputs_train, outputs_train)"
   ]
  },
  {
   "cell_type": "code",
   "execution_count": 106,
   "metadata": {},
   "outputs": [
    {
     "name": "stdout",
     "output_type": "stream",
     "text": [
      "Accuracy score:  0.625\n"
     ]
    }
   ],
   "source": [
    "outputs_pred = knn.predict(inputs_test)\n",
    "#outputs_pred\n",
    "print(\"Accuracy score: \", metrics.accuracy_score(outputs_test, outputs_pred))"
   ]
  },
  {
   "cell_type": "markdown",
   "metadata": {},
   "source": [
    "Convert cat vars to 0,1 to use in model"
   ]
  },
  {
   "cell_type": "code",
   "execution_count": 71,
   "metadata": {},
   "outputs": [
    {
     "data": {
      "text/plain": [
       "ftip           float64\n",
       "total_bill     float64\n",
       "tip            float64\n",
       "sex           category\n",
       "smoker        category\n",
       "day           category\n",
       "time          category\n",
       "size             int64\n",
       "bpp            float64\n",
       "tpp            float64\n",
       "dtype: object"
      ]
     },
     "execution_count": 71,
     "metadata": {},
     "output_type": "execute_result"
    }
   ],
   "source": [
    "df.dtypes"
   ]
  },
  {
   "cell_type": "markdown",
   "metadata": {},
   "source": [
    "Histograms of subsets to check possibility of separation?"
   ]
  },
  {
   "cell_type": "code",
   "execution_count": 72,
   "metadata": {},
   "outputs": [
    {
     "data": {
      "text/plain": [
       "(array([0.56641739, 3.96492175, 6.04178552, 8.68506669, 6.23059132,\n",
       "        2.83208696, 0.75522319, 0.3776116 , 0.        , 0.        ,\n",
       "        0.        , 0.        , 0.        , 0.        , 0.        ,\n",
       "        0.        , 0.        , 0.        , 0.        , 0.1888058 ]),\n",
       " array([0.03563814, 0.06937347, 0.10310881, 0.13684414, 0.17057947,\n",
       "        0.20431481, 0.23805014, 0.27178548, 0.30552081, 0.33925615,\n",
       "        0.37299148, 0.40672682, 0.44046215, 0.47419749, 0.50793282,\n",
       "        0.54166815, 0.57540349, 0.60913882, 0.64287416, 0.67660949,\n",
       "        0.71034483]),\n",
       " <a list of 20 Patch objects>)"
      ]
     },
     "execution_count": 72,
     "metadata": {},
     "output_type": "execute_result"
    },
    {
     "data": {
      "image/png": "[encoded data removed]",
      "text/plain": [
       "<Figure size 720x432 with 1 Axes>"
      ]
     },
     "metadata": {},
     "output_type": "display_data"
    }
   ],
   "source": [
    "plt.hist(df.loc[(df['sex'] == 'Female')]['ftip'], 20, density=True, facecolor='b', alpha=0.5)\n",
    "plt.hist(df.loc[(df['sex'] == 'Male')]['ftip'], 20, density=True, facecolor='r', alpha=0.5)\n"
   ]
  },
  {
   "cell_type": "code",
   "execution_count": 73,
   "metadata": {},
   "outputs": [
    {
     "name": "stdout",
     "output_type": "stream",
     "text": [
      "(93, 10)\n",
      "(151, 10)\n"
     ]
    },
    {
     "data": {
      "text/plain": [
       "(array([ 1.12631187,  1.6894678 ,  0.56315593,  3.3789356 ,  1.6894678 ,\n",
       "         7.88418306,  6.75787119, 16.33152205,  9.57365086,  6.75787119,\n",
       "         8.44733899,  6.19471526,  7.32102713,  2.25262373,  2.25262373,\n",
       "         1.12631187,  0.56315593,  0.56315593,  0.        ,  0.56315593]),\n",
       " array([0.05679667, 0.06855632, 0.08031597, 0.09207562, 0.10383527,\n",
       "        0.11559492, 0.12735457, 0.13911422, 0.15087387, 0.16263352,\n",
       "        0.17439317, 0.18615282, 0.19791247, 0.20967212, 0.22143177,\n",
       "        0.23319142, 0.24495106, 0.25671071, 0.26847036, 0.28023001,\n",
       "        0.29198966]),\n",
       " <a list of 20 Patch objects>)"
      ]
     },
     "execution_count": 73,
     "metadata": {},
     "output_type": "execute_result"
    },
    {
     "data": {
      "image/png": "[encoded data removed]",
      "text/plain": [
       "<Figure size 720x432 with 1 Axes>"
      ]
     },
     "metadata": {},
     "output_type": "display_data"
    }
   ],
   "source": [
    "print(df.loc[(df['smoker'] == 'Yes')].shape)\n",
    "print(df.loc[(df['smoker'] == 'No')].shape)\n",
    "\n",
    "plt.hist(df.loc[(df['smoker'] == 'Yes')]['ftip'], 20, density=True, facecolor='b', alpha=0.5)\n",
    "plt.hist(df.loc[(df['smoker'] == 'No')]['ftip'], 20, density=True, facecolor='r', alpha=0.5)"
   ]
  },
  {
   "cell_type": "code",
   "execution_count": null,
   "metadata": {},
   "outputs": [],
   "source": []
  },
  {
   "cell_type": "code",
   "execution_count": null,
   "metadata": {},
   "outputs": [],
   "source": []
  },
  {
   "cell_type": "markdown",
   "metadata": {},
   "source": [
    "Notes: \n",
    "- Why do this? Regression results above had largest $R^2$ and slope for non-smokers, regardless of sex. Same for day=Thur. Does this suggest a good subset of the data to use for reliable prediction? done\n",
    "- Do smokers tip more than non-smokers? done\n",
    "- Do men tip less than women?  done\n",
    "- spend/person as function of size. done\n",
    "- Does the day of the week matter at all? done\n",
    "- Maybe explore relationship, if any, between tip and gender, party size etc. \n",
    "\n",
    "- What factors contribute to higher tips?\n",
    "- Are diners more likely to leave a large tip if they eat in the evening as part of a large group, rather than at lunch with a single friend? Answer in write up on pivot table.\n",
    "- Lin reg using all cat vars? If time at very end."
   ]
  },
  {
   "cell_type": "code",
   "execution_count": null,
   "metadata": {},
   "outputs": [],
   "source": []
  }
 ],
 "metadata": {
  "kernelspec": {
   "display_name": "Python 3",
   "language": "python",
   "name": "python3"
  },
  "language_info": {
   "codemirror_mode": {
    "name": "ipython",
    "version": 3
   },
   "file_extension": ".py",
   "mimetype": "text/x-python",
   "name": "python",
   "nbconvert_exporter": "python",
   "pygments_lexer": "ipython3",
   "version": "3.7.3"
  }
 },
 "nbformat": 4,
 "nbformat_minor": 2
}
